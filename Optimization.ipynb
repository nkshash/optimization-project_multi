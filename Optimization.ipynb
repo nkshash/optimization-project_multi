{
  "cells": [
    {
      "cell_type": "code",
      "execution_count": null,
      "metadata": {
        "colab": {
          "base_uri": "https://localhost:8080/"
        },
        "id": "hqxi4RXonslW",
        "outputId": "4b5d78c8-2d28-4e65-f423-22e41bf0a4f8"
      },
      "outputs": [
        {
          "name": "stdout",
          "output_type": "stream",
          "text": [
            "shashank\n"
          ]
        }
      ],
      "source": [
        "print('shashank')"
      ]
    },
    {
      "cell_type": "code",
      "execution_count": null,
      "metadata": {
        "id": "aNrOxY4mPcm1"
      },
      "outputs": [],
      "source": [
        "#libraries\n",
        "import math as m"
      ]
    },
    {
      "cell_type": "code",
      "execution_count": null,
      "metadata": {
        "colab": {
          "base_uri": "https://localhost:8080/"
        },
        "id": "9CcNrisjO4Mm",
        "outputId": "646842a4-459f-417b-e2be-f9abc0ddeca4"
      },
      "outputs": [
        {
          "name": "stdout",
          "output_type": "stream",
          "text": [
            "Enter the wind speed in meter/second 15.2778\n",
            "Enter the radius of blade in metre63.75\n",
            "enter the generator efficiency0.9\n",
            "enter the no of winds turbine in one plant300\n"
          ]
        }
      ],
      "source": [
        "#energy for wind turbine\n",
        "v=float(input(\"Enter the wind speed in meter/second \"))\n",
        "r=float(input(\"Enter the radius of blade in metre\"))\n",
        "a=m.pi*(r**2)\n",
        "cp=0.59 #Betz Limit\n",
        "cg=float(input(\"enter the generator efficiency\"))\n",
        "nt=int(input(\"enter the no of winds turbine in one plant\"))\n",
        "rho=1.1906 \n",
        "pw=0.5*rho*a*(v**3)*cp*cg*nt*2.7777*(10**(-7))\n",
        "\n",
        "#environmental ascept\n",
        "enw=7.5*(10**5) + 12*(10**7)*pw*365*24\n",
        "#economical effect\n",
        "ecw=1600*pw*365*24"
      ]
    },
    {
      "cell_type": "code",
      "execution_count": null,
      "metadata": {
        "colab": {
          "base_uri": "https://localhost:8080/"
        },
        "id": "vOOONLPn4R6y",
        "outputId": "ebc90429-b180-40b4-9af4-62e402d36a19"
      },
      "outputs": [
        {
          "output_type": "stream",
          "name": "stdout",
          "text": [
            "1199.3051796776335\n",
            "1260709605627128.2\n",
            "16809461398.361713\n"
          ]
        }
      ],
      "source": [
        "print(pw)\n",
        "print(enw)\n",
        "print(ecw)"
      ]
    },
    {
      "cell_type": "code",
      "execution_count": null,
      "metadata": {
        "colab": {
          "base_uri": "https://localhost:8080/"
        },
        "id": "Emfdzd4jRmJs",
        "outputId": "0d2bdc04-e017-4a72-bdd9-059d1839b8ad"
      },
      "outputs": [
        {
          "name": "stdout",
          "output_type": "stream",
          "text": [
            "input efficiency of solar plant because of loss0.9\n",
            "input area of solar panel in m^21.7\n",
            "solar panel yield %15.6\n",
            "performance ratio0.75\n",
            "annual average solar radiation1361\n",
            "no of solar plates in one plant6000\n"
          ]
        }
      ],
      "source": [
        "#for solar panel r is solar panel yield (%), H is annual average solar radiation on tilted panels and PR = Performan...\n",
        "\n",
        "\n",
        "nefso=float(input(\"input efficiency of solar plant because of loss\"))\n",
        "AreaSo=float(input(\"input area of solar panel in m^2\"))\n",
        "RSo=float(input(\"solar panel yield %\"))\n",
        "PR=float(input(\"performance ratio\"))\n",
        "H=float(input(\"annual average solar radiation\"))\n",
        "Numberso=int(input(\"no of solar plates in one plant\"))\n",
        "pso=nefso*AreaSo*RSo*PR*H*Numberso*2.7777*(10**(-7))\n",
        "\n",
        "#environmental ascept\n",
        "enso=19*(10**5) + 40*(10**7)*pso*365*24\n",
        "#economical effect\n",
        "ecso=830*pso*365*24"
      ]
    },
    {
      "cell_type": "code",
      "execution_count": null,
      "metadata": {
        "colab": {
          "base_uri": "https://localhost:8080/"
        },
        "id": "K1JKKY3i8lDt",
        "outputId": "805f2c85-c38c-4d9d-e995-460b0e5e4a7c"
      },
      "outputs": [
        {
          "output_type": "stream",
          "name": "stdout",
          "text": [
            "40.604298047819995\n",
            "142277462259561.28\n",
            "295225730.24608964\n"
          ]
        }
      ],
      "source": [
        "print(pso)\n",
        "print(enso)\n",
        "print(ecso)"
      ]
    },
    {
      "cell_type": "code",
      "execution_count": null,
      "metadata": {
        "colab": {
          "base_uri": "https://localhost:8080/"
        },
        "id": "0PTOdouHS9pS",
        "outputId": "a4502ee1-9ca7-409e-f391-670840ec04e9"
      },
      "outputs": [
        {
          "name": "stdout",
          "output_type": "stream",
          "text": [
            "mass of coal used per second in tonnes2.7\n",
            "input efficiency of coal power plant0.33\n",
            "input calorific value of coal in Mj/kg28.5\n"
          ]
        }
      ],
      "source": [
        "#for coal\n",
        "mcoal=float(input(\"mass of coal used per second in tonnes\"))\n",
        "nefc=float(input(\"input efficiency of coal power plant\"))\n",
        "caf=float(input(\"input calorific value of coal in Mj/kg\"))\n",
        "pco=nefc*mcoal*caf*1000000*2.7777*(10**(-7))\n",
        "\n",
        "#environmental ascept\n",
        "enco=15*(10**5) + 1011.511*(10**7)*pco*365*24\n",
        "#economical effect\n",
        "ecco=3500*pco*365*24"
      ]
    },
    {
      "cell_type": "code",
      "execution_count": null,
      "metadata": {
        "colab": {
          "base_uri": "https://localhost:8080/"
        },
        "id": "aQumVSx59K1R",
        "outputId": "03f97cfa-c58d-4009-8714-6969f6373464"
      },
      "outputs": [
        {
          "output_type": "stream",
          "name": "stdout",
          "text": [
            "7.053552495\n",
            "625003745648647.1\n",
            "216261919.49670005\n"
          ]
        }
      ],
      "source": [
        "print(pco)\n",
        "print(enco)\n",
        "print(ecco)"
      ]
    },
    {
      "cell_type": "code",
      "execution_count": null,
      "metadata": {
        "colab": {
          "base_uri": "https://localhost:8080/"
        },
        "id": "BvHC9ls1TBu6",
        "outputId": "fd9be624-fdea-44d0-8f2c-0973d902554b"
      },
      "outputs": [
        {
          "name": "stdout",
          "output_type": "stream",
          "text": [
            "litre of crude oil0.33\n",
            "input efficiency of oil plant0.3028\n",
            "input calorific value of crude oil Mj/Kg850\n"
          ]
        }
      ],
      "source": [
        "#for petroleum\n",
        "mpet=float(input(\"litre of crude oil per second\"))\n",
        "nefp=float(input(\"input efficiency of oil plant\"))\n",
        "cafp=float(input(\"input calorific value of crude oil Mj/Kg\"))\n",
        "densitycrude=850\n",
        "ppe=nefp*mpet*cafp*densitycrude*1000000*2.7777*(10**(-7))\n",
        "\n",
        "#environmental ascept\n",
        "enpe=15*(10**5) + 966.1517*(10**7)*ppe*365*24\n",
        "#economical effect\n",
        "ecpe=600*ppe*365*24"
      ]
    },
    {
      "cell_type": "code",
      "execution_count": null,
      "metadata": {
        "colab": {
          "base_uri": "https://localhost:8080/"
        },
        "id": "40Ww6yYv9L4i",
        "outputId": "c8c3f2e2-ebfc-4253-8dec-2b3608713080"
      },
      "outputs": [
        {
          "output_type": "stream",
          "name": "stdout",
          "text": [
            "20053.630149300003\n",
            "1.6972367601302687e+18\n",
            "105401880064.7208\n"
          ]
        }
      ],
      "source": [
        "print(ppe)\n",
        "print(enpe)\n",
        "print(ecpe)"
      ]
    },
    {
      "cell_type": "code",
      "execution_count": null,
      "metadata": {
        "colab": {
          "base_uri": "https://localhost:8080/"
        },
        "id": "C3AnDzwHTE1x",
        "outputId": "2ef12da8-9812-49ed-efc2-d0aba4b23e08"
      },
      "outputs": [
        {
          "name": "stdout",
          "output_type": "stream",
          "text": [
            "volume of natural gas in litre28.2\n",
            "input efficiency of natural gas plant0.8\n",
            "input calorific value of natural gas0.97\n"
          ]
        }
      ],
      "source": [
        "#for natural gas\n",
        "mng=float(input(\"volume of natural gas in litre\"))\n",
        "nefng=float(input(\"input efficiency of natural gas plant\"))\n",
        "cafng=float(input(\"input calorific value of natural gas\"))\n",
        "densitygas=0.97\n",
        "png=nefng*mng*densitygas*cafng*1000000*2.7777*(10**(-7))\n",
        "\n",
        "#environmental ascept\n",
        "enng=1*(10**5) + 412.7691*(10**7)*png*365*24\n",
        "#economical effect\n",
        "ecng=710*png*365*24"
      ]
    },
    {
      "cell_type": "code",
      "execution_count": null,
      "metadata": {
        "colab": {
          "base_uri": "https://localhost:8080/"
        },
        "id": "RuEBDl9n9M7l",
        "outputId": "c2a16c1c-bc86-49b4-dcdb-b0abe1682438"
      },
      "outputs": [
        {
          "output_type": "stream",
          "name": "stdout",
          "text": [
            "5.896141570079999\n",
            "213196066423454.94\n",
            "36671642.10926956\n"
          ]
        }
      ],
      "source": [
        "print(png)\n",
        "print(enng)\n",
        "print(ecng)"
      ]
    },
    {
      "cell_type": "code",
      "execution_count": null,
      "metadata": {
        "colab": {
          "base_uri": "https://localhost:8080/"
        },
        "id": "crYEUknSTHxo",
        "outputId": "72819fa7-b84b-4476-f467-d1294efc67e5"
      },
      "outputs": [
        {
          "name": "stdout",
          "output_type": "stream",
          "text": [
            "height of hydroplant20\n",
            "enter area of plant11240.9530\n",
            "efficiency of hydroplant0.54\n"
          ]
        }
      ],
      "source": [
        "#for hydropower plant\n",
        "height=float(input(\"height of hydroplant\"))\n",
        "area=float(input(\"enter area of plant\"))\n",
        "neffhydro=float(input(\"efficiency of hydroplant\"))\n",
        "phydro=neffhydro*1000*area*9.81*0.9*0.9*height*height*2.7777*(10**(-7))\n",
        "\n",
        "#environmental ascept\n",
        "enhydro=33*(10**5) + 24*(10**7)*phydro*365*24\n",
        "#economical effect\n",
        "echydro=2752*phydro*365*24"
      ]
    },
    {
      "cell_type": "code",
      "execution_count": null,
      "metadata": {
        "colab": {
          "base_uri": "https://localhost:8080/"
        },
        "id": "-c78dSOb9N3y",
        "outputId": "d7bbc58a-f4e2-4f67-bcfd-f6ea5076a1a3"
      },
      "outputs": [
        {
          "output_type": "stream",
          "name": "stdout",
          "text": [
            "5359.154137480456\n",
            "1.1267085661938908e+16\n",
            "129195915552.39282\n"
          ]
        }
      ],
      "source": [
        "print(phydro)\n",
        "print(enhydro)\n",
        "print(echydro)"
      ]
    },
    {
      "cell_type": "code",
      "execution_count": null,
      "metadata": {
        "colab": {
          "base_uri": "https://localhost:8080/"
        },
        "id": "gbQmlKp6TUwI",
        "outputId": "94ab62ae-ee46-466b-9536-40d89ad5bc81"
      },
      "outputs": [
        {
          "name": "stdout",
          "output_type": "stream",
          "text": [
            "mass of nuclear fuel17.625\n",
            "input efficiency of nuclear0.45\n",
            "input calorific value of nuclear24000\n"
          ]
        }
      ],
      "source": [
        "#nuclear\n",
        "mnu=float(input(\"mass of nuclear fuel\"))\n",
        "nefnu=float(input(\"input efficiency of nuclear\"))\n",
        "cafnu=float(input(\"input calorific value of nuclear\"))\n",
        "pnu=nefnu*mnu*cafnu*2.7777*(10**(-7))*1000000\n",
        "\n",
        "#environmental ascept\n",
        "ennu=0.3*(10**5) + 12*(10**7)*pnu*365*24\n",
        "#economical effect\n",
        "ecnu=6000*pnu*365*24"
      ]
    },
    {
      "cell_type": "code",
      "execution_count": null,
      "metadata": {
        "colab": {
          "base_uri": "https://localhost:8080/"
        },
        "id": "8vOThPTS9PX1",
        "outputId": "98b4da0a-61bd-4ed5-d820-0ad0d01c04dd"
      },
      "outputs": [
        {
          "output_type": "stream",
          "name": "stdout",
          "text": [
            "52873.519499999995\n",
            "5.558064369842998e+16\n",
            "2779032184919.9995\n"
          ]
        }
      ],
      "source": [
        "print(pnu)\n",
        "print(ennu)\n",
        "print(ecnu)"
      ]
    },
    {
      "cell_type": "code",
      "execution_count": null,
      "metadata": {
        "id": "rDUHWj4rkjlW"
      },
      "outputs": [],
      "source": [
        "#optimization functions\n",
        "Power=pnu+phydro+png+ppe+pco+pw+pso\n",
        "EnvironmentalFactor=ennu+enhydro+enng+enpe+enco+enw+enso\n",
        "EconomicFactor=ecnu+echydro+ecng+ecpe+ecco+ecw+ecso"
      ]
    },
    {
      "cell_type": "code",
      "execution_count": null,
      "metadata": {
        "colab": {
          "base_uri": "https://localhost:8080/"
        },
        "id": "0wVFLs_amKX-",
        "outputId": "3d599590-a07a-45a1-c18a-3e1e4c17aead"
      },
      "outputs": [
        {
          "name": "stdout",
          "output_type": "stream",
          "text": [
            "Input power requirement in lakh units for one year72\n",
            "storage capacity of power  in lakh units for one year10\n"
          ]
        }
      ],
      "source": [
        "#constraints\n",
        "preq=float(input(\"Input power requirement in lakh units for one year\"))\n",
        "\n",
        "Power1=-1*preq*(10**5)\n",
        "pextra=float(input(\"storage capacity of power  in lakh units for one year\"))\n",
        "\n",
        "Power2=-1*pextra*(10**5)\n"
      ]
    },
    {
      "cell_type": "code",
      "source": [
        "print(Power1)"
      ],
      "metadata": {
        "colab": {
          "base_uri": "https://localhost:8080/"
        },
        "id": "0OEDW_j9X7mZ",
        "outputId": "cb709b5f-4a68-417f-cd4f-70f116431f72"
      },
      "execution_count": null,
      "outputs": [
        {
          "output_type": "stream",
          "name": "stdout",
          "text": [
            "-7200000.0\n"
          ]
        }
      ]
    },
    {
      "cell_type": "code",
      "source": [
        "print(Power2)"
      ],
      "metadata": {
        "colab": {
          "base_uri": "https://localhost:8080/"
        },
        "id": "XlbNx-sDZBVX",
        "outputId": "6fe4f8d6-e94f-4bbf-c8c3-9f998b94052c"
      },
      "execution_count": null,
      "outputs": [
        {
          "output_type": "stream",
          "name": "stdout",
          "text": [
            "-1000000.0\n"
          ]
        }
      ]
    },
    {
      "cell_type": "code",
      "execution_count": null,
      "metadata": {
        "colab": {
          "base_uri": "https://localhost:8080/"
        },
        "id": "Qk-5CWOg1QvL",
        "outputId": "b4c4adbd-2aee-429d-85fd-432a303036e3"
      },
      "outputs": [
        {
          "output_type": "stream",
          "name": "stdout",
          "text": [
            "Looking in indexes: https://pypi.org/simple, https://us-python.pkg.dev/colab-wheels/public/simple/\n",
            "Collecting pymoo\n",
            "  Downloading pymoo-0.6.0-cp37-cp37m-manylinux_2_24_x86_64.whl (1.9 MB)\n",
            "\u001b[K     |████████████████████████████████| 1.9 MB 4.8 MB/s \n",
            "\u001b[?25hRequirement already satisfied: numpy>=1.15 in /usr/local/lib/python3.7/dist-packages (from pymoo) (1.21.6)\n",
            "Requirement already satisfied: matplotlib>=3 in /usr/local/lib/python3.7/dist-packages (from pymoo) (3.2.2)\n",
            "Requirement already satisfied: scipy>=1.1 in /usr/local/lib/python3.7/dist-packages (from pymoo) (1.7.3)\n",
            "Requirement already satisfied: dill in /usr/local/lib/python3.7/dist-packages (from pymoo) (0.3.6)\n",
            "Requirement already satisfied: autograd>=1.4 in /usr/local/lib/python3.7/dist-packages (from pymoo) (1.5)\n",
            "Collecting alive-progress\n",
            "  Downloading alive_progress-2.4.1-py3-none-any.whl (80 kB)\n",
            "\u001b[K     |████████████████████████████████| 80 kB 9.3 MB/s \n",
            "\u001b[?25hCollecting cma==3.2.2\n",
            "  Downloading cma-3.2.2-py2.py3-none-any.whl (249 kB)\n",
            "\u001b[K     |████████████████████████████████| 249 kB 52.1 MB/s \n",
            "\u001b[?25hCollecting Deprecated\n",
            "  Downloading Deprecated-1.2.13-py2.py3-none-any.whl (9.6 kB)\n",
            "Requirement already satisfied: future>=0.15.2 in /usr/local/lib/python3.7/dist-packages (from autograd>=1.4->pymoo) (0.16.0)\n",
            "Requirement already satisfied: pyparsing!=2.0.4,!=2.1.2,!=2.1.6,>=2.0.1 in /usr/local/lib/python3.7/dist-packages (from matplotlib>=3->pymoo) (3.0.9)\n",
            "Requirement already satisfied: python-dateutil>=2.1 in /usr/local/lib/python3.7/dist-packages (from matplotlib>=3->pymoo) (2.8.2)\n",
            "Requirement already satisfied: cycler>=0.10 in /usr/local/lib/python3.7/dist-packages (from matplotlib>=3->pymoo) (0.11.0)\n",
            "Requirement already satisfied: kiwisolver>=1.0.1 in /usr/local/lib/python3.7/dist-packages (from matplotlib>=3->pymoo) (1.4.4)\n",
            "Requirement already satisfied: typing-extensions in /usr/local/lib/python3.7/dist-packages (from kiwisolver>=1.0.1->matplotlib>=3->pymoo) (4.1.1)\n",
            "Requirement already satisfied: six>=1.5 in /usr/local/lib/python3.7/dist-packages (from python-dateutil>=2.1->matplotlib>=3->pymoo) (1.15.0)\n",
            "Collecting grapheme==0.6.0\n",
            "  Downloading grapheme-0.6.0.tar.gz (207 kB)\n",
            "\u001b[K     |████████████████████████████████| 207 kB 72.3 MB/s \n",
            "\u001b[?25hCollecting about-time==3.1.1\n",
            "  Downloading about_time-3.1.1-py3-none-any.whl (9.1 kB)\n",
            "Requirement already satisfied: wrapt<2,>=1.10 in /usr/local/lib/python3.7/dist-packages (from Deprecated->pymoo) (1.14.1)\n",
            "Building wheels for collected packages: grapheme\n",
            "  Building wheel for grapheme (setup.py) ... \u001b[?25l\u001b[?25hdone\n",
            "  Created wheel for grapheme: filename=grapheme-0.6.0-py3-none-any.whl size=210095 sha256=3aedeac4d403a4ccd3408a88ecb1e7689f087a8e87928f9cc0dd82ec7bb22e7c\n",
            "  Stored in directory: /root/.cache/pip/wheels/71/fc/c8/142ef03b79c02b618fe80b9f2d01c25bd55f60b0c58eab3f0e\n",
            "Successfully built grapheme\n",
            "Installing collected packages: grapheme, about-time, Deprecated, cma, alive-progress, pymoo\n",
            "Successfully installed Deprecated-1.2.13 about-time-3.1.1 alive-progress-2.4.1 cma-3.2.2 grapheme-0.6.0 pymoo-0.6.0\n"
          ]
        }
      ],
      "source": [
        "!pip install pymoo"
      ]
    },
    {
      "cell_type": "code",
      "execution_count": null,
      "metadata": {
        "id": "b4km23p2ikCE"
      },
      "outputs": [],
      "source": [
        "max=10**3"
      ]
    },
    {
      "cell_type": "code",
      "execution_count": null,
      "metadata": {
        "id": "yIk3nFHjZw3x"
      },
      "outputs": [],
      "source": [
        "from pymoo.core.problem import ElementwiseProblem\n",
        "from pymoo.core.variable import Real, Integer\n",
        "class MultiObjectiveMixedVariableProblem(ElementwiseProblem):\n",
        "\n",
        "    def __init__(self, **kwargs):\n",
        "        vars = {\n",
        "            \"nnu\": Integer(bounds=(0, max )),\n",
        "            \"nhydro\": Integer(bounds=(0, max )),\n",
        "            \"nng\": Integer(bounds=(0, max )),\n",
        "            \"npe\": Integer(bounds=(0, max )),\n",
        "            \"nco\": Integer(bounds=(0, max )),\n",
        "            \"nw\": Integer(bounds=(0, max )),\n",
        "            \"nso\": Integer(bounds=(0, max )),\n",
        "\n",
        "           \n",
        "        }\n",
        "        super().__init__(vars=vars, n_obj=3, n_ieq_constr=2, **kwargs)\n",
        "    def _evaluate(self, X, out, *args, **kwargs):\n",
        "        nnu, nhydro, nng, npe, nco, nw, nso = X[\"nnu\"], X[\"nhydro\"], X[\"nng\"], X[\"npe\"], X[\"nco\"], X[\"nw\"], X[\"nso\"] \n",
        "\n",
        "        f1 = -1*(pco*nco +pw*nw +pso*nso + pnu*nnu +phydro*nhydro +png*nng + ppe*npe ) \n",
        "        f2 =  (ecco*nco +ecw*nw +ecso*nso + ecnu*nnu +echydro*nhydro +ecng*nng + ecpe*npe ) \n",
        "        f3 =  (enco*nco +enw*nw +enso*nso + ennu*nnu +enhydro*nhydro +enng*nng + enpe*npe ) \n",
        "\n",
        "        g1  = f1-Power1\n",
        "        #g2  = phydro+pw+pso -0.30*Power1\n",
        "        g2  = Power1+Power2-f1\n",
        "\n",
        "        out[\"F\"] = [f1, f2, f3 ]\n",
        "        out[\"G\"]=  [g1 ,g2]\n",
        "        "
      ]
    },
    {
      "cell_type": "code",
      "execution_count": null,
      "metadata": {
        "id": "Hh6Q-qxJhwEy"
      },
      "outputs": [],
      "source": [
        "from pymoo.visualization.scatter import Scatter\n",
        "from pymoo.algorithms.moo.nsga2 import NSGA2, RankAndCrowdingSurvival\n",
        "from pymoo.core.mixed import MixedVariableMating, MixedVariableGA, MixedVariableSampling, MixedVariableDuplicateElimination\n",
        "from pymoo.optimize import minimize\n",
        "problem=MultiObjectiveMixedVariableProblem()\n",
        "algorithm = NSGA2(pop_size=50,\n",
        "                  sampling=MixedVariableSampling(),\n",
        "                  mating=MixedVariableMating(eliminate_duplicates=MixedVariableDuplicateElimination()),\n",
        "                  eliminate_duplicates=MixedVariableDuplicateElimination(),\n",
        "                  )\n",
        "res = minimize(problem,\n",
        "               algorithm,\n",
        "               ('n_gen', 100),\n",
        "               seed=1,\n",
        "               verbose=False)\n",
        "\n",
        "\n",
        "\n",
        "#plot = Scatter()\n",
        "#plot.add(problem.pareto_front())\n",
        "#plot.add(res.F, facecolor=\"none\", edgecolor=\"red\")\n",
        "#plot.show()"
      ]
    },
    {
      "cell_type": "code",
      "execution_count": null,
      "metadata": {
        "colab": {
          "base_uri": "https://localhost:8080/"
        },
        "id": "bEbsCNPgL_jN",
        "outputId": "37a6c9e5-515d-4b41-f115-b7caa3356d1f"
      },
      "outputs": [
        {
          "output_type": "stream",
          "name": "stdout",
          "text": [
            "Looking in indexes: https://pypi.org/simple, https://us-python.pkg.dev/colab-wheels/public/simple/\n",
            "Requirement already satisfied: plotly in /usr/local/lib/python3.7/dist-packages (5.5.0)\n",
            "Requirement already satisfied: tenacity>=6.2.0 in /usr/local/lib/python3.7/dist-packages (from plotly) (8.1.0)\n",
            "Requirement already satisfied: six in /usr/local/lib/python3.7/dist-packages (from plotly) (1.15.0)\n"
          ]
        }
      ],
      "source": [
        "!pip install plotly"
      ]
    },
    {
      "cell_type": "code",
      "execution_count": null,
      "metadata": {
        "colab": {
          "base_uri": "https://localhost:8080/"
        },
        "id": "m9xKLkYS3hu_",
        "outputId": "80d13a5a-83a1-466a-ef2b-15093ce4a6d9"
      },
      "outputs": [
        {
          "output_type": "stream",
          "name": "stdout",
          "text": [
            "[{'nnu': 96, 'nhydro': 528, 'nng': 129, 'npe': 6, 'nco': 190, 'nw': 83, 'nso': 226}\n",
            " {'nnu': 2, 'nhydro': 9, 'nng': 66, 'npe': 395, 'nco': 16, 'nw': 63, 'nso': 635}\n",
            " {'nnu': 0, 'nhydro': 7, 'nng': 100, 'npe': 375, 'nco': 1, 'nw': 19, 'nso': 355}\n",
            " {'nnu': 4, 'nhydro': 45, 'nng': 53, 'npe': 285, 'nco': 223, 'nw': 856, 'nso': 158}\n",
            " {'nnu': 76, 'nhydro': 495, 'nng': 64, 'npe': 0, 'nco': 11, 'nw': 458, 'nso': 155}\n",
            " {'nnu': 7, 'nhydro': 123, 'nng': 93, 'npe': 308, 'nco': 168, 'nw': 816, 'nso': 338}\n",
            " {'nnu': 11, 'nhydro': 980, 'nng': 279, 'npe': 59, 'nco': 141, 'nw': 914, 'nso': 517}\n",
            " {'nnu': 40, 'nhydro': 692, 'nng': 40, 'npe': 63, 'nco': 231, 'nw': 860, 'nso': 629}\n",
            " {'nnu': 53, 'nhydro': 624, 'nng': 6, 'npe': 45, 'nco': 988, 'nw': 832, 'nso': 981}\n",
            " {'nnu': 76, 'nhydro': 495, 'nng': 66, 'npe': 0, 'nco': 776, 'nw': 569, 'nso': 631}\n",
            " {'nnu': 84, 'nhydro': 516, 'nng': 804, 'npe': 9, 'nco': 878, 'nw': 564, 'nso': 161}\n",
            " {'nnu': 4, 'nhydro': 980, 'nng': 231, 'npe': 88, 'nco': 1, 'nw': 24, 'nso': 220}\n",
            " {'nnu': 11, 'nhydro': 535, 'nng': 970, 'npe': 152, 'nco': 808, 'nw': 888, 'nso': 353}\n",
            " {'nnu': 17, 'nhydro': 366, 'nng': 124, 'npe': 186, 'nco': 670, 'nw': 903, 'nso': 541}\n",
            " {'nnu': 11, 'nhydro': 927, 'nng': 311, 'npe': 111, 'nco': 633, 'nw': 125, 'nso': 186}\n",
            " {'nnu': 50, 'nhydro': 627, 'nng': 6, 'npe': 53, 'nco': 988, 'nw': 832, 'nso': 983}\n",
            " {'nnu': 40, 'nhydro': 693, 'nng': 206, 'npe': 63, 'nco': 953, 'nw': 858, 'nso': 629}\n",
            " {'nnu': 0, 'nhydro': 964, 'nng': 301, 'npe': 121, 'nco': 942, 'nw': 97, 'nso': 903}\n",
            " {'nnu': 0, 'nhydro': 423, 'nng': 176, 'npe': 263, 'nco': 717, 'nw': 63, 'nso': 524}\n",
            " {'nnu': 66, 'nhydro': 593, 'nng': 128, 'npe': 6, 'nco': 190, 'nw': 948, 'nso': 158}\n",
            " {'nnu': 7, 'nhydro': 985, 'nng': 288, 'npe': 90, 'nco': 1, 'nw': 24, 'nso': 220}\n",
            " {'nnu': 7, 'nhydro': 958, 'nng': 210, 'npe': 104, 'nco': 235, 'nw': 52, 'nso': 327}\n",
            " {'nnu': 17, 'nhydro': 358, 'nng': 124, 'npe': 174, 'nco': 527, 'nw': 933, 'nso': 541}\n",
            " {'nnu': 7, 'nhydro': 56, 'nng': 809, 'npe': 289, 'nco': 191, 'nw': 832, 'nso': 635}\n",
            " {'nnu': 2, 'nhydro': 533, 'nng': 280, 'npe': 168, 'nco': 839, 'nw': 785, 'nso': 390}\n",
            " {'nnu': 11, 'nhydro': 533, 'nng': 71, 'npe': 138, 'nco': 815, 'nw': 858, 'nso': 390}\n",
            " {'nnu': 11, 'nhydro': 517, 'nng': 225, 'npe': 228, 'nco': 925, 'nw': 135, 'nso': 887}\n",
            " {'nnu': 4, 'nhydro': 114, 'nng': 110, 'npe': 347, 'nco': 8, 'nw': 39, 'nso': 419}\n",
            " {'nnu': 4, 'nhydro': 89, 'nng': 93, 'npe': 308, 'nco': 169, 'nw': 816, 'nso': 326}\n",
            " {'nnu': 4, 'nhydro': 54, 'nng': 59, 'npe': 367, 'nco': 2, 'nw': 239, 'nso': 239}\n",
            " {'nnu': 91, 'nhydro': 525, 'nng': 59, 'npe': 6, 'nco': 17, 'nw': 67, 'nso': 220}\n",
            " {'nnu': 53, 'nhydro': 624, 'nng': 6, 'npe': 41, 'nco': 988, 'nw': 832, 'nso': 990}\n",
            " {'nnu': 1, 'nhydro': 964, 'nng': 268, 'npe': 122, 'nco': 985, 'nw': 207, 'nso': 903}\n",
            " {'nnu': 96, 'nhydro': 528, 'nng': 59, 'npe': 6, 'nco': 4, 'nw': 19, 'nso': 220}\n",
            " {'nnu': 88, 'nhydro': 525, 'nng': 59, 'npe': 6, 'nco': 169, 'nw': 67, 'nso': 220}\n",
            " {'nnu': 66, 'nhydro': 593, 'nng': 914, 'npe': 15, 'nco': 991, 'nw': 974, 'nso': 292}\n",
            " {'nnu': 1, 'nhydro': 443, 'nng': 107, 'npe': 272, 'nco': 228, 'nw': 51, 'nso': 869}\n",
            " {'nnu': 4, 'nhydro': 925, 'nng': 379, 'npe': 110, 'nco': 209, 'nw': 125, 'nso': 186}\n",
            " {'nnu': 11, 'nhydro': 424, 'nng': 35, 'npe': 219, 'nco': 8, 'nw': 62, 'nso': 234}\n",
            " {'nnu': 2, 'nhydro': 523, 'nng': 76, 'npe': 245, 'nco': 244, 'nw': 55, 'nso': 432}\n",
            " {'nnu': 7, 'nhydro': 43, 'nng': 165, 'npe': 336, 'nco': 10, 'nw': 38, 'nso': 405}\n",
            " {'nnu': 4, 'nhydro': 533, 'nng': 184, 'npe': 164, 'nco': 696, 'nw': 791, 'nso': 341}\n",
            " {'nnu': 2, 'nhydro': 430, 'nng': 76, 'npe': 245, 'nco': 244, 'nw': 55, 'nso': 347}\n",
            " {'nnu': 11, 'nhydro': 520, 'nng': 52, 'npe': 193, 'nco': 879, 'nw': 96, 'nso': 908}\n",
            " {'nnu': 2, 'nhydro': 22, 'nng': 66, 'npe': 391, 'nco': 16, 'nw': 63, 'nso': 635}\n",
            " {'nnu': 2, 'nhydro': 420, 'nng': 76, 'npe': 249, 'nco': 244, 'nw': 55, 'nso': 347}\n",
            " {'nnu': 18, 'nhydro': 520, 'nng': 35, 'npe': 200, 'nco': 911, 'nw': 133, 'nso': 244}\n",
            " {'nnu': 1, 'nhydro': 443, 'nng': 130, 'npe': 273, 'nco': 228, 'nw': 83, 'nso': 870}\n",
            " {'nnu': 0, 'nhydro': 57, 'nng': 59, 'npe': 375, 'nco': 2, 'nw': 239, 'nso': 250}\n",
            " {'nnu': 2, 'nhydro': 503, 'nng': 66, 'npe': 221, 'nco': 754, 'nw': 63, 'nso': 635}]\n"
          ]
        }
      ],
      "source": [
        "print(res.X)"
      ]
    },
    {
      "cell_type": "code",
      "execution_count": null,
      "metadata": {
        "colab": {
          "base_uri": "https://localhost:8080/"
        },
        "id": "ykdznXctxN2O",
        "outputId": "3b15bb85-21ec-41f9-c97a-be3b5f065745"
      },
      "outputs": [
        {
          "output_type": "stream",
          "name": "stdout",
          "text": [
            "[[-8.13663272e+06  3.37142671e+14  2.17512302e+19]\n",
            " [-8.17700529e+06  4.96069152e+13  6.70814927e+20]\n",
            " [-7.59542338e+06  4.08581448e+13  6.36639061e+20]\n",
            " [-7.20284676e+06  6.14551954e+13  4.85694141e+20]\n",
            " [-7.22719916e+06  2.82907643e+14  1.04213139e+19]\n",
            " [-8.19989930e+06  8.16641512e+13  5.25725495e+20]\n",
            " [-8.13654088e+06  1.78957266e+14  1.13163553e+20]\n",
            " [-8.14566192e+06  2.21898437e+14  1.18272571e+20]\n",
            " [-8.09348108e+06  2.47139017e+14  8.81593572e+19]\n",
            " [-7.38505744e+06  2.85079535e+14  1.11075310e+19]\n",
            " [-8.08106077e+06  3.10799842e+14  2.72118309e+19]\n",
            " [-7.26726992e+06  1.47480556e+14  1.60732333e+20]\n",
            " [-7.58764281e+06  1.30951582e+14  2.66500803e+20]\n",
            " [-7.70067196e+06  1.29622105e+14  3.22415243e+20]\n",
            " [-7.93926169e+06  1.64337970e+14  2.00095240e+20]\n",
            " [-8.11144824e+06  2.40033314e+14  1.01604595e+20]\n",
            " [-8.15469389e+06  2.22156242e+14  1.18767960e+20]\n",
            " [-7.75413131e+06  1.39410354e+14  2.17130809e+20]\n",
            " [-7.64395493e+06  8.37457751e+13  4.51778873e+20]\n",
            " [-7.93340414e+06  2.76689512e+14  2.18967972e+19]\n",
            " [-7.49312959e+06  1.56676526e+14  1.64362036e+20]\n",
            " [-7.66829909e+06  1.55213861e+14  1.87999284e+20]\n",
            " [-7.45212566e+06  1.27797074e+14  3.01906711e+20]\n",
            " [-7.49544923e+06  7.13932535e+13  4.92952553e+20]\n",
            " [-7.29604515e+06  1.05629280e+14  2.92881512e+20]\n",
            " [-7.25644562e+06  1.28692750e+14  2.42497109e+20]\n",
            " [-8.13029246e+06  1.24134707e+14  3.94328945e+20]\n",
            " [-7.84553842e+06  6.32039480e+13  5.90585160e+20]\n",
            " [-7.85858730e+06  6.89310671e+13  5.25174590e+20]\n",
            " [-8.15727101e+06  6.08658145e+13  6.24065779e+20]\n",
            " [-7.83512215e+06  3.22549219e+14  2.12954513e+19]\n",
            " [-8.01363200e+06  2.46720066e+14  8.13716907e+19]\n",
            " [-7.95909075e+06  1.44151917e+14  2.19042145e+20]\n",
            " [-8.05790887e+06  3.36022303e+14  2.15385167e+19]\n",
            " [-7.67757373e+06  3.14244995e+14  2.12237100e+19]\n",
            " [-8.16079399e+06  2.78316785e+14  3.78919718e+19]\n",
            " [-7.98025500e+06  8.98491994e+13  4.67048546e+20]\n",
            " [-7.53578535e+06  1.44431749e+14  1.97735900e+20]\n",
            " [-7.32975619e+06  1.09545717e+14  3.77207401e+20]\n",
            " [-7.90739605e+06  1.00058602e+14  4.22126360e+20]\n",
            " [-7.40163973e+06  6.11902208e+13  5.71292057e+20]\n",
            " [-7.32520920e+06  1.10817682e+14  2.86094476e+20]\n",
            " [-7.40554335e+06  8.80182873e+13  4.21066427e+20]\n",
            " [-7.39722816e+06  1.20167567e+14  3.34847647e+20]\n",
            " [-8.16645978e+06  5.08648545e+13  6.64172452e+20]\n",
            " [-7.43216633e+06  8.71479357e+13  4.27742704e+20]\n",
            " [-7.92525672e+06  1.40790823e+14  3.47085919e+20]\n",
            " [-8.03886261e+06  9.04936427e+13  4.68791172e+20]\n",
            " [-8.12273008e+06  5.09837361e+13  6.37456716e+20]\n",
            " [-7.34030131e+06  9.52493716e+13  3.81522924e+20]]\n"
          ]
        }
      ],
      "source": [
        "print(res.F)"
      ]
    },
    {
      "cell_type": "code",
      "execution_count": null,
      "metadata": {
        "id": "UEwLME58x9_s"
      },
      "outputs": [],
      "source": [
        "import plotly.express as px\n",
        "import plotly.graph_objects as go\n"
      ]
    },
    {
      "cell_type": "code",
      "execution_count": null,
      "metadata": {
        "id": "F8r0Qxqd7fzL",
        "colab": {
          "base_uri": "https://localhost:8080/",
          "height": 1000
        },
        "outputId": "a78386e0-7e4f-4564-90d8-271131e378d7"
      },
      "outputs": [
        {
          "output_type": "display_data",
          "data": {
            "text/plain": [
              "           power      economic  environmental\n",
              "0  -8.136633e+06  3.371427e+14   2.175123e+19\n",
              "1  -8.177005e+06  4.960692e+13   6.708149e+20\n",
              "2  -7.595423e+06  4.085814e+13   6.366391e+20\n",
              "3  -7.202847e+06  6.145520e+13   4.856941e+20\n",
              "4  -7.227199e+06  2.829076e+14   1.042131e+19\n",
              "5  -8.199899e+06  8.166415e+13   5.257255e+20\n",
              "6  -8.136541e+06  1.789573e+14   1.131636e+20\n",
              "7  -8.145662e+06  2.218984e+14   1.182726e+20\n",
              "8  -8.093481e+06  2.471390e+14   8.815936e+19\n",
              "9  -7.385057e+06  2.850795e+14   1.110753e+19\n",
              "10 -8.081061e+06  3.107998e+14   2.721183e+19\n",
              "11 -7.267270e+06  1.474806e+14   1.607323e+20\n",
              "12 -7.587643e+06  1.309516e+14   2.665008e+20\n",
              "13 -7.700672e+06  1.296221e+14   3.224152e+20\n",
              "14 -7.939262e+06  1.643380e+14   2.000952e+20\n",
              "15 -8.111448e+06  2.400333e+14   1.016046e+20\n",
              "16 -8.154694e+06  2.221562e+14   1.187680e+20\n",
              "17 -7.754131e+06  1.394104e+14   2.171308e+20\n",
              "18 -7.643955e+06  8.374578e+13   4.517789e+20\n",
              "19 -7.933404e+06  2.766895e+14   2.189680e+19\n",
              "20 -7.493130e+06  1.566765e+14   1.643620e+20\n",
              "21 -7.668299e+06  1.552139e+14   1.879993e+20\n",
              "22 -7.452126e+06  1.277971e+14   3.019067e+20\n",
              "23 -7.495449e+06  7.139325e+13   4.929526e+20\n",
              "24 -7.296045e+06  1.056293e+14   2.928815e+20\n",
              "25 -7.256446e+06  1.286927e+14   2.424971e+20\n",
              "26 -8.130292e+06  1.241347e+14   3.943289e+20\n",
              "27 -7.845538e+06  6.320395e+13   5.905852e+20\n",
              "28 -7.858587e+06  6.893107e+13   5.251746e+20\n",
              "29 -8.157271e+06  6.086581e+13   6.240658e+20\n",
              "30 -7.835122e+06  3.225492e+14   2.129545e+19\n",
              "31 -8.013632e+06  2.467201e+14   8.137169e+19\n",
              "32 -7.959091e+06  1.441519e+14   2.190421e+20\n",
              "33 -8.057909e+06  3.360223e+14   2.153852e+19\n",
              "34 -7.677574e+06  3.142450e+14   2.122371e+19\n",
              "35 -8.160794e+06  2.783168e+14   3.789197e+19\n",
              "36 -7.980255e+06  8.984920e+13   4.670485e+20\n",
              "37 -7.535785e+06  1.444317e+14   1.977359e+20\n",
              "38 -7.329756e+06  1.095457e+14   3.772074e+20\n",
              "39 -7.907396e+06  1.000586e+14   4.221264e+20\n",
              "40 -7.401640e+06  6.119022e+13   5.712921e+20\n",
              "41 -7.325209e+06  1.108177e+14   2.860945e+20\n",
              "42 -7.405543e+06  8.801829e+13   4.210664e+20\n",
              "43 -7.397228e+06  1.201676e+14   3.348476e+20\n",
              "44 -8.166460e+06  5.086485e+13   6.641725e+20\n",
              "45 -7.432166e+06  8.714794e+13   4.277427e+20\n",
              "46 -7.925257e+06  1.407908e+14   3.470859e+20\n",
              "47 -8.038863e+06  9.049364e+13   4.687912e+20\n",
              "48 -8.122730e+06  5.098374e+13   6.374567e+20\n",
              "49 -7.340301e+06  9.524937e+13   3.815229e+20"
            ],
            "text/html": [
              "\n",
              "  <div id=\"df-b316d144-72e6-4bc7-8bea-0b2a730fad75\">\n",
              "    <div class=\"colab-df-container\">\n",
              "      <div>\n",
              "<style scoped>\n",
              "    .dataframe tbody tr th:only-of-type {\n",
              "        vertical-align: middle;\n",
              "    }\n",
              "\n",
              "    .dataframe tbody tr th {\n",
              "        vertical-align: top;\n",
              "    }\n",
              "\n",
              "    .dataframe thead th {\n",
              "        text-align: right;\n",
              "    }\n",
              "</style>\n",
              "<table border=\"1\" class=\"dataframe\">\n",
              "  <thead>\n",
              "    <tr style=\"text-align: right;\">\n",
              "      <th></th>\n",
              "      <th>power</th>\n",
              "      <th>economic</th>\n",
              "      <th>environmental</th>\n",
              "    </tr>\n",
              "  </thead>\n",
              "  <tbody>\n",
              "    <tr>\n",
              "      <th>0</th>\n",
              "      <td>-8.136633e+06</td>\n",
              "      <td>3.371427e+14</td>\n",
              "      <td>2.175123e+19</td>\n",
              "    </tr>\n",
              "    <tr>\n",
              "      <th>1</th>\n",
              "      <td>-8.177005e+06</td>\n",
              "      <td>4.960692e+13</td>\n",
              "      <td>6.708149e+20</td>\n",
              "    </tr>\n",
              "    <tr>\n",
              "      <th>2</th>\n",
              "      <td>-7.595423e+06</td>\n",
              "      <td>4.085814e+13</td>\n",
              "      <td>6.366391e+20</td>\n",
              "    </tr>\n",
              "    <tr>\n",
              "      <th>3</th>\n",
              "      <td>-7.202847e+06</td>\n",
              "      <td>6.145520e+13</td>\n",
              "      <td>4.856941e+20</td>\n",
              "    </tr>\n",
              "    <tr>\n",
              "      <th>4</th>\n",
              "      <td>-7.227199e+06</td>\n",
              "      <td>2.829076e+14</td>\n",
              "      <td>1.042131e+19</td>\n",
              "    </tr>\n",
              "    <tr>\n",
              "      <th>5</th>\n",
              "      <td>-8.199899e+06</td>\n",
              "      <td>8.166415e+13</td>\n",
              "      <td>5.257255e+20</td>\n",
              "    </tr>\n",
              "    <tr>\n",
              "      <th>6</th>\n",
              "      <td>-8.136541e+06</td>\n",
              "      <td>1.789573e+14</td>\n",
              "      <td>1.131636e+20</td>\n",
              "    </tr>\n",
              "    <tr>\n",
              "      <th>7</th>\n",
              "      <td>-8.145662e+06</td>\n",
              "      <td>2.218984e+14</td>\n",
              "      <td>1.182726e+20</td>\n",
              "    </tr>\n",
              "    <tr>\n",
              "      <th>8</th>\n",
              "      <td>-8.093481e+06</td>\n",
              "      <td>2.471390e+14</td>\n",
              "      <td>8.815936e+19</td>\n",
              "    </tr>\n",
              "    <tr>\n",
              "      <th>9</th>\n",
              "      <td>-7.385057e+06</td>\n",
              "      <td>2.850795e+14</td>\n",
              "      <td>1.110753e+19</td>\n",
              "    </tr>\n",
              "    <tr>\n",
              "      <th>10</th>\n",
              "      <td>-8.081061e+06</td>\n",
              "      <td>3.107998e+14</td>\n",
              "      <td>2.721183e+19</td>\n",
              "    </tr>\n",
              "    <tr>\n",
              "      <th>11</th>\n",
              "      <td>-7.267270e+06</td>\n",
              "      <td>1.474806e+14</td>\n",
              "      <td>1.607323e+20</td>\n",
              "    </tr>\n",
              "    <tr>\n",
              "      <th>12</th>\n",
              "      <td>-7.587643e+06</td>\n",
              "      <td>1.309516e+14</td>\n",
              "      <td>2.665008e+20</td>\n",
              "    </tr>\n",
              "    <tr>\n",
              "      <th>13</th>\n",
              "      <td>-7.700672e+06</td>\n",
              "      <td>1.296221e+14</td>\n",
              "      <td>3.224152e+20</td>\n",
              "    </tr>\n",
              "    <tr>\n",
              "      <th>14</th>\n",
              "      <td>-7.939262e+06</td>\n",
              "      <td>1.643380e+14</td>\n",
              "      <td>2.000952e+20</td>\n",
              "    </tr>\n",
              "    <tr>\n",
              "      <th>15</th>\n",
              "      <td>-8.111448e+06</td>\n",
              "      <td>2.400333e+14</td>\n",
              "      <td>1.016046e+20</td>\n",
              "    </tr>\n",
              "    <tr>\n",
              "      <th>16</th>\n",
              "      <td>-8.154694e+06</td>\n",
              "      <td>2.221562e+14</td>\n",
              "      <td>1.187680e+20</td>\n",
              "    </tr>\n",
              "    <tr>\n",
              "      <th>17</th>\n",
              "      <td>-7.754131e+06</td>\n",
              "      <td>1.394104e+14</td>\n",
              "      <td>2.171308e+20</td>\n",
              "    </tr>\n",
              "    <tr>\n",
              "      <th>18</th>\n",
              "      <td>-7.643955e+06</td>\n",
              "      <td>8.374578e+13</td>\n",
              "      <td>4.517789e+20</td>\n",
              "    </tr>\n",
              "    <tr>\n",
              "      <th>19</th>\n",
              "      <td>-7.933404e+06</td>\n",
              "      <td>2.766895e+14</td>\n",
              "      <td>2.189680e+19</td>\n",
              "    </tr>\n",
              "    <tr>\n",
              "      <th>20</th>\n",
              "      <td>-7.493130e+06</td>\n",
              "      <td>1.566765e+14</td>\n",
              "      <td>1.643620e+20</td>\n",
              "    </tr>\n",
              "    <tr>\n",
              "      <th>21</th>\n",
              "      <td>-7.668299e+06</td>\n",
              "      <td>1.552139e+14</td>\n",
              "      <td>1.879993e+20</td>\n",
              "    </tr>\n",
              "    <tr>\n",
              "      <th>22</th>\n",
              "      <td>-7.452126e+06</td>\n",
              "      <td>1.277971e+14</td>\n",
              "      <td>3.019067e+20</td>\n",
              "    </tr>\n",
              "    <tr>\n",
              "      <th>23</th>\n",
              "      <td>-7.495449e+06</td>\n",
              "      <td>7.139325e+13</td>\n",
              "      <td>4.929526e+20</td>\n",
              "    </tr>\n",
              "    <tr>\n",
              "      <th>24</th>\n",
              "      <td>-7.296045e+06</td>\n",
              "      <td>1.056293e+14</td>\n",
              "      <td>2.928815e+20</td>\n",
              "    </tr>\n",
              "    <tr>\n",
              "      <th>25</th>\n",
              "      <td>-7.256446e+06</td>\n",
              "      <td>1.286927e+14</td>\n",
              "      <td>2.424971e+20</td>\n",
              "    </tr>\n",
              "    <tr>\n",
              "      <th>26</th>\n",
              "      <td>-8.130292e+06</td>\n",
              "      <td>1.241347e+14</td>\n",
              "      <td>3.943289e+20</td>\n",
              "    </tr>\n",
              "    <tr>\n",
              "      <th>27</th>\n",
              "      <td>-7.845538e+06</td>\n",
              "      <td>6.320395e+13</td>\n",
              "      <td>5.905852e+20</td>\n",
              "    </tr>\n",
              "    <tr>\n",
              "      <th>28</th>\n",
              "      <td>-7.858587e+06</td>\n",
              "      <td>6.893107e+13</td>\n",
              "      <td>5.251746e+20</td>\n",
              "    </tr>\n",
              "    <tr>\n",
              "      <th>29</th>\n",
              "      <td>-8.157271e+06</td>\n",
              "      <td>6.086581e+13</td>\n",
              "      <td>6.240658e+20</td>\n",
              "    </tr>\n",
              "    <tr>\n",
              "      <th>30</th>\n",
              "      <td>-7.835122e+06</td>\n",
              "      <td>3.225492e+14</td>\n",
              "      <td>2.129545e+19</td>\n",
              "    </tr>\n",
              "    <tr>\n",
              "      <th>31</th>\n",
              "      <td>-8.013632e+06</td>\n",
              "      <td>2.467201e+14</td>\n",
              "      <td>8.137169e+19</td>\n",
              "    </tr>\n",
              "    <tr>\n",
              "      <th>32</th>\n",
              "      <td>-7.959091e+06</td>\n",
              "      <td>1.441519e+14</td>\n",
              "      <td>2.190421e+20</td>\n",
              "    </tr>\n",
              "    <tr>\n",
              "      <th>33</th>\n",
              "      <td>-8.057909e+06</td>\n",
              "      <td>3.360223e+14</td>\n",
              "      <td>2.153852e+19</td>\n",
              "    </tr>\n",
              "    <tr>\n",
              "      <th>34</th>\n",
              "      <td>-7.677574e+06</td>\n",
              "      <td>3.142450e+14</td>\n",
              "      <td>2.122371e+19</td>\n",
              "    </tr>\n",
              "    <tr>\n",
              "      <th>35</th>\n",
              "      <td>-8.160794e+06</td>\n",
              "      <td>2.783168e+14</td>\n",
              "      <td>3.789197e+19</td>\n",
              "    </tr>\n",
              "    <tr>\n",
              "      <th>36</th>\n",
              "      <td>-7.980255e+06</td>\n",
              "      <td>8.984920e+13</td>\n",
              "      <td>4.670485e+20</td>\n",
              "    </tr>\n",
              "    <tr>\n",
              "      <th>37</th>\n",
              "      <td>-7.535785e+06</td>\n",
              "      <td>1.444317e+14</td>\n",
              "      <td>1.977359e+20</td>\n",
              "    </tr>\n",
              "    <tr>\n",
              "      <th>38</th>\n",
              "      <td>-7.329756e+06</td>\n",
              "      <td>1.095457e+14</td>\n",
              "      <td>3.772074e+20</td>\n",
              "    </tr>\n",
              "    <tr>\n",
              "      <th>39</th>\n",
              "      <td>-7.907396e+06</td>\n",
              "      <td>1.000586e+14</td>\n",
              "      <td>4.221264e+20</td>\n",
              "    </tr>\n",
              "    <tr>\n",
              "      <th>40</th>\n",
              "      <td>-7.401640e+06</td>\n",
              "      <td>6.119022e+13</td>\n",
              "      <td>5.712921e+20</td>\n",
              "    </tr>\n",
              "    <tr>\n",
              "      <th>41</th>\n",
              "      <td>-7.325209e+06</td>\n",
              "      <td>1.108177e+14</td>\n",
              "      <td>2.860945e+20</td>\n",
              "    </tr>\n",
              "    <tr>\n",
              "      <th>42</th>\n",
              "      <td>-7.405543e+06</td>\n",
              "      <td>8.801829e+13</td>\n",
              "      <td>4.210664e+20</td>\n",
              "    </tr>\n",
              "    <tr>\n",
              "      <th>43</th>\n",
              "      <td>-7.397228e+06</td>\n",
              "      <td>1.201676e+14</td>\n",
              "      <td>3.348476e+20</td>\n",
              "    </tr>\n",
              "    <tr>\n",
              "      <th>44</th>\n",
              "      <td>-8.166460e+06</td>\n",
              "      <td>5.086485e+13</td>\n",
              "      <td>6.641725e+20</td>\n",
              "    </tr>\n",
              "    <tr>\n",
              "      <th>45</th>\n",
              "      <td>-7.432166e+06</td>\n",
              "      <td>8.714794e+13</td>\n",
              "      <td>4.277427e+20</td>\n",
              "    </tr>\n",
              "    <tr>\n",
              "      <th>46</th>\n",
              "      <td>-7.925257e+06</td>\n",
              "      <td>1.407908e+14</td>\n",
              "      <td>3.470859e+20</td>\n",
              "    </tr>\n",
              "    <tr>\n",
              "      <th>47</th>\n",
              "      <td>-8.038863e+06</td>\n",
              "      <td>9.049364e+13</td>\n",
              "      <td>4.687912e+20</td>\n",
              "    </tr>\n",
              "    <tr>\n",
              "      <th>48</th>\n",
              "      <td>-8.122730e+06</td>\n",
              "      <td>5.098374e+13</td>\n",
              "      <td>6.374567e+20</td>\n",
              "    </tr>\n",
              "    <tr>\n",
              "      <th>49</th>\n",
              "      <td>-7.340301e+06</td>\n",
              "      <td>9.524937e+13</td>\n",
              "      <td>3.815229e+20</td>\n",
              "    </tr>\n",
              "  </tbody>\n",
              "</table>\n",
              "</div>\n",
              "      <button class=\"colab-df-convert\" onclick=\"convertToInteractive('df-b316d144-72e6-4bc7-8bea-0b2a730fad75')\"\n",
              "              title=\"Convert this dataframe to an interactive table.\"\n",
              "              style=\"display:none;\">\n",
              "        \n",
              "  <svg xmlns=\"http://www.w3.org/2000/svg\" height=\"24px\"viewBox=\"0 0 24 24\"\n",
              "       width=\"24px\">\n",
              "    <path d=\"M0 0h24v24H0V0z\" fill=\"none\"/>\n",
              "    <path d=\"M18.56 5.44l.94 2.06.94-2.06 2.06-.94-2.06-.94-.94-2.06-.94 2.06-2.06.94zm-11 1L8.5 8.5l.94-2.06 2.06-.94-2.06-.94L8.5 2.5l-.94 2.06-2.06.94zm10 10l.94 2.06.94-2.06 2.06-.94-2.06-.94-.94-2.06-.94 2.06-2.06.94z\"/><path d=\"M17.41 7.96l-1.37-1.37c-.4-.4-.92-.59-1.43-.59-.52 0-1.04.2-1.43.59L10.3 9.45l-7.72 7.72c-.78.78-.78 2.05 0 2.83L4 21.41c.39.39.9.59 1.41.59.51 0 1.02-.2 1.41-.59l7.78-7.78 2.81-2.81c.8-.78.8-2.07 0-2.86zM5.41 20L4 18.59l7.72-7.72 1.47 1.35L5.41 20z\"/>\n",
              "  </svg>\n",
              "      </button>\n",
              "      \n",
              "  <style>\n",
              "    .colab-df-container {\n",
              "      display:flex;\n",
              "      flex-wrap:wrap;\n",
              "      gap: 12px;\n",
              "    }\n",
              "\n",
              "    .colab-df-convert {\n",
              "      background-color: #E8F0FE;\n",
              "      border: none;\n",
              "      border-radius: 50%;\n",
              "      cursor: pointer;\n",
              "      display: none;\n",
              "      fill: #1967D2;\n",
              "      height: 32px;\n",
              "      padding: 0 0 0 0;\n",
              "      width: 32px;\n",
              "    }\n",
              "\n",
              "    .colab-df-convert:hover {\n",
              "      background-color: #E2EBFA;\n",
              "      box-shadow: 0px 1px 2px rgba(60, 64, 67, 0.3), 0px 1px 3px 1px rgba(60, 64, 67, 0.15);\n",
              "      fill: #174EA6;\n",
              "    }\n",
              "\n",
              "    [theme=dark] .colab-df-convert {\n",
              "      background-color: #3B4455;\n",
              "      fill: #D2E3FC;\n",
              "    }\n",
              "\n",
              "    [theme=dark] .colab-df-convert:hover {\n",
              "      background-color: #434B5C;\n",
              "      box-shadow: 0px 1px 3px 1px rgba(0, 0, 0, 0.15);\n",
              "      filter: drop-shadow(0px 1px 2px rgba(0, 0, 0, 0.3));\n",
              "      fill: #FFFFFF;\n",
              "    }\n",
              "  </style>\n",
              "\n",
              "      <script>\n",
              "        const buttonEl =\n",
              "          document.querySelector('#df-b316d144-72e6-4bc7-8bea-0b2a730fad75 button.colab-df-convert');\n",
              "        buttonEl.style.display =\n",
              "          google.colab.kernel.accessAllowed ? 'block' : 'none';\n",
              "\n",
              "        async function convertToInteractive(key) {\n",
              "          const element = document.querySelector('#df-b316d144-72e6-4bc7-8bea-0b2a730fad75');\n",
              "          const dataTable =\n",
              "            await google.colab.kernel.invokeFunction('convertToInteractive',\n",
              "                                                     [key], {});\n",
              "          if (!dataTable) return;\n",
              "\n",
              "          const docLinkHtml = 'Like what you see? Visit the ' +\n",
              "            '<a target=\"_blank\" href=https://colab.research.google.com/notebooks/data_table.ipynb>data table notebook</a>'\n",
              "            + ' to learn more about interactive tables.';\n",
              "          element.innerHTML = '';\n",
              "          dataTable['output_type'] = 'display_data';\n",
              "          await google.colab.output.renderOutput(dataTable, element);\n",
              "          const docLink = document.createElement('div');\n",
              "          docLink.innerHTML = docLinkHtml;\n",
              "          element.appendChild(docLink);\n",
              "        }\n",
              "      </script>\n",
              "    </div>\n",
              "  </div>\n",
              "  "
            ]
          },
          "metadata": {}
        },
        {
          "output_type": "display_data",
          "data": {
            "text/html": [
              "<html>\n",
              "<head><meta charset=\"utf-8\" /></head>\n",
              "<body>\n",
              "    <div>            <script src=\"https://cdnjs.cloudflare.com/ajax/libs/mathjax/2.7.5/MathJax.js?config=TeX-AMS-MML_SVG\"></script><script type=\"text/javascript\">if (window.MathJax) {MathJax.Hub.Config({SVG: {font: \"STIX-Web\"}});}</script>                <script type=\"text/javascript\">window.PlotlyConfig = {MathJaxConfig: 'local'};</script>\n",
              "        <script src=\"https://cdn.plot.ly/plotly-2.8.3.min.js\"></script>                <div id=\"d326b4b5-f1d6-400e-abf1-5a96e21a824c\" class=\"plotly-graph-div\" style=\"height:525px; width:100%;\"></div>            <script type=\"text/javascript\">                                    window.PLOTLYENV=window.PLOTLYENV || {};                                    if (document.getElementById(\"d326b4b5-f1d6-400e-abf1-5a96e21a824c\")) {                    Plotly.newPlot(                        \"d326b4b5-f1d6-400e-abf1-5a96e21a824c\",                        [{\"hovertemplate\":\"x=%{x}<br>y=%{y}<br>z=%{z}<extra></extra>\",\"legendgroup\":\"\",\"marker\":{\"color\":\"#636efa\",\"symbol\":\"circle\"},\"mode\":\"markers\",\"name\":\"\",\"scene\":\"scene\",\"showlegend\":false,\"x\":[-8136632.7159941215,-8177005.292974427,-7595423.376880219,-7202846.757342331,-7227199.160680524,-8199899.298736786,-8136540.878755474,-8145661.916826367,-8093481.084597488,-7385057.441437318,-8081060.774520453,-7267269.918007214,-7587642.8052492,-7700671.95780676,-7939261.692170911,-8111448.238300424,-8154693.885006515,-7754131.305225255,-7643954.92597213,-7933404.141942683,-7493129.587562711,-7668299.085104393,-7452125.660298862,-7495449.227155503,-7296045.151828002,-7256445.622117443,-8130292.457153836,-7845538.418362007,-7858587.3015383715,-8157271.0108510535,-7835122.15292701,-8013632.0026827175,-7959090.754724567,-8057908.86803249,-7677573.734406251,-8160793.986718987,-7980254.999297416,-7535785.3486155365,-7329756.191746529,-7907396.054687813,-7401639.73099759,-7325209.203107012,-7405543.354568066,-7397228.15668596,-8166459.776164473,-7432166.3337904615,-7925256.721248528,-8038862.61075056,-8122730.083736422,-7340301.312652882],\"y\":[337142671162007.8,49606915161270.46,40858144760073.7,61455195385439.17,282907643427201.7,81664151230396.27,178957265938720.88,221898436559137.22,247139016839489.28,285079534801716.1,310799842415716.75,147480555572181.94,130951582152809.11,129622105460321.92,164337969774730.5,240033313523364.72,222156242150359.6,139410353562832.0,83745775091719.84,276689512213597.38,156676525748433.6,155213861322793.22,127797073962588.97,71393253511311.78,105629280252896.72,128692749538046.73,124134706935979.56,63203948046608.11,68931067100011.45,60865814537722.445,322549219426974.75,246720066350802.62,144151917479985.25,336022302546157.1,314244994683978.25,278316785086605.0,89849199426485.31,144431749386917.84,109545716992914.22,100058601665131.73,61190220758969.484,110817681877955.44,88018287331688.3,120167567383788.83,50864854543192.68,87147935696423.25,140790822989045.9,90493642744796.38,50983736068250.1,95249371609479.67],\"z\":[2.1751230193314214e+19,6.708149272038141e+20,6.366390612404813e+20,4.856941405549615e+20,1.0421313919221131e+19,5.25725494846312e+20,1.131635531352687e+20,1.1827257140670821e+20,8.815935723438655e+19,1.1107531015035355e+19,2.7211830928482476e+19,1.6073233278227913e+20,2.6650080273451028e+20,3.2241524338215774e+20,2.0009523952009688e+20,1.0160459519624376e+20,1.1876796032454351e+20,2.171308094784323e+20,4.5177887343795995e+20,2.1896797195754734e+19,1.6436203583773075e+20,1.8799928430740226e+20,3.019067113278401e+20,4.929525528941773e+20,2.9288151193899172e+20,2.4249710866180227e+20,3.943289451630606e+20,5.905851596340359e+20,5.2517458967690936e+20,6.240657786529823e+20,2.12954513267258e+19,8.137169069102583e+19,2.1904214462975092e+20,2.1538516692440228e+19,2.12237099649691e+19,3.789197177508964e+19,4.6704854648507616e+20,1.977358998271155e+20,3.772074006838813e+20,4.221263600274988e+20,5.712920573187679e+20,2.8609447648984616e+20,4.210664274766464e+20,3.3484764687578386e+20,6.641724522768982e+20,4.277427036605481e+20,3.470859185097842e+20,4.6879117173957657e+20,6.374567164683013e+20,3.8152292402243384e+20],\"type\":\"scatter3d\"}],                        {\"template\":{\"data\":{\"bar\":[{\"error_x\":{\"color\":\"#2a3f5f\"},\"error_y\":{\"color\":\"#2a3f5f\"},\"marker\":{\"line\":{\"color\":\"#E5ECF6\",\"width\":0.5},\"pattern\":{\"fillmode\":\"overlay\",\"size\":10,\"solidity\":0.2}},\"type\":\"bar\"}],\"barpolar\":[{\"marker\":{\"line\":{\"color\":\"#E5ECF6\",\"width\":0.5},\"pattern\":{\"fillmode\":\"overlay\",\"size\":10,\"solidity\":0.2}},\"type\":\"barpolar\"}],\"carpet\":[{\"aaxis\":{\"endlinecolor\":\"#2a3f5f\",\"gridcolor\":\"white\",\"linecolor\":\"white\",\"minorgridcolor\":\"white\",\"startlinecolor\":\"#2a3f5f\"},\"baxis\":{\"endlinecolor\":\"#2a3f5f\",\"gridcolor\":\"white\",\"linecolor\":\"white\",\"minorgridcolor\":\"white\",\"startlinecolor\":\"#2a3f5f\"},\"type\":\"carpet\"}],\"choropleth\":[{\"colorbar\":{\"outlinewidth\":0,\"ticks\":\"\"},\"type\":\"choropleth\"}],\"contour\":[{\"colorbar\":{\"outlinewidth\":0,\"ticks\":\"\"},\"colorscale\":[[0.0,\"#0d0887\"],[0.1111111111111111,\"#46039f\"],[0.2222222222222222,\"#7201a8\"],[0.3333333333333333,\"#9c179e\"],[0.4444444444444444,\"#bd3786\"],[0.5555555555555556,\"#d8576b\"],[0.6666666666666666,\"#ed7953\"],[0.7777777777777778,\"#fb9f3a\"],[0.8888888888888888,\"#fdca26\"],[1.0,\"#f0f921\"]],\"type\":\"contour\"}],\"contourcarpet\":[{\"colorbar\":{\"outlinewidth\":0,\"ticks\":\"\"},\"type\":\"contourcarpet\"}],\"heatmap\":[{\"colorbar\":{\"outlinewidth\":0,\"ticks\":\"\"},\"colorscale\":[[0.0,\"#0d0887\"],[0.1111111111111111,\"#46039f\"],[0.2222222222222222,\"#7201a8\"],[0.3333333333333333,\"#9c179e\"],[0.4444444444444444,\"#bd3786\"],[0.5555555555555556,\"#d8576b\"],[0.6666666666666666,\"#ed7953\"],[0.7777777777777778,\"#fb9f3a\"],[0.8888888888888888,\"#fdca26\"],[1.0,\"#f0f921\"]],\"type\":\"heatmap\"}],\"heatmapgl\":[{\"colorbar\":{\"outlinewidth\":0,\"ticks\":\"\"},\"colorscale\":[[0.0,\"#0d0887\"],[0.1111111111111111,\"#46039f\"],[0.2222222222222222,\"#7201a8\"],[0.3333333333333333,\"#9c179e\"],[0.4444444444444444,\"#bd3786\"],[0.5555555555555556,\"#d8576b\"],[0.6666666666666666,\"#ed7953\"],[0.7777777777777778,\"#fb9f3a\"],[0.8888888888888888,\"#fdca26\"],[1.0,\"#f0f921\"]],\"type\":\"heatmapgl\"}],\"histogram\":[{\"marker\":{\"pattern\":{\"fillmode\":\"overlay\",\"size\":10,\"solidity\":0.2}},\"type\":\"histogram\"}],\"histogram2d\":[{\"colorbar\":{\"outlinewidth\":0,\"ticks\":\"\"},\"colorscale\":[[0.0,\"#0d0887\"],[0.1111111111111111,\"#46039f\"],[0.2222222222222222,\"#7201a8\"],[0.3333333333333333,\"#9c179e\"],[0.4444444444444444,\"#bd3786\"],[0.5555555555555556,\"#d8576b\"],[0.6666666666666666,\"#ed7953\"],[0.7777777777777778,\"#fb9f3a\"],[0.8888888888888888,\"#fdca26\"],[1.0,\"#f0f921\"]],\"type\":\"histogram2d\"}],\"histogram2dcontour\":[{\"colorbar\":{\"outlinewidth\":0,\"ticks\":\"\"},\"colorscale\":[[0.0,\"#0d0887\"],[0.1111111111111111,\"#46039f\"],[0.2222222222222222,\"#7201a8\"],[0.3333333333333333,\"#9c179e\"],[0.4444444444444444,\"#bd3786\"],[0.5555555555555556,\"#d8576b\"],[0.6666666666666666,\"#ed7953\"],[0.7777777777777778,\"#fb9f3a\"],[0.8888888888888888,\"#fdca26\"],[1.0,\"#f0f921\"]],\"type\":\"histogram2dcontour\"}],\"mesh3d\":[{\"colorbar\":{\"outlinewidth\":0,\"ticks\":\"\"},\"type\":\"mesh3d\"}],\"parcoords\":[{\"line\":{\"colorbar\":{\"outlinewidth\":0,\"ticks\":\"\"}},\"type\":\"parcoords\"}],\"pie\":[{\"automargin\":true,\"type\":\"pie\"}],\"scatter\":[{\"marker\":{\"colorbar\":{\"outlinewidth\":0,\"ticks\":\"\"}},\"type\":\"scatter\"}],\"scatter3d\":[{\"line\":{\"colorbar\":{\"outlinewidth\":0,\"ticks\":\"\"}},\"marker\":{\"colorbar\":{\"outlinewidth\":0,\"ticks\":\"\"}},\"type\":\"scatter3d\"}],\"scattercarpet\":[{\"marker\":{\"colorbar\":{\"outlinewidth\":0,\"ticks\":\"\"}},\"type\":\"scattercarpet\"}],\"scattergeo\":[{\"marker\":{\"colorbar\":{\"outlinewidth\":0,\"ticks\":\"\"}},\"type\":\"scattergeo\"}],\"scattergl\":[{\"marker\":{\"colorbar\":{\"outlinewidth\":0,\"ticks\":\"\"}},\"type\":\"scattergl\"}],\"scattermapbox\":[{\"marker\":{\"colorbar\":{\"outlinewidth\":0,\"ticks\":\"\"}},\"type\":\"scattermapbox\"}],\"scatterpolar\":[{\"marker\":{\"colorbar\":{\"outlinewidth\":0,\"ticks\":\"\"}},\"type\":\"scatterpolar\"}],\"scatterpolargl\":[{\"marker\":{\"colorbar\":{\"outlinewidth\":0,\"ticks\":\"\"}},\"type\":\"scatterpolargl\"}],\"scatterternary\":[{\"marker\":{\"colorbar\":{\"outlinewidth\":0,\"ticks\":\"\"}},\"type\":\"scatterternary\"}],\"surface\":[{\"colorbar\":{\"outlinewidth\":0,\"ticks\":\"\"},\"colorscale\":[[0.0,\"#0d0887\"],[0.1111111111111111,\"#46039f\"],[0.2222222222222222,\"#7201a8\"],[0.3333333333333333,\"#9c179e\"],[0.4444444444444444,\"#bd3786\"],[0.5555555555555556,\"#d8576b\"],[0.6666666666666666,\"#ed7953\"],[0.7777777777777778,\"#fb9f3a\"],[0.8888888888888888,\"#fdca26\"],[1.0,\"#f0f921\"]],\"type\":\"surface\"}],\"table\":[{\"cells\":{\"fill\":{\"color\":\"#EBF0F8\"},\"line\":{\"color\":\"white\"}},\"header\":{\"fill\":{\"color\":\"#C8D4E3\"},\"line\":{\"color\":\"white\"}},\"type\":\"table\"}]},\"layout\":{\"annotationdefaults\":{\"arrowcolor\":\"#2a3f5f\",\"arrowhead\":0,\"arrowwidth\":1},\"autotypenumbers\":\"strict\",\"coloraxis\":{\"colorbar\":{\"outlinewidth\":0,\"ticks\":\"\"}},\"colorscale\":{\"diverging\":[[0,\"#8e0152\"],[0.1,\"#c51b7d\"],[0.2,\"#de77ae\"],[0.3,\"#f1b6da\"],[0.4,\"#fde0ef\"],[0.5,\"#f7f7f7\"],[0.6,\"#e6f5d0\"],[0.7,\"#b8e186\"],[0.8,\"#7fbc41\"],[0.9,\"#4d9221\"],[1,\"#276419\"]],\"sequential\":[[0.0,\"#0d0887\"],[0.1111111111111111,\"#46039f\"],[0.2222222222222222,\"#7201a8\"],[0.3333333333333333,\"#9c179e\"],[0.4444444444444444,\"#bd3786\"],[0.5555555555555556,\"#d8576b\"],[0.6666666666666666,\"#ed7953\"],[0.7777777777777778,\"#fb9f3a\"],[0.8888888888888888,\"#fdca26\"],[1.0,\"#f0f921\"]],\"sequentialminus\":[[0.0,\"#0d0887\"],[0.1111111111111111,\"#46039f\"],[0.2222222222222222,\"#7201a8\"],[0.3333333333333333,\"#9c179e\"],[0.4444444444444444,\"#bd3786\"],[0.5555555555555556,\"#d8576b\"],[0.6666666666666666,\"#ed7953\"],[0.7777777777777778,\"#fb9f3a\"],[0.8888888888888888,\"#fdca26\"],[1.0,\"#f0f921\"]]},\"colorway\":[\"#636efa\",\"#EF553B\",\"#00cc96\",\"#ab63fa\",\"#FFA15A\",\"#19d3f3\",\"#FF6692\",\"#B6E880\",\"#FF97FF\",\"#FECB52\"],\"font\":{\"color\":\"#2a3f5f\"},\"geo\":{\"bgcolor\":\"white\",\"lakecolor\":\"white\",\"landcolor\":\"#E5ECF6\",\"showlakes\":true,\"showland\":true,\"subunitcolor\":\"white\"},\"hoverlabel\":{\"align\":\"left\"},\"hovermode\":\"closest\",\"mapbox\":{\"style\":\"light\"},\"paper_bgcolor\":\"white\",\"plot_bgcolor\":\"#E5ECF6\",\"polar\":{\"angularaxis\":{\"gridcolor\":\"white\",\"linecolor\":\"white\",\"ticks\":\"\"},\"bgcolor\":\"#E5ECF6\",\"radialaxis\":{\"gridcolor\":\"white\",\"linecolor\":\"white\",\"ticks\":\"\"}},\"scene\":{\"xaxis\":{\"backgroundcolor\":\"#E5ECF6\",\"gridcolor\":\"white\",\"gridwidth\":2,\"linecolor\":\"white\",\"showbackground\":true,\"ticks\":\"\",\"zerolinecolor\":\"white\"},\"yaxis\":{\"backgroundcolor\":\"#E5ECF6\",\"gridcolor\":\"white\",\"gridwidth\":2,\"linecolor\":\"white\",\"showbackground\":true,\"ticks\":\"\",\"zerolinecolor\":\"white\"},\"zaxis\":{\"backgroundcolor\":\"#E5ECF6\",\"gridcolor\":\"white\",\"gridwidth\":2,\"linecolor\":\"white\",\"showbackground\":true,\"ticks\":\"\",\"zerolinecolor\":\"white\"}},\"shapedefaults\":{\"line\":{\"color\":\"#2a3f5f\"}},\"ternary\":{\"aaxis\":{\"gridcolor\":\"white\",\"linecolor\":\"white\",\"ticks\":\"\"},\"baxis\":{\"gridcolor\":\"white\",\"linecolor\":\"white\",\"ticks\":\"\"},\"bgcolor\":\"#E5ECF6\",\"caxis\":{\"gridcolor\":\"white\",\"linecolor\":\"white\",\"ticks\":\"\"}},\"title\":{\"x\":0.05},\"xaxis\":{\"automargin\":true,\"gridcolor\":\"white\",\"linecolor\":\"white\",\"ticks\":\"\",\"title\":{\"standoff\":15},\"zerolinecolor\":\"white\",\"zerolinewidth\":2},\"yaxis\":{\"automargin\":true,\"gridcolor\":\"white\",\"linecolor\":\"white\",\"ticks\":\"\",\"title\":{\"standoff\":15},\"zerolinecolor\":\"white\",\"zerolinewidth\":2}}},\"scene\":{\"domain\":{\"x\":[0.0,1.0],\"y\":[0.0,1.0]},\"xaxis\":{\"title\":{\"text\":\"x\"}},\"yaxis\":{\"title\":{\"text\":\"y\"}},\"zaxis\":{\"title\":{\"text\":\"z\"}}},\"legend\":{\"tracegroupgap\":0},\"margin\":{\"t\":60}},                        {\"responsive\": true}                    ).then(function(){\n",
              "                            \n",
              "var gd = document.getElementById('d326b4b5-f1d6-400e-abf1-5a96e21a824c');\n",
              "var x = new MutationObserver(function (mutations, observer) {{\n",
              "        var display = window.getComputedStyle(gd).display;\n",
              "        if (!display || display === 'none') {{\n",
              "            console.log([gd, 'removed!']);\n",
              "            Plotly.purge(gd);\n",
              "            observer.disconnect();\n",
              "        }}\n",
              "}});\n",
              "\n",
              "// Listen for the removal of the full notebook cells\n",
              "var notebookContainer = gd.closest('#notebook-container');\n",
              "if (notebookContainer) {{\n",
              "    x.observe(notebookContainer, {childList: true});\n",
              "}}\n",
              "\n",
              "// Listen for the clearing of the current output cell\n",
              "var outputEl = gd.closest('.output');\n",
              "if (outputEl) {{\n",
              "    x.observe(outputEl, {childList: true});\n",
              "}}\n",
              "\n",
              "                        })                };                            </script>        </div>\n",
              "</body>\n",
              "</html>"
            ]
          },
          "metadata": {}
        }
      ],
      "source": [
        "import pandas as pd\n",
        "df = res.F\n",
        "dict = {'power':df[:,0],\n",
        "        'economic':df[:,1],\n",
        "        'environmental':df[:,2]\n",
        "       }\n",
        "dataf = pd.DataFrame(dict)\n",
        "  \n",
        "display(dataf)\n",
        "fig = px.scatter_3d( x=df[:,0], y=df[:,1], z=df[:,2])\n",
        "\n",
        "fig.show()"
      ]
    },
    {
      "cell_type": "code",
      "source": [
        "import plotly.express as px\n",
        "\n",
        "fig = px.scatter_3d(dataf, x='power', y='economic', z='environmental')\n",
        "fig.show()"
      ],
      "metadata": {
        "colab": {
          "base_uri": "https://localhost:8080/",
          "height": 542
        },
        "id": "QoYQs_5qKUBc",
        "outputId": "70754c03-dd7e-4a6b-988b-a510d5c34d36"
      },
      "execution_count": null,
      "outputs": [
        {
          "output_type": "display_data",
          "data": {
            "text/html": [
              "<html>\n",
              "<head><meta charset=\"utf-8\" /></head>\n",
              "<body>\n",
              "    <div>            <script src=\"https://cdnjs.cloudflare.com/ajax/libs/mathjax/2.7.5/MathJax.js?config=TeX-AMS-MML_SVG\"></script><script type=\"text/javascript\">if (window.MathJax) {MathJax.Hub.Config({SVG: {font: \"STIX-Web\"}});}</script>                <script type=\"text/javascript\">window.PlotlyConfig = {MathJaxConfig: 'local'};</script>\n",
              "        <script src=\"https://cdn.plot.ly/plotly-2.8.3.min.js\"></script>                <div id=\"0f948b82-3b3f-41bf-ab5f-7a4e551f745c\" class=\"plotly-graph-div\" style=\"height:525px; width:100%;\"></div>            <script type=\"text/javascript\">                                    window.PLOTLYENV=window.PLOTLYENV || {};                                    if (document.getElementById(\"0f948b82-3b3f-41bf-ab5f-7a4e551f745c\")) {                    Plotly.newPlot(                        \"0f948b82-3b3f-41bf-ab5f-7a4e551f745c\",                        [{\"hovertemplate\":\"power=%{x}<br>economic=%{y}<br>environmental=%{z}<extra></extra>\",\"legendgroup\":\"\",\"marker\":{\"color\":\"#636efa\",\"symbol\":\"circle\"},\"mode\":\"markers\",\"name\":\"\",\"scene\":\"scene\",\"showlegend\":false,\"x\":[-8136632.7159941215,-8177005.292974427,-7595423.376880219,-7202846.757342331,-7227199.160680524,-8199899.298736786,-8136540.878755474,-8145661.916826367,-8093481.084597488,-7385057.441437318,-8081060.774520453,-7267269.918007214,-7587642.8052492,-7700671.95780676,-7939261.692170911,-8111448.238300424,-8154693.885006515,-7754131.305225255,-7643954.92597213,-7933404.141942683,-7493129.587562711,-7668299.085104393,-7452125.660298862,-7495449.227155503,-7296045.151828002,-7256445.622117443,-8130292.457153836,-7845538.418362007,-7858587.3015383715,-8157271.0108510535,-7835122.15292701,-8013632.0026827175,-7959090.754724567,-8057908.86803249,-7677573.734406251,-8160793.986718987,-7980254.999297416,-7535785.3486155365,-7329756.191746529,-7907396.054687813,-7401639.73099759,-7325209.203107012,-7405543.354568066,-7397228.15668596,-8166459.776164473,-7432166.3337904615,-7925256.721248528,-8038862.61075056,-8122730.083736422,-7340301.312652882],\"y\":[337142671162007.8,49606915161270.46,40858144760073.7,61455195385439.17,282907643427201.7,81664151230396.27,178957265938720.88,221898436559137.22,247139016839489.28,285079534801716.1,310799842415716.75,147480555572181.94,130951582152809.11,129622105460321.92,164337969774730.5,240033313523364.72,222156242150359.6,139410353562832.0,83745775091719.84,276689512213597.38,156676525748433.6,155213861322793.22,127797073962588.97,71393253511311.78,105629280252896.72,128692749538046.73,124134706935979.56,63203948046608.11,68931067100011.45,60865814537722.445,322549219426974.75,246720066350802.62,144151917479985.25,336022302546157.1,314244994683978.25,278316785086605.0,89849199426485.31,144431749386917.84,109545716992914.22,100058601665131.73,61190220758969.484,110817681877955.44,88018287331688.3,120167567383788.83,50864854543192.68,87147935696423.25,140790822989045.9,90493642744796.38,50983736068250.1,95249371609479.67],\"z\":[2.1751230193314214e+19,6.708149272038141e+20,6.366390612404813e+20,4.856941405549615e+20,1.0421313919221131e+19,5.25725494846312e+20,1.131635531352687e+20,1.1827257140670821e+20,8.815935723438655e+19,1.1107531015035355e+19,2.7211830928482476e+19,1.6073233278227913e+20,2.6650080273451028e+20,3.2241524338215774e+20,2.0009523952009688e+20,1.0160459519624376e+20,1.1876796032454351e+20,2.171308094784323e+20,4.5177887343795995e+20,2.1896797195754734e+19,1.6436203583773075e+20,1.8799928430740226e+20,3.019067113278401e+20,4.929525528941773e+20,2.9288151193899172e+20,2.4249710866180227e+20,3.943289451630606e+20,5.905851596340359e+20,5.2517458967690936e+20,6.240657786529823e+20,2.12954513267258e+19,8.137169069102583e+19,2.1904214462975092e+20,2.1538516692440228e+19,2.12237099649691e+19,3.789197177508964e+19,4.6704854648507616e+20,1.977358998271155e+20,3.772074006838813e+20,4.221263600274988e+20,5.712920573187679e+20,2.8609447648984616e+20,4.210664274766464e+20,3.3484764687578386e+20,6.641724522768982e+20,4.277427036605481e+20,3.470859185097842e+20,4.6879117173957657e+20,6.374567164683013e+20,3.8152292402243384e+20],\"type\":\"scatter3d\"}],                        {\"template\":{\"data\":{\"bar\":[{\"error_x\":{\"color\":\"#2a3f5f\"},\"error_y\":{\"color\":\"#2a3f5f\"},\"marker\":{\"line\":{\"color\":\"#E5ECF6\",\"width\":0.5},\"pattern\":{\"fillmode\":\"overlay\",\"size\":10,\"solidity\":0.2}},\"type\":\"bar\"}],\"barpolar\":[{\"marker\":{\"line\":{\"color\":\"#E5ECF6\",\"width\":0.5},\"pattern\":{\"fillmode\":\"overlay\",\"size\":10,\"solidity\":0.2}},\"type\":\"barpolar\"}],\"carpet\":[{\"aaxis\":{\"endlinecolor\":\"#2a3f5f\",\"gridcolor\":\"white\",\"linecolor\":\"white\",\"minorgridcolor\":\"white\",\"startlinecolor\":\"#2a3f5f\"},\"baxis\":{\"endlinecolor\":\"#2a3f5f\",\"gridcolor\":\"white\",\"linecolor\":\"white\",\"minorgridcolor\":\"white\",\"startlinecolor\":\"#2a3f5f\"},\"type\":\"carpet\"}],\"choropleth\":[{\"colorbar\":{\"outlinewidth\":0,\"ticks\":\"\"},\"type\":\"choropleth\"}],\"contour\":[{\"colorbar\":{\"outlinewidth\":0,\"ticks\":\"\"},\"colorscale\":[[0.0,\"#0d0887\"],[0.1111111111111111,\"#46039f\"],[0.2222222222222222,\"#7201a8\"],[0.3333333333333333,\"#9c179e\"],[0.4444444444444444,\"#bd3786\"],[0.5555555555555556,\"#d8576b\"],[0.6666666666666666,\"#ed7953\"],[0.7777777777777778,\"#fb9f3a\"],[0.8888888888888888,\"#fdca26\"],[1.0,\"#f0f921\"]],\"type\":\"contour\"}],\"contourcarpet\":[{\"colorbar\":{\"outlinewidth\":0,\"ticks\":\"\"},\"type\":\"contourcarpet\"}],\"heatmap\":[{\"colorbar\":{\"outlinewidth\":0,\"ticks\":\"\"},\"colorscale\":[[0.0,\"#0d0887\"],[0.1111111111111111,\"#46039f\"],[0.2222222222222222,\"#7201a8\"],[0.3333333333333333,\"#9c179e\"],[0.4444444444444444,\"#bd3786\"],[0.5555555555555556,\"#d8576b\"],[0.6666666666666666,\"#ed7953\"],[0.7777777777777778,\"#fb9f3a\"],[0.8888888888888888,\"#fdca26\"],[1.0,\"#f0f921\"]],\"type\":\"heatmap\"}],\"heatmapgl\":[{\"colorbar\":{\"outlinewidth\":0,\"ticks\":\"\"},\"colorscale\":[[0.0,\"#0d0887\"],[0.1111111111111111,\"#46039f\"],[0.2222222222222222,\"#7201a8\"],[0.3333333333333333,\"#9c179e\"],[0.4444444444444444,\"#bd3786\"],[0.5555555555555556,\"#d8576b\"],[0.6666666666666666,\"#ed7953\"],[0.7777777777777778,\"#fb9f3a\"],[0.8888888888888888,\"#fdca26\"],[1.0,\"#f0f921\"]],\"type\":\"heatmapgl\"}],\"histogram\":[{\"marker\":{\"pattern\":{\"fillmode\":\"overlay\",\"size\":10,\"solidity\":0.2}},\"type\":\"histogram\"}],\"histogram2d\":[{\"colorbar\":{\"outlinewidth\":0,\"ticks\":\"\"},\"colorscale\":[[0.0,\"#0d0887\"],[0.1111111111111111,\"#46039f\"],[0.2222222222222222,\"#7201a8\"],[0.3333333333333333,\"#9c179e\"],[0.4444444444444444,\"#bd3786\"],[0.5555555555555556,\"#d8576b\"],[0.6666666666666666,\"#ed7953\"],[0.7777777777777778,\"#fb9f3a\"],[0.8888888888888888,\"#fdca26\"],[1.0,\"#f0f921\"]],\"type\":\"histogram2d\"}],\"histogram2dcontour\":[{\"colorbar\":{\"outlinewidth\":0,\"ticks\":\"\"},\"colorscale\":[[0.0,\"#0d0887\"],[0.1111111111111111,\"#46039f\"],[0.2222222222222222,\"#7201a8\"],[0.3333333333333333,\"#9c179e\"],[0.4444444444444444,\"#bd3786\"],[0.5555555555555556,\"#d8576b\"],[0.6666666666666666,\"#ed7953\"],[0.7777777777777778,\"#fb9f3a\"],[0.8888888888888888,\"#fdca26\"],[1.0,\"#f0f921\"]],\"type\":\"histogram2dcontour\"}],\"mesh3d\":[{\"colorbar\":{\"outlinewidth\":0,\"ticks\":\"\"},\"type\":\"mesh3d\"}],\"parcoords\":[{\"line\":{\"colorbar\":{\"outlinewidth\":0,\"ticks\":\"\"}},\"type\":\"parcoords\"}],\"pie\":[{\"automargin\":true,\"type\":\"pie\"}],\"scatter\":[{\"marker\":{\"colorbar\":{\"outlinewidth\":0,\"ticks\":\"\"}},\"type\":\"scatter\"}],\"scatter3d\":[{\"line\":{\"colorbar\":{\"outlinewidth\":0,\"ticks\":\"\"}},\"marker\":{\"colorbar\":{\"outlinewidth\":0,\"ticks\":\"\"}},\"type\":\"scatter3d\"}],\"scattercarpet\":[{\"marker\":{\"colorbar\":{\"outlinewidth\":0,\"ticks\":\"\"}},\"type\":\"scattercarpet\"}],\"scattergeo\":[{\"marker\":{\"colorbar\":{\"outlinewidth\":0,\"ticks\":\"\"}},\"type\":\"scattergeo\"}],\"scattergl\":[{\"marker\":{\"colorbar\":{\"outlinewidth\":0,\"ticks\":\"\"}},\"type\":\"scattergl\"}],\"scattermapbox\":[{\"marker\":{\"colorbar\":{\"outlinewidth\":0,\"ticks\":\"\"}},\"type\":\"scattermapbox\"}],\"scatterpolar\":[{\"marker\":{\"colorbar\":{\"outlinewidth\":0,\"ticks\":\"\"}},\"type\":\"scatterpolar\"}],\"scatterpolargl\":[{\"marker\":{\"colorbar\":{\"outlinewidth\":0,\"ticks\":\"\"}},\"type\":\"scatterpolargl\"}],\"scatterternary\":[{\"marker\":{\"colorbar\":{\"outlinewidth\":0,\"ticks\":\"\"}},\"type\":\"scatterternary\"}],\"surface\":[{\"colorbar\":{\"outlinewidth\":0,\"ticks\":\"\"},\"colorscale\":[[0.0,\"#0d0887\"],[0.1111111111111111,\"#46039f\"],[0.2222222222222222,\"#7201a8\"],[0.3333333333333333,\"#9c179e\"],[0.4444444444444444,\"#bd3786\"],[0.5555555555555556,\"#d8576b\"],[0.6666666666666666,\"#ed7953\"],[0.7777777777777778,\"#fb9f3a\"],[0.8888888888888888,\"#fdca26\"],[1.0,\"#f0f921\"]],\"type\":\"surface\"}],\"table\":[{\"cells\":{\"fill\":{\"color\":\"#EBF0F8\"},\"line\":{\"color\":\"white\"}},\"header\":{\"fill\":{\"color\":\"#C8D4E3\"},\"line\":{\"color\":\"white\"}},\"type\":\"table\"}]},\"layout\":{\"annotationdefaults\":{\"arrowcolor\":\"#2a3f5f\",\"arrowhead\":0,\"arrowwidth\":1},\"autotypenumbers\":\"strict\",\"coloraxis\":{\"colorbar\":{\"outlinewidth\":0,\"ticks\":\"\"}},\"colorscale\":{\"diverging\":[[0,\"#8e0152\"],[0.1,\"#c51b7d\"],[0.2,\"#de77ae\"],[0.3,\"#f1b6da\"],[0.4,\"#fde0ef\"],[0.5,\"#f7f7f7\"],[0.6,\"#e6f5d0\"],[0.7,\"#b8e186\"],[0.8,\"#7fbc41\"],[0.9,\"#4d9221\"],[1,\"#276419\"]],\"sequential\":[[0.0,\"#0d0887\"],[0.1111111111111111,\"#46039f\"],[0.2222222222222222,\"#7201a8\"],[0.3333333333333333,\"#9c179e\"],[0.4444444444444444,\"#bd3786\"],[0.5555555555555556,\"#d8576b\"],[0.6666666666666666,\"#ed7953\"],[0.7777777777777778,\"#fb9f3a\"],[0.8888888888888888,\"#fdca26\"],[1.0,\"#f0f921\"]],\"sequentialminus\":[[0.0,\"#0d0887\"],[0.1111111111111111,\"#46039f\"],[0.2222222222222222,\"#7201a8\"],[0.3333333333333333,\"#9c179e\"],[0.4444444444444444,\"#bd3786\"],[0.5555555555555556,\"#d8576b\"],[0.6666666666666666,\"#ed7953\"],[0.7777777777777778,\"#fb9f3a\"],[0.8888888888888888,\"#fdca26\"],[1.0,\"#f0f921\"]]},\"colorway\":[\"#636efa\",\"#EF553B\",\"#00cc96\",\"#ab63fa\",\"#FFA15A\",\"#19d3f3\",\"#FF6692\",\"#B6E880\",\"#FF97FF\",\"#FECB52\"],\"font\":{\"color\":\"#2a3f5f\"},\"geo\":{\"bgcolor\":\"white\",\"lakecolor\":\"white\",\"landcolor\":\"#E5ECF6\",\"showlakes\":true,\"showland\":true,\"subunitcolor\":\"white\"},\"hoverlabel\":{\"align\":\"left\"},\"hovermode\":\"closest\",\"mapbox\":{\"style\":\"light\"},\"paper_bgcolor\":\"white\",\"plot_bgcolor\":\"#E5ECF6\",\"polar\":{\"angularaxis\":{\"gridcolor\":\"white\",\"linecolor\":\"white\",\"ticks\":\"\"},\"bgcolor\":\"#E5ECF6\",\"radialaxis\":{\"gridcolor\":\"white\",\"linecolor\":\"white\",\"ticks\":\"\"}},\"scene\":{\"xaxis\":{\"backgroundcolor\":\"#E5ECF6\",\"gridcolor\":\"white\",\"gridwidth\":2,\"linecolor\":\"white\",\"showbackground\":true,\"ticks\":\"\",\"zerolinecolor\":\"white\"},\"yaxis\":{\"backgroundcolor\":\"#E5ECF6\",\"gridcolor\":\"white\",\"gridwidth\":2,\"linecolor\":\"white\",\"showbackground\":true,\"ticks\":\"\",\"zerolinecolor\":\"white\"},\"zaxis\":{\"backgroundcolor\":\"#E5ECF6\",\"gridcolor\":\"white\",\"gridwidth\":2,\"linecolor\":\"white\",\"showbackground\":true,\"ticks\":\"\",\"zerolinecolor\":\"white\"}},\"shapedefaults\":{\"line\":{\"color\":\"#2a3f5f\"}},\"ternary\":{\"aaxis\":{\"gridcolor\":\"white\",\"linecolor\":\"white\",\"ticks\":\"\"},\"baxis\":{\"gridcolor\":\"white\",\"linecolor\":\"white\",\"ticks\":\"\"},\"bgcolor\":\"#E5ECF6\",\"caxis\":{\"gridcolor\":\"white\",\"linecolor\":\"white\",\"ticks\":\"\"}},\"title\":{\"x\":0.05},\"xaxis\":{\"automargin\":true,\"gridcolor\":\"white\",\"linecolor\":\"white\",\"ticks\":\"\",\"title\":{\"standoff\":15},\"zerolinecolor\":\"white\",\"zerolinewidth\":2},\"yaxis\":{\"automargin\":true,\"gridcolor\":\"white\",\"linecolor\":\"white\",\"ticks\":\"\",\"title\":{\"standoff\":15},\"zerolinecolor\":\"white\",\"zerolinewidth\":2}}},\"scene\":{\"domain\":{\"x\":[0.0,1.0],\"y\":[0.0,1.0]},\"xaxis\":{\"title\":{\"text\":\"power\"}},\"yaxis\":{\"title\":{\"text\":\"economic\"}},\"zaxis\":{\"title\":{\"text\":\"environmental\"}}},\"legend\":{\"tracegroupgap\":0},\"margin\":{\"t\":60}},                        {\"responsive\": true}                    ).then(function(){\n",
              "                            \n",
              "var gd = document.getElementById('0f948b82-3b3f-41bf-ab5f-7a4e551f745c');\n",
              "var x = new MutationObserver(function (mutations, observer) {{\n",
              "        var display = window.getComputedStyle(gd).display;\n",
              "        if (!display || display === 'none') {{\n",
              "            console.log([gd, 'removed!']);\n",
              "            Plotly.purge(gd);\n",
              "            observer.disconnect();\n",
              "        }}\n",
              "}});\n",
              "\n",
              "// Listen for the removal of the full notebook cells\n",
              "var notebookContainer = gd.closest('#notebook-container');\n",
              "if (notebookContainer) {{\n",
              "    x.observe(notebookContainer, {childList: true});\n",
              "}}\n",
              "\n",
              "// Listen for the clearing of the current output cell\n",
              "var outputEl = gd.closest('.output');\n",
              "if (outputEl) {{\n",
              "    x.observe(outputEl, {childList: true});\n",
              "}}\n",
              "\n",
              "                        })                };                            </script>        </div>\n",
              "</body>\n",
              "</html>"
            ]
          },
          "metadata": {}
        }
      ]
    },
    {
      "cell_type": "code",
      "source": [
        "import numpy as np\n",
        "weights = np.array([0.1, 0.6, 0.3])\n",
        "from pymoo.decomposition.asf import ASF\n",
        "import plotly.graph_objects as go\n",
        "import numpy as np\n",
        "decomp = ASF()\n",
        "i = decomp.do(df, 1/weights).argmin()\n",
        "print(\"Best regarding ASF: Point \\ni = %s\\nF = %s\" % (i, df[i]))"
      ],
      "metadata": {
        "colab": {
          "base_uri": "https://localhost:8080/"
        },
        "id": "VwchB_Ct_L4r",
        "outputId": "d3c6dc3a-6b65-4548-9cf0-915284c9684a"
      },
      "execution_count": null,
      "outputs": [
        {
          "output_type": "stream",
          "name": "stdout",
          "text": [
            "Best regarding ASF: Point \n",
            "i = 4\n",
            "F = [-7.22719916e+06  2.82907643e+14  1.04213139e+19]\n"
          ]
        }
      ]
    },
    {
      "cell_type": "code",
      "source": [
        "from pymoo.visualization.scatter import Scatter\n",
        "from pymoo.algorithms.moo.nsga2 import RankAndCrowdingSurvival\n",
        "from pymoo.core.mixed import MixedVariableGA\n",
        "from pymoo.optimize import minimize\n",
        "\n",
        "problem = MultiObjectiveMixedVariableProblem()\n",
        "\n",
        "algorithm = MixedVariableGA(pop_size=50, survival=RankAndCrowdingSurvival())\n",
        "\n",
        "res = minimize(problem,\n",
        "               algorithm,\n",
        "               ('n_gen', 50),\n",
        "               seed=1,\n",
        "               verbose=False)\n",
        "\n",
        "import pandas as pd\n",
        "df = res.F\n",
        "dict = {'power':df[:,0],\n",
        "        'economic':df[:,1],\n",
        "        'environmental':df[:,2]\n",
        "       }\n",
        "dataf = pd.DataFrame(dict)\n",
        "  \n",
        "display(dataf)\n",
        "fig = px.scatter_3d(dataf, x='power', y='economic', z='environmental')\n",
        "fig.show()"
      ],
      "metadata": {
        "colab": {
          "base_uri": "https://localhost:8080/",
          "height": 1000
        },
        "id": "2As50WdpNv_w",
        "outputId": "a7eef130-d593-472f-c5aa-03face83ade1"
      },
      "execution_count": null,
      "outputs": [
        {
          "output_type": "display_data",
          "data": {
            "text/plain": [
              "           power      economic  environmental\n",
              "0  -8.189372e+06  1.057241e+14   4.089921e+20\n",
              "1  -7.298280e+06  9.013375e+13   3.674752e+20\n",
              "2  -8.159993e+06  2.883533e+14   5.111332e+19\n",
              "3  -8.197745e+06  1.871469e+14   1.747172e+20\n",
              "4  -7.201046e+06  1.595767e+14   1.038538e+20\n",
              "5  -7.259104e+06  2.105217e+14   1.339841e+19\n",
              "6  -7.411703e+06  2.439061e+14   7.167310e+19\n",
              "7  -8.049977e+06  1.987236e+14   1.161003e+20\n",
              "8  -7.339551e+06  2.109504e+14   2.020798e+19\n",
              "9  -7.352132e+06  1.292706e+14   2.070780e+20\n",
              "10 -7.499280e+06  2.621909e+14   1.528300e+19\n",
              "11 -7.680147e+06  2.661193e+14   2.089180e+19\n",
              "12 -8.013435e+06  1.034510e+14   4.070718e+20\n",
              "13 -7.860149e+06  2.046885e+14   7.445428e+19\n",
              "14 -7.968195e+06  1.090636e+14   3.590160e+20\n",
              "15 -7.909700e+06  2.788257e+14   1.413195e+19\n",
              "16 -8.134450e+06  1.750660e+14   1.404481e+20\n",
              "17 -7.582560e+06  1.681689e+14   1.045928e+20\n",
              "18 -8.139342e+06  2.810868e+14   2.774206e+19\n",
              "19 -7.930005e+06  1.930656e+14   1.159519e+20\n",
              "20 -7.291554e+06  1.102169e+14   2.896039e+20\n",
              "21 -8.092970e+06  1.327099e+14   2.715684e+20\n",
              "22 -7.215420e+06  1.810725e+14   9.605308e+19\n",
              "23 -7.941561e+06  1.337925e+14   2.463761e+20\n",
              "24 -7.617776e+06  9.551335e+13   3.847804e+20\n",
              "25 -7.829307e+06  1.563240e+14   1.873965e+20\n",
              "26 -7.229684e+06  1.211999e+14   2.509012e+20\n",
              "27 -8.157524e+06  2.883246e+14   5.102660e+19\n",
              "28 -7.581261e+06  1.517536e+14   1.396213e+20\n",
              "29 -7.382974e+06  1.050230e+14   3.125842e+20\n",
              "30 -7.468887e+06  1.295990e+14   2.186731e+20\n",
              "31 -7.776540e+06  1.076025e+14   3.416083e+20\n",
              "32 -7.953741e+06  1.324326e+14   2.579951e+20\n",
              "33 -7.799969e+06  1.547559e+14   1.534868e+20\n",
              "34 -7.821788e+06  1.195587e+14   2.905725e+20\n",
              "35 -7.857936e+06  1.009676e+14   3.902070e+20\n",
              "36 -7.543109e+06  1.040020e+14   3.344668e+20\n",
              "37 -7.377908e+06  1.338855e+14   1.868421e+20\n",
              "38 -7.909840e+06  1.406081e+14   2.179555e+20\n",
              "39 -7.557723e+06  1.157508e+14   2.704021e+20\n",
              "40 -7.452736e+06  2.512227e+14   6.375242e+19\n",
              "41 -7.696289e+06  1.057659e+14   3.698407e+20\n",
              "42 -7.443201e+06  2.510886e+14   6.374447e+19\n",
              "43 -7.447726e+06  1.376078e+14   1.707030e+20\n",
              "44 -8.185478e+06  2.836349e+14   6.609428e+19\n",
              "45 -7.766359e+06  1.527762e+14   1.532851e+20\n",
              "46 -7.480726e+06  1.043829e+14   3.260371e+20\n",
              "47 -7.411505e+06  1.052301e+14   3.126829e+20\n",
              "48 -7.638732e+06  1.465133e+14   1.709046e+20\n",
              "49 -7.337733e+06  1.826883e+14   9.662935e+19"
            ],
            "text/html": [
              "\n",
              "  <div id=\"df-d5adc6de-9238-4952-8d2a-d472852481c2\">\n",
              "    <div class=\"colab-df-container\">\n",
              "      <div>\n",
              "<style scoped>\n",
              "    .dataframe tbody tr th:only-of-type {\n",
              "        vertical-align: middle;\n",
              "    }\n",
              "\n",
              "    .dataframe tbody tr th {\n",
              "        vertical-align: top;\n",
              "    }\n",
              "\n",
              "    .dataframe thead th {\n",
              "        text-align: right;\n",
              "    }\n",
              "</style>\n",
              "<table border=\"1\" class=\"dataframe\">\n",
              "  <thead>\n",
              "    <tr style=\"text-align: right;\">\n",
              "      <th></th>\n",
              "      <th>power</th>\n",
              "      <th>economic</th>\n",
              "      <th>environmental</th>\n",
              "    </tr>\n",
              "  </thead>\n",
              "  <tbody>\n",
              "    <tr>\n",
              "      <th>0</th>\n",
              "      <td>-8.189372e+06</td>\n",
              "      <td>1.057241e+14</td>\n",
              "      <td>4.089921e+20</td>\n",
              "    </tr>\n",
              "    <tr>\n",
              "      <th>1</th>\n",
              "      <td>-7.298280e+06</td>\n",
              "      <td>9.013375e+13</td>\n",
              "      <td>3.674752e+20</td>\n",
              "    </tr>\n",
              "    <tr>\n",
              "      <th>2</th>\n",
              "      <td>-8.159993e+06</td>\n",
              "      <td>2.883533e+14</td>\n",
              "      <td>5.111332e+19</td>\n",
              "    </tr>\n",
              "    <tr>\n",
              "      <th>3</th>\n",
              "      <td>-8.197745e+06</td>\n",
              "      <td>1.871469e+14</td>\n",
              "      <td>1.747172e+20</td>\n",
              "    </tr>\n",
              "    <tr>\n",
              "      <th>4</th>\n",
              "      <td>-7.201046e+06</td>\n",
              "      <td>1.595767e+14</td>\n",
              "      <td>1.038538e+20</td>\n",
              "    </tr>\n",
              "    <tr>\n",
              "      <th>5</th>\n",
              "      <td>-7.259104e+06</td>\n",
              "      <td>2.105217e+14</td>\n",
              "      <td>1.339841e+19</td>\n",
              "    </tr>\n",
              "    <tr>\n",
              "      <th>6</th>\n",
              "      <td>-7.411703e+06</td>\n",
              "      <td>2.439061e+14</td>\n",
              "      <td>7.167310e+19</td>\n",
              "    </tr>\n",
              "    <tr>\n",
              "      <th>7</th>\n",
              "      <td>-8.049977e+06</td>\n",
              "      <td>1.987236e+14</td>\n",
              "      <td>1.161003e+20</td>\n",
              "    </tr>\n",
              "    <tr>\n",
              "      <th>8</th>\n",
              "      <td>-7.339551e+06</td>\n",
              "      <td>2.109504e+14</td>\n",
              "      <td>2.020798e+19</td>\n",
              "    </tr>\n",
              "    <tr>\n",
              "      <th>9</th>\n",
              "      <td>-7.352132e+06</td>\n",
              "      <td>1.292706e+14</td>\n",
              "      <td>2.070780e+20</td>\n",
              "    </tr>\n",
              "    <tr>\n",
              "      <th>10</th>\n",
              "      <td>-7.499280e+06</td>\n",
              "      <td>2.621909e+14</td>\n",
              "      <td>1.528300e+19</td>\n",
              "    </tr>\n",
              "    <tr>\n",
              "      <th>11</th>\n",
              "      <td>-7.680147e+06</td>\n",
              "      <td>2.661193e+14</td>\n",
              "      <td>2.089180e+19</td>\n",
              "    </tr>\n",
              "    <tr>\n",
              "      <th>12</th>\n",
              "      <td>-8.013435e+06</td>\n",
              "      <td>1.034510e+14</td>\n",
              "      <td>4.070718e+20</td>\n",
              "    </tr>\n",
              "    <tr>\n",
              "      <th>13</th>\n",
              "      <td>-7.860149e+06</td>\n",
              "      <td>2.046885e+14</td>\n",
              "      <td>7.445428e+19</td>\n",
              "    </tr>\n",
              "    <tr>\n",
              "      <th>14</th>\n",
              "      <td>-7.968195e+06</td>\n",
              "      <td>1.090636e+14</td>\n",
              "      <td>3.590160e+20</td>\n",
              "    </tr>\n",
              "    <tr>\n",
              "      <th>15</th>\n",
              "      <td>-7.909700e+06</td>\n",
              "      <td>2.788257e+14</td>\n",
              "      <td>1.413195e+19</td>\n",
              "    </tr>\n",
              "    <tr>\n",
              "      <th>16</th>\n",
              "      <td>-8.134450e+06</td>\n",
              "      <td>1.750660e+14</td>\n",
              "      <td>1.404481e+20</td>\n",
              "    </tr>\n",
              "    <tr>\n",
              "      <th>17</th>\n",
              "      <td>-7.582560e+06</td>\n",
              "      <td>1.681689e+14</td>\n",
              "      <td>1.045928e+20</td>\n",
              "    </tr>\n",
              "    <tr>\n",
              "      <th>18</th>\n",
              "      <td>-8.139342e+06</td>\n",
              "      <td>2.810868e+14</td>\n",
              "      <td>2.774206e+19</td>\n",
              "    </tr>\n",
              "    <tr>\n",
              "      <th>19</th>\n",
              "      <td>-7.930005e+06</td>\n",
              "      <td>1.930656e+14</td>\n",
              "      <td>1.159519e+20</td>\n",
              "    </tr>\n",
              "    <tr>\n",
              "      <th>20</th>\n",
              "      <td>-7.291554e+06</td>\n",
              "      <td>1.102169e+14</td>\n",
              "      <td>2.896039e+20</td>\n",
              "    </tr>\n",
              "    <tr>\n",
              "      <th>21</th>\n",
              "      <td>-8.092970e+06</td>\n",
              "      <td>1.327099e+14</td>\n",
              "      <td>2.715684e+20</td>\n",
              "    </tr>\n",
              "    <tr>\n",
              "      <th>22</th>\n",
              "      <td>-7.215420e+06</td>\n",
              "      <td>1.810725e+14</td>\n",
              "      <td>9.605308e+19</td>\n",
              "    </tr>\n",
              "    <tr>\n",
              "      <th>23</th>\n",
              "      <td>-7.941561e+06</td>\n",
              "      <td>1.337925e+14</td>\n",
              "      <td>2.463761e+20</td>\n",
              "    </tr>\n",
              "    <tr>\n",
              "      <th>24</th>\n",
              "      <td>-7.617776e+06</td>\n",
              "      <td>9.551335e+13</td>\n",
              "      <td>3.847804e+20</td>\n",
              "    </tr>\n",
              "    <tr>\n",
              "      <th>25</th>\n",
              "      <td>-7.829307e+06</td>\n",
              "      <td>1.563240e+14</td>\n",
              "      <td>1.873965e+20</td>\n",
              "    </tr>\n",
              "    <tr>\n",
              "      <th>26</th>\n",
              "      <td>-7.229684e+06</td>\n",
              "      <td>1.211999e+14</td>\n",
              "      <td>2.509012e+20</td>\n",
              "    </tr>\n",
              "    <tr>\n",
              "      <th>27</th>\n",
              "      <td>-8.157524e+06</td>\n",
              "      <td>2.883246e+14</td>\n",
              "      <td>5.102660e+19</td>\n",
              "    </tr>\n",
              "    <tr>\n",
              "      <th>28</th>\n",
              "      <td>-7.581261e+06</td>\n",
              "      <td>1.517536e+14</td>\n",
              "      <td>1.396213e+20</td>\n",
              "    </tr>\n",
              "    <tr>\n",
              "      <th>29</th>\n",
              "      <td>-7.382974e+06</td>\n",
              "      <td>1.050230e+14</td>\n",
              "      <td>3.125842e+20</td>\n",
              "    </tr>\n",
              "    <tr>\n",
              "      <th>30</th>\n",
              "      <td>-7.468887e+06</td>\n",
              "      <td>1.295990e+14</td>\n",
              "      <td>2.186731e+20</td>\n",
              "    </tr>\n",
              "    <tr>\n",
              "      <th>31</th>\n",
              "      <td>-7.776540e+06</td>\n",
              "      <td>1.076025e+14</td>\n",
              "      <td>3.416083e+20</td>\n",
              "    </tr>\n",
              "    <tr>\n",
              "      <th>32</th>\n",
              "      <td>-7.953741e+06</td>\n",
              "      <td>1.324326e+14</td>\n",
              "      <td>2.579951e+20</td>\n",
              "    </tr>\n",
              "    <tr>\n",
              "      <th>33</th>\n",
              "      <td>-7.799969e+06</td>\n",
              "      <td>1.547559e+14</td>\n",
              "      <td>1.534868e+20</td>\n",
              "    </tr>\n",
              "    <tr>\n",
              "      <th>34</th>\n",
              "      <td>-7.821788e+06</td>\n",
              "      <td>1.195587e+14</td>\n",
              "      <td>2.905725e+20</td>\n",
              "    </tr>\n",
              "    <tr>\n",
              "      <th>35</th>\n",
              "      <td>-7.857936e+06</td>\n",
              "      <td>1.009676e+14</td>\n",
              "      <td>3.902070e+20</td>\n",
              "    </tr>\n",
              "    <tr>\n",
              "      <th>36</th>\n",
              "      <td>-7.543109e+06</td>\n",
              "      <td>1.040020e+14</td>\n",
              "      <td>3.344668e+20</td>\n",
              "    </tr>\n",
              "    <tr>\n",
              "      <th>37</th>\n",
              "      <td>-7.377908e+06</td>\n",
              "      <td>1.338855e+14</td>\n",
              "      <td>1.868421e+20</td>\n",
              "    </tr>\n",
              "    <tr>\n",
              "      <th>38</th>\n",
              "      <td>-7.909840e+06</td>\n",
              "      <td>1.406081e+14</td>\n",
              "      <td>2.179555e+20</td>\n",
              "    </tr>\n",
              "    <tr>\n",
              "      <th>39</th>\n",
              "      <td>-7.557723e+06</td>\n",
              "      <td>1.157508e+14</td>\n",
              "      <td>2.704021e+20</td>\n",
              "    </tr>\n",
              "    <tr>\n",
              "      <th>40</th>\n",
              "      <td>-7.452736e+06</td>\n",
              "      <td>2.512227e+14</td>\n",
              "      <td>6.375242e+19</td>\n",
              "    </tr>\n",
              "    <tr>\n",
              "      <th>41</th>\n",
              "      <td>-7.696289e+06</td>\n",
              "      <td>1.057659e+14</td>\n",
              "      <td>3.698407e+20</td>\n",
              "    </tr>\n",
              "    <tr>\n",
              "      <th>42</th>\n",
              "      <td>-7.443201e+06</td>\n",
              "      <td>2.510886e+14</td>\n",
              "      <td>6.374447e+19</td>\n",
              "    </tr>\n",
              "    <tr>\n",
              "      <th>43</th>\n",
              "      <td>-7.447726e+06</td>\n",
              "      <td>1.376078e+14</td>\n",
              "      <td>1.707030e+20</td>\n",
              "    </tr>\n",
              "    <tr>\n",
              "      <th>44</th>\n",
              "      <td>-8.185478e+06</td>\n",
              "      <td>2.836349e+14</td>\n",
              "      <td>6.609428e+19</td>\n",
              "    </tr>\n",
              "    <tr>\n",
              "      <th>45</th>\n",
              "      <td>-7.766359e+06</td>\n",
              "      <td>1.527762e+14</td>\n",
              "      <td>1.532851e+20</td>\n",
              "    </tr>\n",
              "    <tr>\n",
              "      <th>46</th>\n",
              "      <td>-7.480726e+06</td>\n",
              "      <td>1.043829e+14</td>\n",
              "      <td>3.260371e+20</td>\n",
              "    </tr>\n",
              "    <tr>\n",
              "      <th>47</th>\n",
              "      <td>-7.411505e+06</td>\n",
              "      <td>1.052301e+14</td>\n",
              "      <td>3.126829e+20</td>\n",
              "    </tr>\n",
              "    <tr>\n",
              "      <th>48</th>\n",
              "      <td>-7.638732e+06</td>\n",
              "      <td>1.465133e+14</td>\n",
              "      <td>1.709046e+20</td>\n",
              "    </tr>\n",
              "    <tr>\n",
              "      <th>49</th>\n",
              "      <td>-7.337733e+06</td>\n",
              "      <td>1.826883e+14</td>\n",
              "      <td>9.662935e+19</td>\n",
              "    </tr>\n",
              "  </tbody>\n",
              "</table>\n",
              "</div>\n",
              "      <button class=\"colab-df-convert\" onclick=\"convertToInteractive('df-d5adc6de-9238-4952-8d2a-d472852481c2')\"\n",
              "              title=\"Convert this dataframe to an interactive table.\"\n",
              "              style=\"display:none;\">\n",
              "        \n",
              "  <svg xmlns=\"http://www.w3.org/2000/svg\" height=\"24px\"viewBox=\"0 0 24 24\"\n",
              "       width=\"24px\">\n",
              "    <path d=\"M0 0h24v24H0V0z\" fill=\"none\"/>\n",
              "    <path d=\"M18.56 5.44l.94 2.06.94-2.06 2.06-.94-2.06-.94-.94-2.06-.94 2.06-2.06.94zm-11 1L8.5 8.5l.94-2.06 2.06-.94-2.06-.94L8.5 2.5l-.94 2.06-2.06.94zm10 10l.94 2.06.94-2.06 2.06-.94-2.06-.94-.94-2.06-.94 2.06-2.06.94z\"/><path d=\"M17.41 7.96l-1.37-1.37c-.4-.4-.92-.59-1.43-.59-.52 0-1.04.2-1.43.59L10.3 9.45l-7.72 7.72c-.78.78-.78 2.05 0 2.83L4 21.41c.39.39.9.59 1.41.59.51 0 1.02-.2 1.41-.59l7.78-7.78 2.81-2.81c.8-.78.8-2.07 0-2.86zM5.41 20L4 18.59l7.72-7.72 1.47 1.35L5.41 20z\"/>\n",
              "  </svg>\n",
              "      </button>\n",
              "      \n",
              "  <style>\n",
              "    .colab-df-container {\n",
              "      display:flex;\n",
              "      flex-wrap:wrap;\n",
              "      gap: 12px;\n",
              "    }\n",
              "\n",
              "    .colab-df-convert {\n",
              "      background-color: #E8F0FE;\n",
              "      border: none;\n",
              "      border-radius: 50%;\n",
              "      cursor: pointer;\n",
              "      display: none;\n",
              "      fill: #1967D2;\n",
              "      height: 32px;\n",
              "      padding: 0 0 0 0;\n",
              "      width: 32px;\n",
              "    }\n",
              "\n",
              "    .colab-df-convert:hover {\n",
              "      background-color: #E2EBFA;\n",
              "      box-shadow: 0px 1px 2px rgba(60, 64, 67, 0.3), 0px 1px 3px 1px rgba(60, 64, 67, 0.15);\n",
              "      fill: #174EA6;\n",
              "    }\n",
              "\n",
              "    [theme=dark] .colab-df-convert {\n",
              "      background-color: #3B4455;\n",
              "      fill: #D2E3FC;\n",
              "    }\n",
              "\n",
              "    [theme=dark] .colab-df-convert:hover {\n",
              "      background-color: #434B5C;\n",
              "      box-shadow: 0px 1px 3px 1px rgba(0, 0, 0, 0.15);\n",
              "      filter: drop-shadow(0px 1px 2px rgba(0, 0, 0, 0.3));\n",
              "      fill: #FFFFFF;\n",
              "    }\n",
              "  </style>\n",
              "\n",
              "      <script>\n",
              "        const buttonEl =\n",
              "          document.querySelector('#df-d5adc6de-9238-4952-8d2a-d472852481c2 button.colab-df-convert');\n",
              "        buttonEl.style.display =\n",
              "          google.colab.kernel.accessAllowed ? 'block' : 'none';\n",
              "\n",
              "        async function convertToInteractive(key) {\n",
              "          const element = document.querySelector('#df-d5adc6de-9238-4952-8d2a-d472852481c2');\n",
              "          const dataTable =\n",
              "            await google.colab.kernel.invokeFunction('convertToInteractive',\n",
              "                                                     [key], {});\n",
              "          if (!dataTable) return;\n",
              "\n",
              "          const docLinkHtml = 'Like what you see? Visit the ' +\n",
              "            '<a target=\"_blank\" href=https://colab.research.google.com/notebooks/data_table.ipynb>data table notebook</a>'\n",
              "            + ' to learn more about interactive tables.';\n",
              "          element.innerHTML = '';\n",
              "          dataTable['output_type'] = 'display_data';\n",
              "          await google.colab.output.renderOutput(dataTable, element);\n",
              "          const docLink = document.createElement('div');\n",
              "          docLink.innerHTML = docLinkHtml;\n",
              "          element.appendChild(docLink);\n",
              "        }\n",
              "      </script>\n",
              "    </div>\n",
              "  </div>\n",
              "  "
            ]
          },
          "metadata": {}
        },
        {
          "output_type": "display_data",
          "data": {
            "text/html": [
              "<html>\n",
              "<head><meta charset=\"utf-8\" /></head>\n",
              "<body>\n",
              "    <div>            <script src=\"https://cdnjs.cloudflare.com/ajax/libs/mathjax/2.7.5/MathJax.js?config=TeX-AMS-MML_SVG\"></script><script type=\"text/javascript\">if (window.MathJax) {MathJax.Hub.Config({SVG: {font: \"STIX-Web\"}});}</script>                <script type=\"text/javascript\">window.PlotlyConfig = {MathJaxConfig: 'local'};</script>\n",
              "        <script src=\"https://cdn.plot.ly/plotly-2.8.3.min.js\"></script>                <div id=\"b9fceecb-6245-4f49-97bd-76a299d54d5d\" class=\"plotly-graph-div\" style=\"height:525px; width:100%;\"></div>            <script type=\"text/javascript\">                                    window.PLOTLYENV=window.PLOTLYENV || {};                                    if (document.getElementById(\"b9fceecb-6245-4f49-97bd-76a299d54d5d\")) {                    Plotly.newPlot(                        \"b9fceecb-6245-4f49-97bd-76a299d54d5d\",                        [{\"hovertemplate\":\"power=%{x}<br>economic=%{y}<br>environmental=%{z}<extra></extra>\",\"legendgroup\":\"\",\"marker\":{\"color\":\"#636efa\",\"symbol\":\"circle\"},\"mode\":\"markers\",\"name\":\"\",\"scene\":\"scene\",\"showlegend\":false,\"x\":[-8189372.157797821,-7298279.647424312,-8159992.575832771,-8197745.165519249,-7201045.765557092,-7259104.036055355,-7411702.862628072,-8049977.42704566,-7339551.32388489,-7352131.637458324,-7499280.27479832,-7680147.189380122,-8013434.656388609,-7860149.357477034,-7968194.765048137,-7909700.369304704,-8134449.778900247,-7582560.2727898015,-8139342.360254141,-7930004.591139127,-7291554.310959041,-8092970.010514075,-7215419.924909947,-7941561.092317288,-7617775.594176985,-7829307.054750952,-7229684.09705305,-8157524.223871894,-7581260.516884351,-7382974.306668831,-7468886.764127305,-7776539.895575926,-7953740.541937325,-7799969.334084308,-7821787.872243536,-7857935.992976639,-7543108.918847192,-7377908.228998647,-7909840.300193739,-7557722.699475622,-7452736.49597827,-7696289.464888396,-7443201.015956549,-7447725.891846065,-8185477.936723004,-7766359.282867117,-7480725.937697226,-7411505.021091458,-7638732.183338243,-7337733.394072624],\"y\":[105724091561749.98,90133754510415.67,288353280745771.44,187146860288295.1,159576688418018.44,210521656306038.56,243906065978804.16,198723627089033.9,210950400469640.84,129270587361291.19,262190853722966.3,266119331602993.44,103450992547976.52,204688451813376.94,109063612487749.31,278825672850786.78,175065995462219.5,168168916421080.1,281086807703139.5,193065594310996.22,110216900212805.17,132709896408815.25,181072483664888.9,133792460082885.11,95513354754250.66,156323957251856.6,121199853122043.14,288324577354280.5,151753583830961.62,105023022527547.19,129599021865091.53,107602520082035.14,132432643763232.81,154755887781421.34,119558683686947.72,100967589996999.53,104002033436209.03,133885459970134.52,140608145175164.05,115750820943265.33,251222749534558.66,105765922329661.83,251088640559792.84,137607827828874.4,283634854430337.2,152776186100542.7,104382855927489.4,105230133692071.19,146513330393794.56,182688276805212.75],\"z\":[4.08992123732822e+20,3.674751560387054e+20,5.1113322328100676e+19,1.7471717531899632e+20,1.0385375937777261e+20,1.3398407408304986e+19,7.1673104412085264e+19,1.1610027975227651e+20,2.0207979572432466e+19,2.070780090958973e+20,1.528299704237283e+19,2.0891799255108293e+19,4.070718013143501e+20,7.445427958694894e+19,3.5901602607521595e+20,1.4131945047147565e+19,1.404481298924964e+20,1.045928199977703e+20,2.7742061869472735e+19,1.1595187732189838e+20,2.896038731366137e+20,2.715683556920978e+20,9.605307519525059e+19,2.4637612754423775e+20,3.847804209696917e+20,1.8739649772322626e+20,2.5090115464473143e+20,5.102660346622162e+19,1.3962131034052483e+20,3.125841764119463e+20,2.186731472615585e+20,3.4160825926706155e+20,2.5799511189980532e+20,1.5348680536161734e+20,2.9057250328313712e+20,3.902069581103816e+20,3.344667739971648e+20,1.8684209717823478e+20,2.17955504932031e+20,2.7040207358436347e+20,6.375241908059879e+19,3.698406792396716e+20,6.3744465364418e+19,1.7070297857192654e+20,6.609427893478965e+19,1.5328506953042153e+20,3.2603707817145795e+20,3.126829474604235e+20,1.7090459552679687e+20,9.662935065946112e+19],\"type\":\"scatter3d\"}],                        {\"template\":{\"data\":{\"bar\":[{\"error_x\":{\"color\":\"#2a3f5f\"},\"error_y\":{\"color\":\"#2a3f5f\"},\"marker\":{\"line\":{\"color\":\"#E5ECF6\",\"width\":0.5},\"pattern\":{\"fillmode\":\"overlay\",\"size\":10,\"solidity\":0.2}},\"type\":\"bar\"}],\"barpolar\":[{\"marker\":{\"line\":{\"color\":\"#E5ECF6\",\"width\":0.5},\"pattern\":{\"fillmode\":\"overlay\",\"size\":10,\"solidity\":0.2}},\"type\":\"barpolar\"}],\"carpet\":[{\"aaxis\":{\"endlinecolor\":\"#2a3f5f\",\"gridcolor\":\"white\",\"linecolor\":\"white\",\"minorgridcolor\":\"white\",\"startlinecolor\":\"#2a3f5f\"},\"baxis\":{\"endlinecolor\":\"#2a3f5f\",\"gridcolor\":\"white\",\"linecolor\":\"white\",\"minorgridcolor\":\"white\",\"startlinecolor\":\"#2a3f5f\"},\"type\":\"carpet\"}],\"choropleth\":[{\"colorbar\":{\"outlinewidth\":0,\"ticks\":\"\"},\"type\":\"choropleth\"}],\"contour\":[{\"colorbar\":{\"outlinewidth\":0,\"ticks\":\"\"},\"colorscale\":[[0.0,\"#0d0887\"],[0.1111111111111111,\"#46039f\"],[0.2222222222222222,\"#7201a8\"],[0.3333333333333333,\"#9c179e\"],[0.4444444444444444,\"#bd3786\"],[0.5555555555555556,\"#d8576b\"],[0.6666666666666666,\"#ed7953\"],[0.7777777777777778,\"#fb9f3a\"],[0.8888888888888888,\"#fdca26\"],[1.0,\"#f0f921\"]],\"type\":\"contour\"}],\"contourcarpet\":[{\"colorbar\":{\"outlinewidth\":0,\"ticks\":\"\"},\"type\":\"contourcarpet\"}],\"heatmap\":[{\"colorbar\":{\"outlinewidth\":0,\"ticks\":\"\"},\"colorscale\":[[0.0,\"#0d0887\"],[0.1111111111111111,\"#46039f\"],[0.2222222222222222,\"#7201a8\"],[0.3333333333333333,\"#9c179e\"],[0.4444444444444444,\"#bd3786\"],[0.5555555555555556,\"#d8576b\"],[0.6666666666666666,\"#ed7953\"],[0.7777777777777778,\"#fb9f3a\"],[0.8888888888888888,\"#fdca26\"],[1.0,\"#f0f921\"]],\"type\":\"heatmap\"}],\"heatmapgl\":[{\"colorbar\":{\"outlinewidth\":0,\"ticks\":\"\"},\"colorscale\":[[0.0,\"#0d0887\"],[0.1111111111111111,\"#46039f\"],[0.2222222222222222,\"#7201a8\"],[0.3333333333333333,\"#9c179e\"],[0.4444444444444444,\"#bd3786\"],[0.5555555555555556,\"#d8576b\"],[0.6666666666666666,\"#ed7953\"],[0.7777777777777778,\"#fb9f3a\"],[0.8888888888888888,\"#fdca26\"],[1.0,\"#f0f921\"]],\"type\":\"heatmapgl\"}],\"histogram\":[{\"marker\":{\"pattern\":{\"fillmode\":\"overlay\",\"size\":10,\"solidity\":0.2}},\"type\":\"histogram\"}],\"histogram2d\":[{\"colorbar\":{\"outlinewidth\":0,\"ticks\":\"\"},\"colorscale\":[[0.0,\"#0d0887\"],[0.1111111111111111,\"#46039f\"],[0.2222222222222222,\"#7201a8\"],[0.3333333333333333,\"#9c179e\"],[0.4444444444444444,\"#bd3786\"],[0.5555555555555556,\"#d8576b\"],[0.6666666666666666,\"#ed7953\"],[0.7777777777777778,\"#fb9f3a\"],[0.8888888888888888,\"#fdca26\"],[1.0,\"#f0f921\"]],\"type\":\"histogram2d\"}],\"histogram2dcontour\":[{\"colorbar\":{\"outlinewidth\":0,\"ticks\":\"\"},\"colorscale\":[[0.0,\"#0d0887\"],[0.1111111111111111,\"#46039f\"],[0.2222222222222222,\"#7201a8\"],[0.3333333333333333,\"#9c179e\"],[0.4444444444444444,\"#bd3786\"],[0.5555555555555556,\"#d8576b\"],[0.6666666666666666,\"#ed7953\"],[0.7777777777777778,\"#fb9f3a\"],[0.8888888888888888,\"#fdca26\"],[1.0,\"#f0f921\"]],\"type\":\"histogram2dcontour\"}],\"mesh3d\":[{\"colorbar\":{\"outlinewidth\":0,\"ticks\":\"\"},\"type\":\"mesh3d\"}],\"parcoords\":[{\"line\":{\"colorbar\":{\"outlinewidth\":0,\"ticks\":\"\"}},\"type\":\"parcoords\"}],\"pie\":[{\"automargin\":true,\"type\":\"pie\"}],\"scatter\":[{\"marker\":{\"colorbar\":{\"outlinewidth\":0,\"ticks\":\"\"}},\"type\":\"scatter\"}],\"scatter3d\":[{\"line\":{\"colorbar\":{\"outlinewidth\":0,\"ticks\":\"\"}},\"marker\":{\"colorbar\":{\"outlinewidth\":0,\"ticks\":\"\"}},\"type\":\"scatter3d\"}],\"scattercarpet\":[{\"marker\":{\"colorbar\":{\"outlinewidth\":0,\"ticks\":\"\"}},\"type\":\"scattercarpet\"}],\"scattergeo\":[{\"marker\":{\"colorbar\":{\"outlinewidth\":0,\"ticks\":\"\"}},\"type\":\"scattergeo\"}],\"scattergl\":[{\"marker\":{\"colorbar\":{\"outlinewidth\":0,\"ticks\":\"\"}},\"type\":\"scattergl\"}],\"scattermapbox\":[{\"marker\":{\"colorbar\":{\"outlinewidth\":0,\"ticks\":\"\"}},\"type\":\"scattermapbox\"}],\"scatterpolar\":[{\"marker\":{\"colorbar\":{\"outlinewidth\":0,\"ticks\":\"\"}},\"type\":\"scatterpolar\"}],\"scatterpolargl\":[{\"marker\":{\"colorbar\":{\"outlinewidth\":0,\"ticks\":\"\"}},\"type\":\"scatterpolargl\"}],\"scatterternary\":[{\"marker\":{\"colorbar\":{\"outlinewidth\":0,\"ticks\":\"\"}},\"type\":\"scatterternary\"}],\"surface\":[{\"colorbar\":{\"outlinewidth\":0,\"ticks\":\"\"},\"colorscale\":[[0.0,\"#0d0887\"],[0.1111111111111111,\"#46039f\"],[0.2222222222222222,\"#7201a8\"],[0.3333333333333333,\"#9c179e\"],[0.4444444444444444,\"#bd3786\"],[0.5555555555555556,\"#d8576b\"],[0.6666666666666666,\"#ed7953\"],[0.7777777777777778,\"#fb9f3a\"],[0.8888888888888888,\"#fdca26\"],[1.0,\"#f0f921\"]],\"type\":\"surface\"}],\"table\":[{\"cells\":{\"fill\":{\"color\":\"#EBF0F8\"},\"line\":{\"color\":\"white\"}},\"header\":{\"fill\":{\"color\":\"#C8D4E3\"},\"line\":{\"color\":\"white\"}},\"type\":\"table\"}]},\"layout\":{\"annotationdefaults\":{\"arrowcolor\":\"#2a3f5f\",\"arrowhead\":0,\"arrowwidth\":1},\"autotypenumbers\":\"strict\",\"coloraxis\":{\"colorbar\":{\"outlinewidth\":0,\"ticks\":\"\"}},\"colorscale\":{\"diverging\":[[0,\"#8e0152\"],[0.1,\"#c51b7d\"],[0.2,\"#de77ae\"],[0.3,\"#f1b6da\"],[0.4,\"#fde0ef\"],[0.5,\"#f7f7f7\"],[0.6,\"#e6f5d0\"],[0.7,\"#b8e186\"],[0.8,\"#7fbc41\"],[0.9,\"#4d9221\"],[1,\"#276419\"]],\"sequential\":[[0.0,\"#0d0887\"],[0.1111111111111111,\"#46039f\"],[0.2222222222222222,\"#7201a8\"],[0.3333333333333333,\"#9c179e\"],[0.4444444444444444,\"#bd3786\"],[0.5555555555555556,\"#d8576b\"],[0.6666666666666666,\"#ed7953\"],[0.7777777777777778,\"#fb9f3a\"],[0.8888888888888888,\"#fdca26\"],[1.0,\"#f0f921\"]],\"sequentialminus\":[[0.0,\"#0d0887\"],[0.1111111111111111,\"#46039f\"],[0.2222222222222222,\"#7201a8\"],[0.3333333333333333,\"#9c179e\"],[0.4444444444444444,\"#bd3786\"],[0.5555555555555556,\"#d8576b\"],[0.6666666666666666,\"#ed7953\"],[0.7777777777777778,\"#fb9f3a\"],[0.8888888888888888,\"#fdca26\"],[1.0,\"#f0f921\"]]},\"colorway\":[\"#636efa\",\"#EF553B\",\"#00cc96\",\"#ab63fa\",\"#FFA15A\",\"#19d3f3\",\"#FF6692\",\"#B6E880\",\"#FF97FF\",\"#FECB52\"],\"font\":{\"color\":\"#2a3f5f\"},\"geo\":{\"bgcolor\":\"white\",\"lakecolor\":\"white\",\"landcolor\":\"#E5ECF6\",\"showlakes\":true,\"showland\":true,\"subunitcolor\":\"white\"},\"hoverlabel\":{\"align\":\"left\"},\"hovermode\":\"closest\",\"mapbox\":{\"style\":\"light\"},\"paper_bgcolor\":\"white\",\"plot_bgcolor\":\"#E5ECF6\",\"polar\":{\"angularaxis\":{\"gridcolor\":\"white\",\"linecolor\":\"white\",\"ticks\":\"\"},\"bgcolor\":\"#E5ECF6\",\"radialaxis\":{\"gridcolor\":\"white\",\"linecolor\":\"white\",\"ticks\":\"\"}},\"scene\":{\"xaxis\":{\"backgroundcolor\":\"#E5ECF6\",\"gridcolor\":\"white\",\"gridwidth\":2,\"linecolor\":\"white\",\"showbackground\":true,\"ticks\":\"\",\"zerolinecolor\":\"white\"},\"yaxis\":{\"backgroundcolor\":\"#E5ECF6\",\"gridcolor\":\"white\",\"gridwidth\":2,\"linecolor\":\"white\",\"showbackground\":true,\"ticks\":\"\",\"zerolinecolor\":\"white\"},\"zaxis\":{\"backgroundcolor\":\"#E5ECF6\",\"gridcolor\":\"white\",\"gridwidth\":2,\"linecolor\":\"white\",\"showbackground\":true,\"ticks\":\"\",\"zerolinecolor\":\"white\"}},\"shapedefaults\":{\"line\":{\"color\":\"#2a3f5f\"}},\"ternary\":{\"aaxis\":{\"gridcolor\":\"white\",\"linecolor\":\"white\",\"ticks\":\"\"},\"baxis\":{\"gridcolor\":\"white\",\"linecolor\":\"white\",\"ticks\":\"\"},\"bgcolor\":\"#E5ECF6\",\"caxis\":{\"gridcolor\":\"white\",\"linecolor\":\"white\",\"ticks\":\"\"}},\"title\":{\"x\":0.05},\"xaxis\":{\"automargin\":true,\"gridcolor\":\"white\",\"linecolor\":\"white\",\"ticks\":\"\",\"title\":{\"standoff\":15},\"zerolinecolor\":\"white\",\"zerolinewidth\":2},\"yaxis\":{\"automargin\":true,\"gridcolor\":\"white\",\"linecolor\":\"white\",\"ticks\":\"\",\"title\":{\"standoff\":15},\"zerolinecolor\":\"white\",\"zerolinewidth\":2}}},\"scene\":{\"domain\":{\"x\":[0.0,1.0],\"y\":[0.0,1.0]},\"xaxis\":{\"title\":{\"text\":\"power\"}},\"yaxis\":{\"title\":{\"text\":\"economic\"}},\"zaxis\":{\"title\":{\"text\":\"environmental\"}}},\"legend\":{\"tracegroupgap\":0},\"margin\":{\"t\":60}},                        {\"responsive\": true}                    ).then(function(){\n",
              "                            \n",
              "var gd = document.getElementById('b9fceecb-6245-4f49-97bd-76a299d54d5d');\n",
              "var x = new MutationObserver(function (mutations, observer) {{\n",
              "        var display = window.getComputedStyle(gd).display;\n",
              "        if (!display || display === 'none') {{\n",
              "            console.log([gd, 'removed!']);\n",
              "            Plotly.purge(gd);\n",
              "            observer.disconnect();\n",
              "        }}\n",
              "}});\n",
              "\n",
              "// Listen for the removal of the full notebook cells\n",
              "var notebookContainer = gd.closest('#notebook-container');\n",
              "if (notebookContainer) {{\n",
              "    x.observe(notebookContainer, {childList: true});\n",
              "}}\n",
              "\n",
              "// Listen for the clearing of the current output cell\n",
              "var outputEl = gd.closest('.output');\n",
              "if (outputEl) {{\n",
              "    x.observe(outputEl, {childList: true});\n",
              "}}\n",
              "\n",
              "                        })                };                            </script>        </div>\n",
              "</body>\n",
              "</html>"
            ]
          },
          "metadata": {}
        }
      ]
    },
    {
      "cell_type": "code",
      "source": [
        "import numpy as np\n",
        "weights = np.array([0.1, 0.6, 0.3])\n",
        "from pymoo.decomposition.asf import ASF\n",
        "import plotly.graph_objects as go\n",
        "import numpy as np\n",
        "decomp = ASF()\n",
        "i = decomp.do(df, 1/weights).argmin()\n",
        "print(\"Best regarding ASF: Point \\ni = %s\\nF = %s\" % (i, df[i]))\n",
        "import pandas as pd\n",
        "dans = df[5,:]\n",
        "print(dans)\n",
        "fig = px.scatter_3d( x=[-7.20848904e+06], y=[2.19949925e+14], z=[1.34983988e+19])\n",
        "\n",
        "fig.show()\n",
        "#fig.show()\n",
        "\n"
      ],
      "metadata": {
        "colab": {
          "base_uri": "https://localhost:8080/",
          "height": 613
        },
        "id": "cOUzyc2E1XZa",
        "outputId": "dcc81861-b57f-4062-bdff-d336d325a707"
      },
      "execution_count": null,
      "outputs": [
        {
          "output_type": "stream",
          "name": "stdout",
          "text": [
            "Best regarding ASF: Point \n",
            "i = 5\n",
            "F = [-7.25910404e+06  2.10521656e+14  1.33984074e+19]\n",
            "[-7.25910404e+06  2.10521656e+14  1.33984074e+19]\n"
          ]
        },
        {
          "output_type": "display_data",
          "data": {
            "text/html": [
              "<html>\n",
              "<head><meta charset=\"utf-8\" /></head>\n",
              "<body>\n",
              "    <div>            <script src=\"https://cdnjs.cloudflare.com/ajax/libs/mathjax/2.7.5/MathJax.js?config=TeX-AMS-MML_SVG\"></script><script type=\"text/javascript\">if (window.MathJax) {MathJax.Hub.Config({SVG: {font: \"STIX-Web\"}});}</script>                <script type=\"text/javascript\">window.PlotlyConfig = {MathJaxConfig: 'local'};</script>\n",
              "        <script src=\"https://cdn.plot.ly/plotly-2.8.3.min.js\"></script>                <div id=\"76c811a9-10cf-40c9-aa49-6c6470c7d251\" class=\"plotly-graph-div\" style=\"height:525px; width:100%;\"></div>            <script type=\"text/javascript\">                                    window.PLOTLYENV=window.PLOTLYENV || {};                                    if (document.getElementById(\"76c811a9-10cf-40c9-aa49-6c6470c7d251\")) {                    Plotly.newPlot(                        \"76c811a9-10cf-40c9-aa49-6c6470c7d251\",                        [{\"hovertemplate\":\"x=%{x}<br>y=%{y}<br>z=%{z}<extra></extra>\",\"legendgroup\":\"\",\"marker\":{\"color\":\"#636efa\",\"symbol\":\"circle\"},\"mode\":\"markers\",\"name\":\"\",\"scene\":\"scene\",\"showlegend\":false,\"x\":[-7208489.04],\"y\":[219949925000000.0],\"z\":[1.34983988e+19],\"type\":\"scatter3d\"}],                        {\"template\":{\"data\":{\"bar\":[{\"error_x\":{\"color\":\"#2a3f5f\"},\"error_y\":{\"color\":\"#2a3f5f\"},\"marker\":{\"line\":{\"color\":\"#E5ECF6\",\"width\":0.5},\"pattern\":{\"fillmode\":\"overlay\",\"size\":10,\"solidity\":0.2}},\"type\":\"bar\"}],\"barpolar\":[{\"marker\":{\"line\":{\"color\":\"#E5ECF6\",\"width\":0.5},\"pattern\":{\"fillmode\":\"overlay\",\"size\":10,\"solidity\":0.2}},\"type\":\"barpolar\"}],\"carpet\":[{\"aaxis\":{\"endlinecolor\":\"#2a3f5f\",\"gridcolor\":\"white\",\"linecolor\":\"white\",\"minorgridcolor\":\"white\",\"startlinecolor\":\"#2a3f5f\"},\"baxis\":{\"endlinecolor\":\"#2a3f5f\",\"gridcolor\":\"white\",\"linecolor\":\"white\",\"minorgridcolor\":\"white\",\"startlinecolor\":\"#2a3f5f\"},\"type\":\"carpet\"}],\"choropleth\":[{\"colorbar\":{\"outlinewidth\":0,\"ticks\":\"\"},\"type\":\"choropleth\"}],\"contour\":[{\"colorbar\":{\"outlinewidth\":0,\"ticks\":\"\"},\"colorscale\":[[0.0,\"#0d0887\"],[0.1111111111111111,\"#46039f\"],[0.2222222222222222,\"#7201a8\"],[0.3333333333333333,\"#9c179e\"],[0.4444444444444444,\"#bd3786\"],[0.5555555555555556,\"#d8576b\"],[0.6666666666666666,\"#ed7953\"],[0.7777777777777778,\"#fb9f3a\"],[0.8888888888888888,\"#fdca26\"],[1.0,\"#f0f921\"]],\"type\":\"contour\"}],\"contourcarpet\":[{\"colorbar\":{\"outlinewidth\":0,\"ticks\":\"\"},\"type\":\"contourcarpet\"}],\"heatmap\":[{\"colorbar\":{\"outlinewidth\":0,\"ticks\":\"\"},\"colorscale\":[[0.0,\"#0d0887\"],[0.1111111111111111,\"#46039f\"],[0.2222222222222222,\"#7201a8\"],[0.3333333333333333,\"#9c179e\"],[0.4444444444444444,\"#bd3786\"],[0.5555555555555556,\"#d8576b\"],[0.6666666666666666,\"#ed7953\"],[0.7777777777777778,\"#fb9f3a\"],[0.8888888888888888,\"#fdca26\"],[1.0,\"#f0f921\"]],\"type\":\"heatmap\"}],\"heatmapgl\":[{\"colorbar\":{\"outlinewidth\":0,\"ticks\":\"\"},\"colorscale\":[[0.0,\"#0d0887\"],[0.1111111111111111,\"#46039f\"],[0.2222222222222222,\"#7201a8\"],[0.3333333333333333,\"#9c179e\"],[0.4444444444444444,\"#bd3786\"],[0.5555555555555556,\"#d8576b\"],[0.6666666666666666,\"#ed7953\"],[0.7777777777777778,\"#fb9f3a\"],[0.8888888888888888,\"#fdca26\"],[1.0,\"#f0f921\"]],\"type\":\"heatmapgl\"}],\"histogram\":[{\"marker\":{\"pattern\":{\"fillmode\":\"overlay\",\"size\":10,\"solidity\":0.2}},\"type\":\"histogram\"}],\"histogram2d\":[{\"colorbar\":{\"outlinewidth\":0,\"ticks\":\"\"},\"colorscale\":[[0.0,\"#0d0887\"],[0.1111111111111111,\"#46039f\"],[0.2222222222222222,\"#7201a8\"],[0.3333333333333333,\"#9c179e\"],[0.4444444444444444,\"#bd3786\"],[0.5555555555555556,\"#d8576b\"],[0.6666666666666666,\"#ed7953\"],[0.7777777777777778,\"#fb9f3a\"],[0.8888888888888888,\"#fdca26\"],[1.0,\"#f0f921\"]],\"type\":\"histogram2d\"}],\"histogram2dcontour\":[{\"colorbar\":{\"outlinewidth\":0,\"ticks\":\"\"},\"colorscale\":[[0.0,\"#0d0887\"],[0.1111111111111111,\"#46039f\"],[0.2222222222222222,\"#7201a8\"],[0.3333333333333333,\"#9c179e\"],[0.4444444444444444,\"#bd3786\"],[0.5555555555555556,\"#d8576b\"],[0.6666666666666666,\"#ed7953\"],[0.7777777777777778,\"#fb9f3a\"],[0.8888888888888888,\"#fdca26\"],[1.0,\"#f0f921\"]],\"type\":\"histogram2dcontour\"}],\"mesh3d\":[{\"colorbar\":{\"outlinewidth\":0,\"ticks\":\"\"},\"type\":\"mesh3d\"}],\"parcoords\":[{\"line\":{\"colorbar\":{\"outlinewidth\":0,\"ticks\":\"\"}},\"type\":\"parcoords\"}],\"pie\":[{\"automargin\":true,\"type\":\"pie\"}],\"scatter\":[{\"marker\":{\"colorbar\":{\"outlinewidth\":0,\"ticks\":\"\"}},\"type\":\"scatter\"}],\"scatter3d\":[{\"line\":{\"colorbar\":{\"outlinewidth\":0,\"ticks\":\"\"}},\"marker\":{\"colorbar\":{\"outlinewidth\":0,\"ticks\":\"\"}},\"type\":\"scatter3d\"}],\"scattercarpet\":[{\"marker\":{\"colorbar\":{\"outlinewidth\":0,\"ticks\":\"\"}},\"type\":\"scattercarpet\"}],\"scattergeo\":[{\"marker\":{\"colorbar\":{\"outlinewidth\":0,\"ticks\":\"\"}},\"type\":\"scattergeo\"}],\"scattergl\":[{\"marker\":{\"colorbar\":{\"outlinewidth\":0,\"ticks\":\"\"}},\"type\":\"scattergl\"}],\"scattermapbox\":[{\"marker\":{\"colorbar\":{\"outlinewidth\":0,\"ticks\":\"\"}},\"type\":\"scattermapbox\"}],\"scatterpolar\":[{\"marker\":{\"colorbar\":{\"outlinewidth\":0,\"ticks\":\"\"}},\"type\":\"scatterpolar\"}],\"scatterpolargl\":[{\"marker\":{\"colorbar\":{\"outlinewidth\":0,\"ticks\":\"\"}},\"type\":\"scatterpolargl\"}],\"scatterternary\":[{\"marker\":{\"colorbar\":{\"outlinewidth\":0,\"ticks\":\"\"}},\"type\":\"scatterternary\"}],\"surface\":[{\"colorbar\":{\"outlinewidth\":0,\"ticks\":\"\"},\"colorscale\":[[0.0,\"#0d0887\"],[0.1111111111111111,\"#46039f\"],[0.2222222222222222,\"#7201a8\"],[0.3333333333333333,\"#9c179e\"],[0.4444444444444444,\"#bd3786\"],[0.5555555555555556,\"#d8576b\"],[0.6666666666666666,\"#ed7953\"],[0.7777777777777778,\"#fb9f3a\"],[0.8888888888888888,\"#fdca26\"],[1.0,\"#f0f921\"]],\"type\":\"surface\"}],\"table\":[{\"cells\":{\"fill\":{\"color\":\"#EBF0F8\"},\"line\":{\"color\":\"white\"}},\"header\":{\"fill\":{\"color\":\"#C8D4E3\"},\"line\":{\"color\":\"white\"}},\"type\":\"table\"}]},\"layout\":{\"annotationdefaults\":{\"arrowcolor\":\"#2a3f5f\",\"arrowhead\":0,\"arrowwidth\":1},\"autotypenumbers\":\"strict\",\"coloraxis\":{\"colorbar\":{\"outlinewidth\":0,\"ticks\":\"\"}},\"colorscale\":{\"diverging\":[[0,\"#8e0152\"],[0.1,\"#c51b7d\"],[0.2,\"#de77ae\"],[0.3,\"#f1b6da\"],[0.4,\"#fde0ef\"],[0.5,\"#f7f7f7\"],[0.6,\"#e6f5d0\"],[0.7,\"#b8e186\"],[0.8,\"#7fbc41\"],[0.9,\"#4d9221\"],[1,\"#276419\"]],\"sequential\":[[0.0,\"#0d0887\"],[0.1111111111111111,\"#46039f\"],[0.2222222222222222,\"#7201a8\"],[0.3333333333333333,\"#9c179e\"],[0.4444444444444444,\"#bd3786\"],[0.5555555555555556,\"#d8576b\"],[0.6666666666666666,\"#ed7953\"],[0.7777777777777778,\"#fb9f3a\"],[0.8888888888888888,\"#fdca26\"],[1.0,\"#f0f921\"]],\"sequentialminus\":[[0.0,\"#0d0887\"],[0.1111111111111111,\"#46039f\"],[0.2222222222222222,\"#7201a8\"],[0.3333333333333333,\"#9c179e\"],[0.4444444444444444,\"#bd3786\"],[0.5555555555555556,\"#d8576b\"],[0.6666666666666666,\"#ed7953\"],[0.7777777777777778,\"#fb9f3a\"],[0.8888888888888888,\"#fdca26\"],[1.0,\"#f0f921\"]]},\"colorway\":[\"#636efa\",\"#EF553B\",\"#00cc96\",\"#ab63fa\",\"#FFA15A\",\"#19d3f3\",\"#FF6692\",\"#B6E880\",\"#FF97FF\",\"#FECB52\"],\"font\":{\"color\":\"#2a3f5f\"},\"geo\":{\"bgcolor\":\"white\",\"lakecolor\":\"white\",\"landcolor\":\"#E5ECF6\",\"showlakes\":true,\"showland\":true,\"subunitcolor\":\"white\"},\"hoverlabel\":{\"align\":\"left\"},\"hovermode\":\"closest\",\"mapbox\":{\"style\":\"light\"},\"paper_bgcolor\":\"white\",\"plot_bgcolor\":\"#E5ECF6\",\"polar\":{\"angularaxis\":{\"gridcolor\":\"white\",\"linecolor\":\"white\",\"ticks\":\"\"},\"bgcolor\":\"#E5ECF6\",\"radialaxis\":{\"gridcolor\":\"white\",\"linecolor\":\"white\",\"ticks\":\"\"}},\"scene\":{\"xaxis\":{\"backgroundcolor\":\"#E5ECF6\",\"gridcolor\":\"white\",\"gridwidth\":2,\"linecolor\":\"white\",\"showbackground\":true,\"ticks\":\"\",\"zerolinecolor\":\"white\"},\"yaxis\":{\"backgroundcolor\":\"#E5ECF6\",\"gridcolor\":\"white\",\"gridwidth\":2,\"linecolor\":\"white\",\"showbackground\":true,\"ticks\":\"\",\"zerolinecolor\":\"white\"},\"zaxis\":{\"backgroundcolor\":\"#E5ECF6\",\"gridcolor\":\"white\",\"gridwidth\":2,\"linecolor\":\"white\",\"showbackground\":true,\"ticks\":\"\",\"zerolinecolor\":\"white\"}},\"shapedefaults\":{\"line\":{\"color\":\"#2a3f5f\"}},\"ternary\":{\"aaxis\":{\"gridcolor\":\"white\",\"linecolor\":\"white\",\"ticks\":\"\"},\"baxis\":{\"gridcolor\":\"white\",\"linecolor\":\"white\",\"ticks\":\"\"},\"bgcolor\":\"#E5ECF6\",\"caxis\":{\"gridcolor\":\"white\",\"linecolor\":\"white\",\"ticks\":\"\"}},\"title\":{\"x\":0.05},\"xaxis\":{\"automargin\":true,\"gridcolor\":\"white\",\"linecolor\":\"white\",\"ticks\":\"\",\"title\":{\"standoff\":15},\"zerolinecolor\":\"white\",\"zerolinewidth\":2},\"yaxis\":{\"automargin\":true,\"gridcolor\":\"white\",\"linecolor\":\"white\",\"ticks\":\"\",\"title\":{\"standoff\":15},\"zerolinecolor\":\"white\",\"zerolinewidth\":2}}},\"scene\":{\"domain\":{\"x\":[0.0,1.0],\"y\":[0.0,1.0]},\"xaxis\":{\"title\":{\"text\":\"x\"}},\"yaxis\":{\"title\":{\"text\":\"y\"}},\"zaxis\":{\"title\":{\"text\":\"z\"}}},\"legend\":{\"tracegroupgap\":0},\"margin\":{\"t\":60}},                        {\"responsive\": true}                    ).then(function(){\n",
              "                            \n",
              "var gd = document.getElementById('76c811a9-10cf-40c9-aa49-6c6470c7d251');\n",
              "var x = new MutationObserver(function (mutations, observer) {{\n",
              "        var display = window.getComputedStyle(gd).display;\n",
              "        if (!display || display === 'none') {{\n",
              "            console.log([gd, 'removed!']);\n",
              "            Plotly.purge(gd);\n",
              "            observer.disconnect();\n",
              "        }}\n",
              "}});\n",
              "\n",
              "// Listen for the removal of the full notebook cells\n",
              "var notebookContainer = gd.closest('#notebook-container');\n",
              "if (notebookContainer) {{\n",
              "    x.observe(notebookContainer, {childList: true});\n",
              "}}\n",
              "\n",
              "// Listen for the clearing of the current output cell\n",
              "var outputEl = gd.closest('.output');\n",
              "if (outputEl) {{\n",
              "    x.observe(outputEl, {childList: true});\n",
              "}}\n",
              "\n",
              "                        })                };                            </script>        </div>\n",
              "</body>\n",
              "</html>"
            ]
          },
          "metadata": {}
        }
      ]
    },
    {
      "cell_type": "code",
      "source": [
        "print(res.X[i])"
      ],
      "metadata": {
        "colab": {
          "base_uri": "https://localhost:8080/"
        },
        "id": "fX-zcHfLc6R2",
        "outputId": "ced50721-d6f0-4767-fdb9-83424f52d6f5"
      },
      "execution_count": null,
      "outputs": [
        {
          "output_type": "stream",
          "name": "stdout",
          "text": [
            "{'nnu': 27, 'nhydro': 995, 'nng': 356, 'npe': 0, 'nco': 111, 'nw': 407, 'nso': 201}\n"
          ]
        }
      ]
    }
  ],
  "metadata": {
    "colab": {
      "provenance": []
    },
    "kernelspec": {
      "display_name": "Python 3",
      "name": "python3"
    },
    "language_info": {
      "name": "python"
    }
  },
  "nbformat": 4,
  "nbformat_minor": 0
}