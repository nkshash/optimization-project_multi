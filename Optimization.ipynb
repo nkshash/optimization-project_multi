{
  "cells": [
    {
      "cell_type": "code",
      "source": [
        "!pip install ipython-autotime\n",
        "%load_ext autotime"
      ],
      "metadata": {
        "id": "-S03v9ALsagy"
      },
      "execution_count": null,
      "outputs": []
    },
    {
      "cell_type": "code",
      "execution_count": null,
      "metadata": {
        "id": "aNrOxY4mPcm1"
      },
      "outputs": [],
      "source": [
        "#libraries\n",
        "import math as m"
      ]
    },
    {
      "cell_type": "code",
      "execution_count": null,
      "metadata": {
        "colab": {
          "base_uri": "https://localhost:8080/"
        },
        "id": "9CcNrisjO4Mm",
        "outputId": "3d0b4e46-4b55-4a64-8bd6-078876ca58ed"
      },
      "outputs": [
        {
          "name": "stdout",
          "output_type": "stream",
          "text": [
            "Enter the wind speed in meter/second 15.2778\n",
            "Enter the radius of blade in metre63.75\n",
            "enter the generator efficiency0.9\n",
            "enter the no of winds turbine in one plant15\n"
          ]
        }
      ],
      "source": [
        "\n",
        "#energy for wind turbine, values we used are written there\n",
        "v=float(input(\"Enter the wind speed in meter/second \")) #15.2778\n",
        "r=float(input(\"Enter the radius of blade in metre\")) #63.75\n",
        "a=m.pi*(r**2)\n",
        "cp=0.59 #Betz Limit\n",
        "cg=float(input(\"enter the generator efficiency\")) #0.9\n",
        "nt=int(input(\"enter the no of winds turbine in one plant\")) #15\n",
        "rho=1.1906 \n",
        "pw=0.5*rho*a*(v**3)*cp*cg*nt*2.7777*(10**(-7))\n",
        "\n",
        "#environmental ascept\n",
        "enw=7.5*(10**5) + 12*(10**7)*pw*365*24\n",
        "#economical effect\n",
        "ecw=1600*pw"
      ]
    },
    {
      "cell_type": "code",
      "execution_count": null,
      "metadata": {
        "colab": {
          "base_uri": "https://localhost:8080/"
        },
        "id": "vOOONLPn4R6y",
        "outputId": "e6a18748-cf91-4ea9-e792-c499a366fb91"
      },
      "outputs": [
        {
          "output_type": "stream",
          "name": "stdout",
          "text": [
            "59.965258983881675\n",
            "63035480993856.41\n",
            "95944.41437421068\n"
          ]
        }
      ],
      "source": [
        "print(pw)\n",
        "print(enw)\n",
        "print(ecw)"
      ]
    },
    {
      "cell_type": "code",
      "execution_count": null,
      "metadata": {
        "colab": {
          "base_uri": "https://localhost:8080/"
        },
        "id": "Emfdzd4jRmJs",
        "outputId": "5c0924e6-2eb5-4e44-dedc-dac8c47f4652"
      },
      "outputs": [
        {
          "name": "stdout",
          "output_type": "stream",
          "text": [
            "input efficiency of solar plant because of loss0.9\n",
            "input area of solar panel in m^21.7\n",
            "solar panel yield %15.6\n",
            "performance ratio0.75\n",
            "annual average solar radiation1361\n",
            "no of solar plates in one plant6000\n"
          ]
        }
      ],
      "source": [
        "#for solar panel r is solar panel yield (%), H is annual average solar radiation on tilted panels and PR = Performan...\n",
        "\n",
        "\n",
        "nefso=float(input(\"input efficiency of solar plant because of loss\")) #0.9\n",
        "AreaSo=float(input(\"input area of solar panel in m^2\")) #1.7\n",
        "RSo=float(input(\"solar panel yield %\")) #15.6\n",
        "PR=float(input(\"performance ratio\")) #0.75\n",
        "H=float(input(\"annual average solar radiation\")) #1361\n",
        "Numberso=int(input(\"no of solar plates in one plant\")) #6000\n",
        "pso=nefso*AreaSo*RSo*PR*H*Numberso*2.7777*(10**(-7))\n",
        "\n",
        "#environmental ascept\n",
        "enso=19*(10**5) + 40*(10**7)*pso*365*24\n",
        "#economical effect\n",
        "ecso=830*pso"
      ]
    },
    {
      "cell_type": "code",
      "execution_count": null,
      "metadata": {
        "colab": {
          "base_uri": "https://localhost:8080/"
        },
        "id": "K1JKKY3i8lDt",
        "outputId": "6a2a1b0a-32ba-4473-b5a2-41558083de9f"
      },
      "outputs": [
        {
          "output_type": "stream",
          "name": "stdout",
          "text": [
            "40.604298047819995\n",
            "142277462259561.28\n",
            "33701.5673796906\n"
          ]
        }
      ],
      "source": [
        "print(pso)\n",
        "print(enso)\n",
        "print(ecso)"
      ]
    },
    {
      "cell_type": "code",
      "execution_count": null,
      "metadata": {
        "colab": {
          "base_uri": "https://localhost:8080/"
        },
        "id": "0PTOdouHS9pS",
        "outputId": "01031821-e21a-449e-c30d-993f81c43d44"
      },
      "outputs": [
        {
          "name": "stdout",
          "output_type": "stream",
          "text": [
            "mass of coal used per second in tonnes27\n",
            "input efficiency of coal power plant0.33\n",
            "input calorific value of coal in Mj/kg28.5\n"
          ]
        }
      ],
      "source": [
        "#for coal\n",
        "mcoal=float(input(\"mass of coal used per second in tonnes\")) #27\n",
        "nefc=float(input(\"input efficiency of coal power plant\")) #0.33\n",
        "caf=float(input(\"input calorific value of coal in Mj/kg\")) #28.5\n",
        "pco=nefc*mcoal*caf*1000000*2.7777*(10**(-7))\n",
        "\n",
        "#environmental ascept\n",
        "enco=15*(10**5) + 1011.511*(10**7)*pco*365*24\n",
        "#economical effect\n",
        "ecco=3500*pco"
      ]
    },
    {
      "cell_type": "code",
      "execution_count": null,
      "metadata": {
        "colab": {
          "base_uri": "https://localhost:8080/"
        },
        "id": "aQumVSx59K1R",
        "outputId": "49050510-b05c-4a3c-c17e-fd57d645e56a"
      },
      "outputs": [
        {
          "output_type": "stream",
          "name": "stdout",
          "text": [
            "70.53552495\n",
            "6250037442986472.0\n",
            "246874.33732499997\n"
          ]
        }
      ],
      "source": [
        "print(pco)\n",
        "print(enco)\n",
        "print(ecco)"
      ]
    },
    {
      "cell_type": "code",
      "execution_count": null,
      "metadata": {
        "colab": {
          "base_uri": "https://localhost:8080/"
        },
        "id": "BvHC9ls1TBu6",
        "outputId": "068a835c-27c0-4164-ea8a-1480bceddbac"
      },
      "outputs": [
        {
          "name": "stdout",
          "output_type": "stream",
          "text": [
            "litre of crude oil per second0.03028\n",
            "input efficiency of oil plant0.33\n",
            "input calorific value of crude oil j/Kg45\n"
          ]
        }
      ],
      "source": [
        "#for petroleum\n",
        "lpet=float(input(\"litre of crude oil per second\"))#0.03028\n",
        "nefp=float(input(\"input efficiency of oil plant\"))#0.33\n",
        "cafp=float(input(\"input calorific value of crude oil Mj/Kg\"))#45\n",
        "densitycrude=850\n",
        "ppe=nefp*lpet*cafp*densitycrude*1000000*2.7777*(10**(-7))\n",
        "\n",
        "#environmental ascept\n",
        "enpe=15*(10**5) + 966.1517*(10**7)*ppe*365*24\n",
        "#economical effect\n",
        "ecpe=600*ppe"
      ]
    },
    {
      "cell_type": "code",
      "execution_count": null,
      "metadata": {
        "colab": {
          "base_uri": "https://localhost:8080/"
        },
        "id": "40Ww6yYv9L4i",
        "outputId": "5d7c2e83-b314-4726-fa97-3731ef6f842c"
      },
      "outputs": [
        {
          "output_type": "stream",
          "name": "stdout",
          "text": [
            "106.16627726099999\n",
            "8985371084534656.0\n",
            "63699.7663566\n"
          ]
        }
      ],
      "source": [
        "print(ppe)\n",
        "print(enpe)\n",
        "print(ecpe)"
      ]
    },
    {
      "cell_type": "code",
      "execution_count": null,
      "metadata": {
        "colab": {
          "base_uri": "https://localhost:8080/"
        },
        "id": "C3AnDzwHTE1x",
        "outputId": "c29237cf-d26d-4bac-d75a-b82657ff43a3"
      },
      "outputs": [
        {
          "name": "stdout",
          "output_type": "stream",
          "text": [
            "volume of natural gas in litre8.4\n",
            "input efficiency of natural gas plant0.8\n",
            "input calorific value of natural gas50\n"
          ]
        }
      ],
      "source": [
        "#for natural gas\n",
        "lng=float(input(\"volume of natural gas in litre\"))#8.4\n",
        "nefng=float(input(\"input efficiency of natural gas plant\"))#0.8\n",
        "cafng=float(input(\"input calorific value of natural gas\"))#50\n",
        "densitygas=0.97\n",
        "png=nefng*lng*densitygas*cafng*1000000*2.7777*(10**(-7))\n",
        "\n",
        "#environmental ascept\n",
        "enng=1*(10**5) + 412.7691*(10**7)*png*365*24\n",
        "#economical effect\n",
        "ecng=710*png"
      ]
    },
    {
      "cell_type": "code",
      "execution_count": null,
      "metadata": {
        "colab": {
          "base_uri": "https://localhost:8080/"
        },
        "id": "RuEBDl9n9M7l",
        "outputId": "a6ab51d5-4d4a-4760-d0e3-6284d9d84ec5"
      },
      "outputs": [
        {
          "output_type": "stream",
          "name": "stdout",
          "text": [
            "90.5307984\n",
            "3273464497279611.0\n",
            "64276.866863999996\n"
          ]
        }
      ],
      "source": [
        "print(png)\n",
        "print(enng)\n",
        "print(ecng)"
      ]
    },
    {
      "cell_type": "code",
      "execution_count": null,
      "metadata": {
        "colab": {
          "base_uri": "https://localhost:8080/"
        },
        "id": "crYEUknSTHxo",
        "outputId": "8ad6f84d-baa9-4e74-a54c-012aa85ae67d"
      },
      "outputs": [
        {
          "name": "stdout",
          "output_type": "stream",
          "text": [
            "height of hydroplant20\n",
            "enter area of plant112.409530\n",
            "efficiency of hydroplant0.54\n"
          ]
        }
      ],
      "source": [
        "#for hydropower plant\n",
        "height=float(input(\"height of hydroplant\"))#20\n",
        "area=float(input(\"enter area of plant\"))#112.409530\n",
        "neffhydro=float(input(\"efficiency of hydroplant\"))#0.54\n",
        "phydro=neffhydro*1000*area*9.81*0.9*0.9*height*height*2.7777*(10**(-7))\n",
        "\n",
        "#environmental ascept\n",
        "enhydro=33*(10**5) + 24*(10**7)*phydro*365*24\n",
        "#economical effect\n",
        "echydro=2752*phydro"
      ]
    },
    {
      "cell_type": "code",
      "execution_count": null,
      "metadata": {
        "colab": {
          "base_uri": "https://localhost:8080/"
        },
        "id": "-c78dSOb9N3y",
        "outputId": "23b26a5e-6235-4ef3-c0d5-0049bb7841e3"
      },
      "outputs": [
        {
          "output_type": "stream",
          "name": "stdout",
          "text": [
            "53.59154137480456\n",
            "112670859886389.12\n",
            "147483.92186346214\n"
          ]
        }
      ],
      "source": [
        "print(phydro)\n",
        "print(enhydro)\n",
        "print(echydro)"
      ]
    },
    {
      "cell_type": "code",
      "execution_count": null,
      "metadata": {
        "colab": {
          "base_uri": "https://localhost:8080/"
        },
        "id": "gbQmlKp6TUwI",
        "outputId": "4f34218c-be23-4e50-bc5e-64ce93050c6f"
      },
      "outputs": [
        {
          "name": "stdout",
          "output_type": "stream",
          "text": [
            "mass of nuclear fuel0.017625\n",
            "input efficiency of nuclear0.45\n",
            "input calorific value of nuclear24000\n"
          ]
        }
      ],
      "source": [
        "#nuclear\n",
        "mnu=float(input(\"mass of nuclear fuel\"))#0.017625\n",
        "nefnu=float(input(\"input efficiency of nuclear\"))#0.45\n",
        "cafnu=float(input(\"input calorific value of nuclear\"))#24000\n",
        "pnu=nefnu*mnu*cafnu*2.7777*(10**(-7))*1000000\n",
        "\n",
        "#environmental ascept\n",
        "ennu=0.3*(10**5) + 12*(10**7)*pnu*365*24\n",
        "#economical effect\n",
        "ecnu=6000*pnu"
      ]
    },
    {
      "cell_type": "code",
      "execution_count": null,
      "metadata": {
        "colab": {
          "base_uri": "https://localhost:8080/"
        },
        "id": "8vOThPTS9PX1",
        "outputId": "e73e8f6b-855c-4e6a-e5e2-c209d0d082f3"
      },
      "outputs": [
        {
          "output_type": "stream",
          "name": "stdout",
          "text": [
            "52.873519499999986\n",
            "55580643728399.984\n",
            "317241.1169999999\n"
          ]
        }
      ],
      "source": [
        "print(pnu)\n",
        "print(ennu)\n",
        "print(ecnu)"
      ]
    },
    {
      "cell_type": "code",
      "execution_count": null,
      "metadata": {
        "colab": {
          "base_uri": "https://localhost:8080/"
        },
        "id": "0wVFLs_amKX-",
        "outputId": "62d679f9-e870-4ae8-b9d2-fc09fe31e8a1"
      },
      "outputs": [
        {
          "name": "stdout",
          "output_type": "stream",
          "text": [
            "Input power requirement in BU per month124.2\n",
            "storage capacity of power in BU per month10\n"
          ]
        }
      ],
      "source": [
        "#constraints\n",
        "preq=float(input(\"Input power requirement in BU per month\"))\n",
        "\n",
        "Power1=-1*preq*1000000/(30*24)\n",
        "pextra=float(input(\"storage capacity of power in BU per month\"))\n",
        "\n",
        "Power2=-1*pextra*1000000/(30*24)\n"
      ]
    },
    {
      "cell_type": "code",
      "source": [
        "print(Power1)"
      ],
      "metadata": {
        "colab": {
          "base_uri": "https://localhost:8080/"
        },
        "id": "0OEDW_j9X7mZ",
        "outputId": "1bc7ccd9-b436-4748-f86d-b36536cf9272"
      },
      "execution_count": null,
      "outputs": [
        {
          "output_type": "stream",
          "name": "stdout",
          "text": [
            "-172500.0\n"
          ]
        }
      ]
    },
    {
      "cell_type": "code",
      "source": [
        "print(Power2)"
      ],
      "metadata": {
        "colab": {
          "base_uri": "https://localhost:8080/"
        },
        "id": "XlbNx-sDZBVX",
        "outputId": "ceb8d570-e6b7-4535-a294-13edbc2348d3"
      },
      "execution_count": null,
      "outputs": [
        {
          "output_type": "stream",
          "name": "stdout",
          "text": [
            "-13888.888888888889\n"
          ]
        }
      ]
    },
    {
      "cell_type": "code",
      "execution_count": null,
      "metadata": {
        "id": "Qk-5CWOg1QvL"
      },
      "outputs": [],
      "source": [
        "!pip install pymoo"
      ]
    },
    {
      "cell_type": "code",
      "execution_count": null,
      "metadata": {
        "id": "b4km23p2ikCE"
      },
      "outputs": [],
      "source": [
        "max=10**3"
      ]
    },
    {
      "cell_type": "code",
      "execution_count": null,
      "metadata": {
        "id": "yIk3nFHjZw3x"
      },
      "outputs": [],
      "source": [
        "from pymoo.core.problem import ElementwiseProblem\n",
        "from pymoo.core.variable import Real, Integer\n",
        "class MultiObjectiveMixedVariableProblem(ElementwiseProblem):\n",
        "\n",
        "    def __init__(self, **kwargs):\n",
        "        vars = {\n",
        "            \"nnu\": Integer(bounds=(0, max )),\n",
        "            \"nhydro\": Integer(bounds=(0, max )),\n",
        "            \"nng\": Integer(bounds=(0, max )),\n",
        "            \"npe\": Integer(bounds=(0, max )),\n",
        "            \"nco\": Integer(bounds=(0, max )),\n",
        "            \"nw\": Integer(bounds=(0, max )),\n",
        "            \"nso\": Integer(bounds=(0, max )),\n",
        "\n",
        "           \n",
        "        }\n",
        "        super().__init__(vars=vars, n_obj=3, n_ieq_constr=2, **kwargs)\n",
        "    def _evaluate(self, X, out, *args, **kwargs):\n",
        "        nnu, nhydro, nng, npe, nco, nw, nso = X[\"nnu\"], X[\"nhydro\"], X[\"nng\"], X[\"npe\"], X[\"nco\"], X[\"nw\"], X[\"nso\"] \n",
        "\n",
        "        f1 = -1*(pco*nco +pw*nw +pso*nso + pnu*nnu +phydro*nhydro +png*nng + ppe*npe ) \n",
        "        f2 =  (ecco*nco +ecw*nw +ecso*nso + ecnu*nnu +echydro*nhydro +ecng*nng + ecpe*npe ) \n",
        "        f3 =  (enco*nco +enw*nw +enso*nso + ennu*nnu +enhydro*nhydro +enng*nng + enpe*npe ) \n",
        "\n",
        "        g1  = f1-Power1\n",
        "        g2  = Power1+Power2-f1\n",
        "\n",
        "        out[\"F\"] = [f1, f2, f3 ]\n",
        "        out[\"G\"]=  [g1 ,g2]\n",
        "        "
      ]
    },
    {
      "cell_type": "code",
      "execution_count": null,
      "metadata": {
        "id": "Hh6Q-qxJhwEy",
        "colab": {
          "base_uri": "https://localhost:8080/"
        },
        "outputId": "0f9f198d-d01a-40e9-fa4f-eea6ab1d172a"
      },
      "outputs": [
        {
          "output_type": "stream",
          "name": "stdout",
          "text": [
            "time: 31min 56s (started: 2022-12-01 09:59:58 +00:00)\n"
          ]
        }
      ],
      "source": [
        "from pymoo.visualization.scatter import Scatter\n",
        "from pymoo.algorithms.moo.nsga2 import NSGA2, RankAndCrowdingSurvival\n",
        "from pymoo.core.mixed import MixedVariableMating, MixedVariableGA, MixedVariableSampling, MixedVariableDuplicateElimination\n",
        "from pymoo.optimize import minimize\n",
        "problem=MultiObjectiveMixedVariableProblem()\n",
        "algorithm = NSGA2(pop_size=100,\n",
        "                  sampling=MixedVariableSampling(),\n",
        "                  mating=MixedVariableMating(eliminate_duplicates=MixedVariableDuplicateElimination()),\n",
        "                  eliminate_duplicates=MixedVariableDuplicateElimination(),\n",
        "                  )\n",
        "res = minimize(problem,\n",
        "               algorithm,\n",
        "               ('n_gen', 50000),\n",
        "               seed=1,\n",
        "               verbose=False)\n"
      ]
    },
    {
      "cell_type": "code",
      "execution_count": null,
      "metadata": {
        "colab": {
          "base_uri": "https://localhost:8080/"
        },
        "id": "bEbsCNPgL_jN",
        "outputId": "ccd520f6-e93c-4d0d-9d2f-98888d35aad3"
      },
      "outputs": [
        {
          "output_type": "stream",
          "name": "stdout",
          "text": [
            "Looking in indexes: https://pypi.org/simple, https://us-python.pkg.dev/colab-wheels/public/simple/\n",
            "Requirement already satisfied: plotly in /usr/local/lib/python3.8/dist-packages (5.5.0)\n",
            "Requirement already satisfied: tenacity>=6.2.0 in /usr/local/lib/python3.8/dist-packages (from plotly) (8.1.0)\n",
            "Requirement already satisfied: six in /usr/local/lib/python3.8/dist-packages (from plotly) (1.15.0)\n",
            "time: 3.44 s (started: 2022-12-01 11:21:25 +00:00)\n"
          ]
        }
      ],
      "source": [
        "!pip install plotly"
      ]
    },
    {
      "cell_type": "code",
      "execution_count": null,
      "metadata": {
        "id": "m9xKLkYS3hu_"
      },
      "outputs": [],
      "source": [
        "print(res.X)"
      ]
    },
    {
      "cell_type": "code",
      "execution_count": null,
      "metadata": {
        "id": "ykdznXctxN2O"
      },
      "outputs": [],
      "source": [
        "print(res.F)"
      ]
    },
    {
      "cell_type": "code",
      "source": [
        "df=res.F"
      ],
      "metadata": {
        "colab": {
          "base_uri": "https://localhost:8080/"
        },
        "id": "OBDdsJ6JIoUO",
        "outputId": "665fef42-b55b-47bb-f945-68b71397c2de"
      },
      "execution_count": null,
      "outputs": [
        {
          "output_type": "stream",
          "name": "stdout",
          "text": [
            "time: 743 µs (started: 2022-12-01 11:21:49 +00:00)\n"
          ]
        }
      ]
    },
    {
      "cell_type": "code",
      "source": [
        "import numpy as np\n",
        "weights = np.array([0.1, 0.6, 0.3])\n",
        "from pymoo.decomposition.asf import ASF\n",
        "import pandas as pd\n",
        "\n",
        "decomp = ASF()\n",
        "i = decomp.do(df, 1/weights).argmin()\n",
        "print(\"Best regarding ASF: Point \\ni = %s\\nres = %s\" % (i, df[i]))"
      ],
      "metadata": {
        "colab": {
          "base_uri": "https://localhost:8080/"
        },
        "id": "osmW_ZsxIlUy",
        "outputId": "d014d214-8885-4d4b-cce2-4b35eb1c8a5e"
      },
      "execution_count": null,
      "outputs": [
        {
          "output_type": "stream",
          "name": "stdout",
          "text": [
            "Best regarding ASF: Point \n",
            "i = 4\n",
            "res = [-1.72520965e+05  5.65724688e+08  2.52628604e+17]\n",
            "time: 3.68 ms (started: 2022-12-01 11:21:50 +00:00)\n"
          ]
        }
      ]
    },
    {
      "cell_type": "code",
      "source": [
        "print(df)"
      ],
      "metadata": {
        "id": "GC2dxSxddu8W"
      },
      "execution_count": null,
      "outputs": []
    },
    {
      "cell_type": "code",
      "source": [
        "number=res.X\n",
        "print(number)"
      ],
      "metadata": {
        "colab": {
          "base_uri": "https://localhost:8080/"
        },
        "id": "V5H8I8EEM7OI",
        "outputId": "97482b9b-2b04-4c0b-f250-e6790c41f4af"
      },
      "execution_count": null,
      "outputs": [
        {
          "output_type": "stream",
          "name": "stdout",
          "text": [
            "[{'nnu': 0, 'nhydro': 0, 'nng': 883, 'npe': 1000, 'nco': 2, 'nw': 0, 'nso': 3}\n",
            " {'nnu': 1000, 'nhydro': 1000, 'nng': 0, 'npe': 0, 'nco': 0, 'nw': 999, 'nso': 151}\n",
            " {'nnu': 1000, 'nhydro': 1000, 'nng': 2, 'npe': 0, 'nco': 0, 'nw': 1000, 'nso': 487}\n",
            " {'nnu': 8, 'nhydro': 4, 'nng': 951, 'npe': 511, 'nco': 48, 'nw': 92, 'nso': 899}\n",
            " {'nnu': 1000, 'nhydro': 1000, 'nng': 0, 'npe': 0, 'nco': 0, 'nw': 1000, 'nso': 150}\n",
            " {'nnu': 0, 'nhydro': 0, 'nng': 733, 'npe': 1000, 'nco': 0, 'nw': 0, 'nso': 0}\n",
            " {'nnu': 10, 'nhydro': 25, 'nng': 994, 'npe': 128, 'nco': 1, 'nw': 600, 'nso': 993}\n",
            " {'nnu': 33, 'nhydro': 14, 'nng': 916, 'npe': 235, 'nco': 2, 'nw': 591, 'nso': 889}\n",
            " {'nnu': 3, 'nhydro': 25, 'nng': 959, 'npe': 818, 'nco': 0, 'nw': 24, 'nso': 198}\n",
            " {'nnu': 3, 'nhydro': 7, 'nng': 926, 'npe': 90, 'nco': 0, 'nw': 733, 'nso': 960}\n",
            " {'nnu': 736, 'nhydro': 791, 'nng': 13, 'npe': 0, 'nco': 1, 'nw': 961, 'nso': 981}\n",
            " {'nnu': 0, 'nhydro': 0, 'nng': 828, 'npe': 934, 'nco': 0, 'nw': 7, 'nso': 104}\n",
            " {'nnu': 527, 'nhydro': 999, 'nng': 45, 'npe': 2, 'nco': 3, 'nw': 998, 'nso': 962}\n",
            " {'nnu': 5, 'nhydro': 57, 'nng': 985, 'npe': 304, 'nco': 1, 'nw': 349, 'nso': 935}\n",
            " {'nnu': 11, 'nhydro': 138, 'nng': 857, 'npe': 11, 'nco': 0, 'nw': 984, 'nso': 967}\n",
            " {'nnu': 0, 'nhydro': 18, 'nng': 716, 'npe': 825, 'nco': 1, 'nw': 0, 'nso': 547}\n",
            " {'nnu': 0, 'nhydro': 381, 'nng': 617, 'npe': 0, 'nco': 11, 'nw': 950, 'nso': 962}\n",
            " {'nnu': 10, 'nhydro': 18, 'nng': 997, 'npe': 38, 'nco': 0, 'nw': 800, 'nso': 949}\n",
            " {'nnu': 0, 'nhydro': 8, 'nng': 988, 'npe': 836, 'nco': 1, 'nw': 56, 'nso': 3}\n",
            " {'nnu': 242, 'nhydro': 939, 'nng': 153, 'npe': 4, 'nco': 3, 'nw': 948, 'nso': 946}\n",
            " {'nnu': 1, 'nhydro': 677, 'nng': 537, 'npe': 0, 'nco': 0, 'nw': 934, 'nso': 979}\n",
            " {'nnu': 858, 'nhydro': 991, 'nng': 0, 'npe': 0, 'nco': 0, 'nw': 999, 'nso': 601}\n",
            " {'nnu': 793, 'nhydro': 808, 'nng': 36, 'npe': 0, 'nco': 0, 'nw': 1000, 'nso': 906}\n",
            " {'nnu': 999, 'nhydro': 804, 'nng': 0, 'npe': 0, 'nco': 0, 'nw': 962, 'nso': 487}\n",
            " {'nnu': 1, 'nhydro': 432, 'nng': 587, 'npe': 64, 'nco': 0, 'nw': 999, 'nso': 990}\n",
            " {'nnu': 75, 'nhydro': 956, 'nng': 194, 'npe': 68, 'nco': 0, 'nw': 998, 'nso': 955}\n",
            " {'nnu': 12, 'nhydro': 0, 'nng': 829, 'npe': 671, 'nco': 16, 'nw': 27, 'nso': 893}\n",
            " {'nnu': 812, 'nhydro': 991, 'nng': 1, 'npe': 0, 'nco': 0, 'nw': 999, 'nso': 535}\n",
            " {'nnu': 351, 'nhydro': 952, 'nng': 156, 'npe': 0, 'nco': 0, 'nw': 951, 'nso': 961}\n",
            " {'nnu': 45, 'nhydro': 176, 'nng': 750, 'npe': 0, 'nco': 0, 'nw': 972, 'nso': 950}\n",
            " {'nnu': 36, 'nhydro': 712, 'nng': 502, 'npe': 0, 'nco': 0, 'nw': 990, 'nso': 887}\n",
            " {'nnu': 67, 'nhydro': 432, 'nng': 587, 'npe': 14, 'nco': 0, 'nw': 993, 'nso': 990}\n",
            " {'nnu': 0, 'nhydro': 865, 'nng': 383, 'npe': 36, 'nco': 0, 'nw': 998, 'nso': 991}\n",
            " {'nnu': 1, 'nhydro': 4, 'nng': 998, 'npe': 232, 'nco': 1, 'nw': 532, 'nso': 959}\n",
            " {'nnu': 158, 'nhydro': 940, 'nng': 201, 'npe': 6, 'nco': 6, 'nw': 947, 'nso': 994}\n",
            " {'nnu': 0, 'nhydro': 0, 'nng': 997, 'npe': 97, 'nco': 0, 'nw': 771, 'nso': 956}\n",
            " {'nnu': 0, 'nhydro': 63, 'nng': 986, 'npe': 0, 'nco': 1, 'nw': 950, 'nso': 896}\n",
            " {'nnu': 36, 'nhydro': 963, 'nng': 315, 'npe': 0, 'nco': 2, 'nw': 979, 'nso': 862}\n",
            " {'nnu': 774, 'nhydro': 811, 'nng': 1, 'npe': 0, 'nco': 0, 'nw': 1000, 'nso': 861}\n",
            " {'nnu': 57, 'nhydro': 963, 'nng': 252, 'npe': 115, 'nco': 1, 'nw': 999, 'nso': 893}\n",
            " {'nnu': 515, 'nhydro': 999, 'nng': 45, 'npe': 2, 'nco': 3, 'nw': 996, 'nso': 962}\n",
            " {'nnu': 2, 'nhydro': 32, 'nng': 723, 'npe': 669, 'nco': 1, 'nw': 6, 'nso': 931}\n",
            " {'nnu': 7, 'nhydro': 5, 'nng': 999, 'npe': 437, 'nco': 3, 'nw': 65, 'nso': 901}\n",
            " {'nnu': 0, 'nhydro': 0, 'nng': 733, 'npe': 1000, 'nco': 1, 'nw': 0, 'nso': 0}\n",
            " {'nnu': 16, 'nhydro': 14, 'nng': 952, 'npe': 235, 'nco': 2, 'nw': 591, 'nso': 889}\n",
            " {'nnu': 0, 'nhydro': 963, 'nng': 252, 'npe': 115, 'nco': 54, 'nw': 995, 'nso': 893}\n",
            " {'nnu': 2, 'nhydro': 1, 'nng': 707, 'npe': 746, 'nco': 1, 'nw': 35, 'nso': 851}\n",
            " {'nnu': 0, 'nhydro': 18, 'nng': 760, 'npe': 800, 'nco': 1, 'nw': 2, 'nso': 547}\n",
            " {'nnu': 3, 'nhydro': 72, 'nng': 976, 'npe': 15, 'nco': 0, 'nw': 931, 'nso': 897}\n",
            " {'nnu': 45, 'nhydro': 32, 'nng': 999, 'npe': 367, 'nco': 2, 'nw': 36, 'nso': 936}\n",
            " {'nnu': 45, 'nhydro': 31, 'nng': 999, 'npe': 367, 'nco': 2, 'nw': 33, 'nso': 935}\n",
            " {'nnu': 14, 'nhydro': 5, 'nng': 999, 'npe': 464, 'nco': 3, 'nw': 48, 'nso': 902}\n",
            " {'nnu': 81, 'nhydro': 970, 'nng': 193, 'npe': 10, 'nco': 25, 'nw': 999, 'nso': 955}\n",
            " {'nnu': 425, 'nhydro': 967, 'nng': 75, 'npe': 16, 'nco': 13, 'nw': 977, 'nso': 936}\n",
            " {'nnu': 4, 'nhydro': 0, 'nng': 921, 'npe': 372, 'nco': 0, 'nw': 378, 'nso': 962}\n",
            " {'nnu': 30, 'nhydro': 0, 'nng': 883, 'npe': 977, 'nco': 2, 'nw': 0, 'nso': 3}\n",
            " {'nnu': 29, 'nhydro': 32, 'nng': 999, 'npe': 408, 'nco': 3, 'nw': 36, 'nso': 933}\n",
            " {'nnu': 8, 'nhydro': 4, 'nng': 958, 'npe': 511, 'nco': 0, 'nw': 92, 'nso': 899}\n",
            " {'nnu': 990, 'nhydro': 955, 'nng': 0, 'npe': 0, 'nco': 0, 'nw': 960, 'nso': 477}\n",
            " {'nnu': 401, 'nhydro': 970, 'nng': 44, 'npe': 16, 'nco': 0, 'nw': 990, 'nso': 938}\n",
            " {'nnu': 0, 'nhydro': 1, 'nng': 996, 'npe': 532, 'nco': 45, 'nw': 0, 'nso': 851}\n",
            " {'nnu': 303, 'nhydro': 996, 'nng': 87, 'npe': 16, 'nco': 0, 'nw': 976, 'nso': 983}\n",
            " {'nnu': 48, 'nhydro': 23, 'nng': 932, 'npe': 292, 'nco': 0, 'nw': 345, 'nso': 941}\n",
            " {'nnu': 298, 'nhydro': 863, 'nng': 152, 'npe': 0, 'nco': 2, 'nw': 994, 'nso': 962}\n",
            " {'nnu': 499, 'nhydro': 928, 'nng': 42, 'npe': 0, 'nco': 0, 'nw': 998, 'nso': 985}\n",
            " {'nnu': 2, 'nhydro': 4, 'nng': 765, 'npe': 746, 'nco': 1, 'nw': 36, 'nso': 799}\n",
            " {'nnu': 2, 'nhydro': 6, 'nng': 760, 'npe': 767, 'nco': 1, 'nw': 2, 'nso': 800}\n",
            " {'nnu': 12, 'nhydro': 462, 'nng': 587, 'npe': 64, 'nco': 7, 'nw': 999, 'nso': 990}\n",
            " {'nnu': 2, 'nhydro': 138, 'nng': 868, 'npe': 0, 'nco': 0, 'nw': 1000, 'nso': 867}\n",
            " {'nnu': 750, 'nhydro': 797, 'nng': 3, 'npe': 2, 'nco': 0, 'nw': 1000, 'nso': 860}\n",
            " {'nnu': 48, 'nhydro': 23, 'nng': 927, 'npe': 292, 'nco': 1, 'nw': 351, 'nso': 951}\n",
            " {'nnu': 914, 'nhydro': 1000, 'nng': 2, 'npe': 0, 'nco': 0, 'nw': 1000, 'nso': 507}\n",
            " {'nnu': 0, 'nhydro': 1, 'nng': 996, 'npe': 532, 'nco': 1, 'nw': 0, 'nso': 851}\n",
            " {'nnu': 500, 'nhydro': 999, 'nng': 42, 'npe': 0, 'nco': 0, 'nw': 995, 'nso': 985}\n",
            " {'nnu': 4, 'nhydro': 2, 'nng': 915, 'npe': 357, 'nco': 1, 'nw': 335, 'nso': 992}\n",
            " {'nnu': 999, 'nhydro': 836, 'nng': 0, 'npe': 0, 'nco': 0, 'nw': 982, 'nso': 529}\n",
            " {'nnu': 357, 'nhydro': 952, 'nng': 177, 'npe': 0, 'nco': 0, 'nw': 998, 'nso': 961}\n",
            " {'nnu': 0, 'nhydro': 432, 'nng': 617, 'npe': 0, 'nco': 11, 'nw': 950, 'nso': 962}\n",
            " {'nnu': 419, 'nhydro': 967, 'nng': 76, 'npe': 16, 'nco': 0, 'nw': 976, 'nso': 936}\n",
            " {'nnu': 7, 'nhydro': 3, 'nng': 976, 'npe': 437, 'nco': 3, 'nw': 33, 'nso': 902}\n",
            " {'nnu': 12, 'nhydro': 983, 'nng': 154, 'npe': 100, 'nco': 6, 'nw': 961, 'nso': 954}\n",
            " {'nnu': 0, 'nhydro': 0, 'nng': 885, 'npe': 934, 'nco': 0, 'nw': 7, 'nso': 104}\n",
            " {'nnu': 3, 'nhydro': 18, 'nng': 959, 'npe': 11, 'nco': 1, 'nw': 916, 'nso': 978}\n",
            " {'nnu': 81, 'nhydro': 967, 'nng': 193, 'npe': 7, 'nco': 25, 'nw': 999, 'nso': 955}\n",
            " {'nnu': 303, 'nhydro': 996, 'nng': 86, 'npe': 16, 'nco': 0, 'nw': 947, 'nso': 983}\n",
            " {'nnu': 8, 'nhydro': 4, 'nng': 954, 'npe': 511, 'nco': 30, 'nw': 90, 'nso': 900}\n",
            " {'nnu': 454, 'nhydro': 985, 'nng': 10, 'npe': 0, 'nco': 0, 'nw': 1000, 'nso': 988}\n",
            " {'nnu': 4, 'nhydro': 2, 'nng': 915, 'npe': 357, 'nco': 0, 'nw': 327, 'nso': 992}\n",
            " {'nnu': 852, 'nhydro': 991, 'nng': 0, 'npe': 0, 'nco': 0, 'nw': 955, 'nso': 601}\n",
            " {'nnu': 419, 'nhydro': 970, 'nng': 76, 'npe': 16, 'nco': 0, 'nw': 976, 'nso': 936}\n",
            " {'nnu': 774, 'nhydro': 803, 'nng': 1, 'npe': 0, 'nco': 0, 'nw': 1000, 'nso': 845}\n",
            " {'nnu': 170, 'nhydro': 176, 'nng': 745, 'npe': 5, 'nco': 35, 'nw': 981, 'nso': 950}\n",
            " {'nnu': 0, 'nhydro': 0, 'nng': 794, 'npe': 1000, 'nco': 1, 'nw': 48, 'nso': 15}\n",
            " {'nnu': 156, 'nhydro': 999, 'nng': 201, 'npe': 85, 'nco': 0, 'nw': 975, 'nso': 930}\n",
            " {'nnu': 158, 'nhydro': 964, 'nng': 201, 'npe': 0, 'nco': 6, 'nw': 947, 'nso': 994}\n",
            " {'nnu': 36, 'nhydro': 712, 'nng': 502, 'npe': 0, 'nco': 5, 'nw': 850, 'nso': 962}\n",
            " {'nnu': 298, 'nhydro': 899, 'nng': 152, 'npe': 7, 'nco': 11, 'nw': 946, 'nso': 962}\n",
            " {'nnu': 29, 'nhydro': 32, 'nng': 999, 'npe': 399, 'nco': 3, 'nw': 23, 'nso': 933}\n",
            " {'nnu': 3, 'nhydro': 23, 'nng': 951, 'npe': 498, 'nco': 2, 'nw': 30, 'nso': 889}\n",
            " {'nnu': 52, 'nhydro': 390, 'nng': 604, 'npe': 15, 'nco': 11, 'nw': 931, 'nso': 972}]\n",
            "time: 5.71 ms (started: 2022-12-01 11:22:00 +00:00)\n"
          ]
        }
      ]
    },
    {
      "cell_type": "code",
      "source": [
        "number[i]"
      ],
      "metadata": {
        "colab": {
          "base_uri": "https://localhost:8080/"
        },
        "id": "eopky8GRNCJ2",
        "outputId": "3c7e9823-4e1e-4911-988f-655357195ab6"
      },
      "execution_count": null,
      "outputs": [
        {
          "output_type": "execute_result",
          "data": {
            "text/plain": [
              "{'nnu': 1000,\n",
              " 'nhydro': 1000,\n",
              " 'nng': 0,\n",
              " 'npe': 0,\n",
              " 'nco': 0,\n",
              " 'nw': 1000,\n",
              " 'nso': 150}"
            ]
          },
          "metadata": {},
          "execution_count": 288
        },
        {
          "output_type": "stream",
          "name": "stdout",
          "text": [
            "time: 10.5 ms (started: 2022-12-01 11:22:07 +00:00)\n"
          ]
        }
      ]
    },
    {
      "cell_type": "code",
      "execution_count": null,
      "metadata": {
        "id": "UEwLME58x9_s"
      },
      "outputs": [],
      "source": [
        "import plotly.express as px\n",
        "import plotly.graph_objects as go\n"
      ]
    },
    {
      "cell_type": "code",
      "execution_count": null,
      "metadata": {
        "id": "F8r0Qxqd7fzL",
        "colab": {
          "base_uri": "https://localhost:8080/",
          "height": 948
        },
        "outputId": "325937eb-bcee-4e19-98d1-1674f895f9d9"
      },
      "outputs": [
        {
          "output_type": "display_data",
          "data": {
            "text/plain": [
              "            power      economic  environmental\n",
              "0  -186228.641686  1.305396e+08   9.145429e+18\n",
              "1  -186351.329234  5.550031e+08   3.207783e+17\n",
              "2  -186388.777992  1.331903e+08   8.541120e+18\n",
              "3  -172598.461539  1.191653e+08   8.855202e+18\n",
              "4  -172540.236387  5.174678e+08   2.772336e+17\n",
              "..            ...           ...            ...\n",
              "95 -182592.715785  1.314063e+08   8.527171e+18\n",
              "96 -180695.027787  3.963520e+08   6.483656e+17\n",
              "97 -176236.377962  3.430716e+08   9.163142e+17\n",
              "98 -176300.332351  2.922288e+08   1.193225e+18\n",
              "99 -185034.354504  2.238908e+08   2.952550e+18\n",
              "\n",
              "[100 rows x 3 columns]"
            ],
            "text/html": [
              "\n",
              "  <div id=\"df-c21e0ded-64fb-4f76-94b6-16a7dec12bba\">\n",
              "    <div class=\"colab-df-container\">\n",
              "      <div>\n",
              "<style scoped>\n",
              "    .dataframe tbody tr th:only-of-type {\n",
              "        vertical-align: middle;\n",
              "    }\n",
              "\n",
              "    .dataframe tbody tr th {\n",
              "        vertical-align: top;\n",
              "    }\n",
              "\n",
              "    .dataframe thead th {\n",
              "        text-align: right;\n",
              "    }\n",
              "</style>\n",
              "<table border=\"1\" class=\"dataframe\">\n",
              "  <thead>\n",
              "    <tr style=\"text-align: right;\">\n",
              "      <th></th>\n",
              "      <th>power</th>\n",
              "      <th>economic</th>\n",
              "      <th>environmental</th>\n",
              "    </tr>\n",
              "  </thead>\n",
              "  <tbody>\n",
              "    <tr>\n",
              "      <th>0</th>\n",
              "      <td>-186228.641686</td>\n",
              "      <td>1.305396e+08</td>\n",
              "      <td>9.145429e+18</td>\n",
              "    </tr>\n",
              "    <tr>\n",
              "      <th>1</th>\n",
              "      <td>-186351.329234</td>\n",
              "      <td>5.550031e+08</td>\n",
              "      <td>3.207783e+17</td>\n",
              "    </tr>\n",
              "    <tr>\n",
              "      <th>2</th>\n",
              "      <td>-186388.777992</td>\n",
              "      <td>1.331903e+08</td>\n",
              "      <td>8.541120e+18</td>\n",
              "    </tr>\n",
              "    <tr>\n",
              "      <th>3</th>\n",
              "      <td>-172598.461539</td>\n",
              "      <td>1.191653e+08</td>\n",
              "      <td>8.855202e+18</td>\n",
              "    </tr>\n",
              "    <tr>\n",
              "      <th>4</th>\n",
              "      <td>-172540.236387</td>\n",
              "      <td>5.174678e+08</td>\n",
              "      <td>2.772336e+17</td>\n",
              "    </tr>\n",
              "    <tr>\n",
              "      <th>...</th>\n",
              "      <td>...</td>\n",
              "      <td>...</td>\n",
              "      <td>...</td>\n",
              "    </tr>\n",
              "    <tr>\n",
              "      <th>95</th>\n",
              "      <td>-182592.715785</td>\n",
              "      <td>1.314063e+08</td>\n",
              "      <td>8.527171e+18</td>\n",
              "    </tr>\n",
              "    <tr>\n",
              "      <th>96</th>\n",
              "      <td>-180695.027787</td>\n",
              "      <td>3.963520e+08</td>\n",
              "      <td>6.483656e+17</td>\n",
              "    </tr>\n",
              "    <tr>\n",
              "      <th>97</th>\n",
              "      <td>-176236.377962</td>\n",
              "      <td>3.430716e+08</td>\n",
              "      <td>9.163142e+17</td>\n",
              "    </tr>\n",
              "    <tr>\n",
              "      <th>98</th>\n",
              "      <td>-176300.332351</td>\n",
              "      <td>2.922288e+08</td>\n",
              "      <td>1.193225e+18</td>\n",
              "    </tr>\n",
              "    <tr>\n",
              "      <th>99</th>\n",
              "      <td>-185034.354504</td>\n",
              "      <td>2.238908e+08</td>\n",
              "      <td>2.952550e+18</td>\n",
              "    </tr>\n",
              "  </tbody>\n",
              "</table>\n",
              "<p>100 rows × 3 columns</p>\n",
              "</div>\n",
              "      <button class=\"colab-df-convert\" onclick=\"convertToInteractive('df-c21e0ded-64fb-4f76-94b6-16a7dec12bba')\"\n",
              "              title=\"Convert this dataframe to an interactive table.\"\n",
              "              style=\"display:none;\">\n",
              "        \n",
              "  <svg xmlns=\"http://www.w3.org/2000/svg\" height=\"24px\"viewBox=\"0 0 24 24\"\n",
              "       width=\"24px\">\n",
              "    <path d=\"M0 0h24v24H0V0z\" fill=\"none\"/>\n",
              "    <path d=\"M18.56 5.44l.94 2.06.94-2.06 2.06-.94-2.06-.94-.94-2.06-.94 2.06-2.06.94zm-11 1L8.5 8.5l.94-2.06 2.06-.94-2.06-.94L8.5 2.5l-.94 2.06-2.06.94zm10 10l.94 2.06.94-2.06 2.06-.94-2.06-.94-.94-2.06-.94 2.06-2.06.94z\"/><path d=\"M17.41 7.96l-1.37-1.37c-.4-.4-.92-.59-1.43-.59-.52 0-1.04.2-1.43.59L10.3 9.45l-7.72 7.72c-.78.78-.78 2.05 0 2.83L4 21.41c.39.39.9.59 1.41.59.51 0 1.02-.2 1.41-.59l7.78-7.78 2.81-2.81c.8-.78.8-2.07 0-2.86zM5.41 20L4 18.59l7.72-7.72 1.47 1.35L5.41 20z\"/>\n",
              "  </svg>\n",
              "      </button>\n",
              "      \n",
              "  <style>\n",
              "    .colab-df-container {\n",
              "      display:flex;\n",
              "      flex-wrap:wrap;\n",
              "      gap: 12px;\n",
              "    }\n",
              "\n",
              "    .colab-df-convert {\n",
              "      background-color: #E8F0FE;\n",
              "      border: none;\n",
              "      border-radius: 50%;\n",
              "      cursor: pointer;\n",
              "      display: none;\n",
              "      fill: #1967D2;\n",
              "      height: 32px;\n",
              "      padding: 0 0 0 0;\n",
              "      width: 32px;\n",
              "    }\n",
              "\n",
              "    .colab-df-convert:hover {\n",
              "      background-color: #E2EBFA;\n",
              "      box-shadow: 0px 1px 2px rgba(60, 64, 67, 0.3), 0px 1px 3px 1px rgba(60, 64, 67, 0.15);\n",
              "      fill: #174EA6;\n",
              "    }\n",
              "\n",
              "    [theme=dark] .colab-df-convert {\n",
              "      background-color: #3B4455;\n",
              "      fill: #D2E3FC;\n",
              "    }\n",
              "\n",
              "    [theme=dark] .colab-df-convert:hover {\n",
              "      background-color: #434B5C;\n",
              "      box-shadow: 0px 1px 3px 1px rgba(0, 0, 0, 0.15);\n",
              "      filter: drop-shadow(0px 1px 2px rgba(0, 0, 0, 0.3));\n",
              "      fill: #FFFFFF;\n",
              "    }\n",
              "  </style>\n",
              "\n",
              "      <script>\n",
              "        const buttonEl =\n",
              "          document.querySelector('#df-c21e0ded-64fb-4f76-94b6-16a7dec12bba button.colab-df-convert');\n",
              "        buttonEl.style.display =\n",
              "          google.colab.kernel.accessAllowed ? 'block' : 'none';\n",
              "\n",
              "        async function convertToInteractive(key) {\n",
              "          const element = document.querySelector('#df-c21e0ded-64fb-4f76-94b6-16a7dec12bba');\n",
              "          const dataTable =\n",
              "            await google.colab.kernel.invokeFunction('convertToInteractive',\n",
              "                                                     [key], {});\n",
              "          if (!dataTable) return;\n",
              "\n",
              "          const docLinkHtml = 'Like what you see? Visit the ' +\n",
              "            '<a target=\"_blank\" href=https://colab.research.google.com/notebooks/data_table.ipynb>data table notebook</a>'\n",
              "            + ' to learn more about interactive tables.';\n",
              "          element.innerHTML = '';\n",
              "          dataTable['output_type'] = 'display_data';\n",
              "          await google.colab.output.renderOutput(dataTable, element);\n",
              "          const docLink = document.createElement('div');\n",
              "          docLink.innerHTML = docLinkHtml;\n",
              "          element.appendChild(docLink);\n",
              "        }\n",
              "      </script>\n",
              "    </div>\n",
              "  </div>\n",
              "  "
            ]
          },
          "metadata": {}
        },
        {
          "output_type": "display_data",
          "data": {
            "text/html": [
              "<html>\n",
              "<head><meta charset=\"utf-8\" /></head>\n",
              "<body>\n",
              "    <div>            <script src=\"https://cdnjs.cloudflare.com/ajax/libs/mathjax/2.7.5/MathJax.js?config=TeX-AMS-MML_SVG\"></script><script type=\"text/javascript\">if (window.MathJax) {MathJax.Hub.Config({SVG: {font: \"STIX-Web\"}});}</script>                <script type=\"text/javascript\">window.PlotlyConfig = {MathJaxConfig: 'local'};</script>\n",
              "        <script src=\"https://cdn.plot.ly/plotly-2.8.3.min.js\"></script>                <div id=\"8027a575-e259-4111-9ad2-1cd8015b8804\" class=\"plotly-graph-div\" style=\"height:525px; width:100%;\"></div>            <script type=\"text/javascript\">                                    window.PLOTLYENV=window.PLOTLYENV || {};                                    if (document.getElementById(\"8027a575-e259-4111-9ad2-1cd8015b8804\")) {                    Plotly.newPlot(                        \"8027a575-e259-4111-9ad2-1cd8015b8804\",                        [{\"hovertemplate\":\"power=%{x}<br>economic=%{y}<br>environmental=%{z}<extra></extra>\",\"legendgroup\":\"\",\"marker\":{\"color\":\"#636efa\",\"symbol\":\"circle\"},\"mode\":\"markers\",\"name\":\"\",\"scene\":\"scene\",\"showlegend\":false,\"x\":[-186228.64168601396,-186351.3292338041,-186388.77799195895,-172598.4615389853,-172540.23638701963,-172508.47410974104,-177340.60728323524,-175450.42392995852,-184199.59216980584,-185761.3507309067,-184440.20226185667,-185145.62812463875,-180477.4779789117,-181414.7145195075,-174032.272573243,-178632.85533122806,-186070.57703215256,-179270.3822420923,-182470.17140566622,-182617.71064200872,-182462.10331621804,-179071.75179328406,-178811.34980098862,-174673.3343688771,-173845.59272138315,-184013.87426991432,-183228.17887472105,-183693.4394504858,-185954.50176950617,-182047.85668188697,-174831.663939658,-185193.46207691723,-181652.92125501117,-175997.82720595144,-173405.15385298015,-175695.28982328175,-184666.087759503,-182866.6286479254,-173557.05964840756,-183533.25077187436,-173464.6728396122,-173751.3048107694,-181545.14149186804,-173104.87404891927,-185364.59448390838,-183458.5379422919,-176418.84173937526,-176829.52246730472,-172884.1958052139,-177530.2184019637,-172836.99482565717,-178085.130421712,-185565.1301140287,-184973.02755293605,-183189.03488259192,-183053.30989150482,-177822.29624113312,-184932.44965673288,-174043.80791342398,-179792.07244453894,-174878.25305396595,-176207.73502198825,-177461.2532722267,-180167.93125603738,-174457.10067507246,-177938.48955306504,-186243.19418053713,-178421.02110017184,-179022.65000881458,-174411.35324114174,-176538.15083520266,-182680.77314157452,-184310.4155063085,-175203.6653501448,-172986.95143901222,-174542.08555644425,-182143.72784935765,-175074.32185483212,-177742.78228763267,-177931.79069178825,-179552.65031370777,-181185.7368973132,-186103.9443835317,-176944.29478123688,-176412.12419865408,-180162.56274223584,-181822.13185920363,-177204.8907821163,-174307.74044689958,-183836.58890705206,-184750.43216541162,-178716.56047777066,-174952.51753236048,-182865.01359818282,-178274.95023313313,-182592.71578467696,-180695.0277870337,-176236.3779618279,-176300.33235126265,-185034.35450436294],\"y\":[130539599.27475289,555003149.407518,133190299.02037983,119165313.00387836,517467759.8280928,179520651.1649916,148931806.6871044,496892529.8302881,152284610.40474653,155840539.94966513,337440222.8717868,482485621.20127964,213773712.62729686,168969013.81881282,175609303.35340142,124149441.60766977,189198826.62255627,353121008.9075157,310859938.7931414,151746702.65697107,322296675.5999254,293416868.2516734,250358925.54520357,423145555.6571529,147930171.02843815,542163125.4461052,447418784.83749104,203554822.5650098,143862141.69688645,270286124.68997735,171806183.09375045,451911256.0670577,434487312.0856182,138156202.69804925,393886134.5280416,533794574.19956666,134949098.7663461,188337325.73438373,384632144.42002666,222238890.39662078,135504423.3866333,286522836.263273,319087309.21470046,235632045.9578571,192283513.89441645,173196013.41347092,195242806.51726228,178468725.1938692,514021835.2746817,183064210.63619813,131399173.20719302,463489980.3992591,193331463.02479282,304483470.47813463,183690565.40513897,307963710.6492808,276316657.6487217,264784127.3375038,206815832.14385808,139412240.1338589,362064473.4927075,381452231.8775819,145258218.92491105,140274870.39176658,146048795.60913464,367397884.5017769,436080432.5526848,252422726.8040425,230791285.02568272,212211481.56031337,168212040.2128951,142339209.28699338,355211783.93297654,138286811.40348542,147461681.20177057,522565869.3314854,349133275.58906436,260067079.87805647,407534548.41189563,168496017.09870577,411134631.6595264,241161425.95396954,547914998.3987802,164094294.70734972,123107731.80520107,239711939.16282666,141870719.46032584,175104172.3347805,522103461.17221665,141152715.36191842,146826844.1821625,129449540.44532995,402548489.1884423,131629691.8144982,276638041.9830417,131406347.86741078,396352042.9039284,343071645.82141274,292228783.7108634,223890782.6841505],\"z\":[9.1454290782199e+18,3.207782990972041e+17,8.541120422766916e+18,8.855202340043074e+18,2.7723357918008403e+17,3.0479682179498076e+18,5.846683854214175e+18,3.152567531411906e+17,6.163276183576209e+18,8.039340122567804e+18,1.3112063366094587e+18,3.733107535435226e+17,2.705654721833851e+18,5.296284385920462e+18,4.219540971293476e+18,8.884960220617503e+18,3.9125060848923126e+18,1.0220021659955443e+18,1.484914528641582e+18,6.465635430051817e+18,1.343133738858193e+18,1.401374702084647e+18,2.2182851942006036e+18,3.532967528447497e+17,5.549677543688148e+18,3.182638409947185e+17,4.8896445398050496e+17,3.0952063160148014e+18,8.156896394195743e+18,2.071039601363035e+18,4.35348782790557e+18,6.411315824305656e+17,5.0666001145857114e+17,7.045699920789364e+18,4.7602123686291283e+17,2.972281531878277e+17,8.292042334726281e+18,3.624586790653827e+18,6.64970631589287e+17,2.9499580860726436e+18,6.777632681959084e+18,1.2855995476867328e+18,1.261883252099369e+18,1.949675486206301e+18,3.26913977256631e+18,5.113159457864002e+18,3.1632887796987453e+18,4.5033613904257623e+18,3.10917286705622e+17,3.4307181143110753e+18,6.972309716188263e+18,3.312992660947973e+17,3.308668066856395e+18,1.9015190111387528e+18,3.7942276156096425e+18,1.7883968007349174e+18,1.6582544083587597e+18,2.453219457934505e+18,2.7614667028579973e+18,7.670727898535623e+18,7.69373441493721e+17,7.373160786883126e+17,7.249826221148384e+18,7.671573684770984e+18,6.311340073808884e+18,8.518897130186369e+17,6.891883464318839e+17,2.1433269130678118e+18,2.3791718752757955e+18,2.8319223965684055e+18,4.896633346850623e+18,7.542865307365176e+18,1.1296275433799977e+18,6.779460710907906e+18,5.460535220154099e+18,3.02336468819646e+17,1.1282184671409416e+18,2.065616219076589e+18,6.071288040028916e+17,4.698480337656771e+18,5.048230403111027e+17,2.5796099460937155e+18,3.2265800453028774e+17,5.067025722585494e+18,8.732304858255264e+18,2.577936820067238e+18,7.453722983831128e+18,4.5146157768582815e+18,2.8971174692109677e+17,7.853816987157731e+18,7.853273668066701e+18,8.737149705230379e+18,4.671435274253642e+17,8.545204357409665e+18,1.6746217308451576e+18,8.527170579759602e+18,6.483656244714565e+17,9.163142286365958e+17,1.193224649534906e+18,2.9525500840966733e+18],\"type\":\"scatter3d\"}],                        {\"template\":{\"data\":{\"bar\":[{\"error_x\":{\"color\":\"#2a3f5f\"},\"error_y\":{\"color\":\"#2a3f5f\"},\"marker\":{\"line\":{\"color\":\"#E5ECF6\",\"width\":0.5},\"pattern\":{\"fillmode\":\"overlay\",\"size\":10,\"solidity\":0.2}},\"type\":\"bar\"}],\"barpolar\":[{\"marker\":{\"line\":{\"color\":\"#E5ECF6\",\"width\":0.5},\"pattern\":{\"fillmode\":\"overlay\",\"size\":10,\"solidity\":0.2}},\"type\":\"barpolar\"}],\"carpet\":[{\"aaxis\":{\"endlinecolor\":\"#2a3f5f\",\"gridcolor\":\"white\",\"linecolor\":\"white\",\"minorgridcolor\":\"white\",\"startlinecolor\":\"#2a3f5f\"},\"baxis\":{\"endlinecolor\":\"#2a3f5f\",\"gridcolor\":\"white\",\"linecolor\":\"white\",\"minorgridcolor\":\"white\",\"startlinecolor\":\"#2a3f5f\"},\"type\":\"carpet\"}],\"choropleth\":[{\"colorbar\":{\"outlinewidth\":0,\"ticks\":\"\"},\"type\":\"choropleth\"}],\"contour\":[{\"colorbar\":{\"outlinewidth\":0,\"ticks\":\"\"},\"colorscale\":[[0.0,\"#0d0887\"],[0.1111111111111111,\"#46039f\"],[0.2222222222222222,\"#7201a8\"],[0.3333333333333333,\"#9c179e\"],[0.4444444444444444,\"#bd3786\"],[0.5555555555555556,\"#d8576b\"],[0.6666666666666666,\"#ed7953\"],[0.7777777777777778,\"#fb9f3a\"],[0.8888888888888888,\"#fdca26\"],[1.0,\"#f0f921\"]],\"type\":\"contour\"}],\"contourcarpet\":[{\"colorbar\":{\"outlinewidth\":0,\"ticks\":\"\"},\"type\":\"contourcarpet\"}],\"heatmap\":[{\"colorbar\":{\"outlinewidth\":0,\"ticks\":\"\"},\"colorscale\":[[0.0,\"#0d0887\"],[0.1111111111111111,\"#46039f\"],[0.2222222222222222,\"#7201a8\"],[0.3333333333333333,\"#9c179e\"],[0.4444444444444444,\"#bd3786\"],[0.5555555555555556,\"#d8576b\"],[0.6666666666666666,\"#ed7953\"],[0.7777777777777778,\"#fb9f3a\"],[0.8888888888888888,\"#fdca26\"],[1.0,\"#f0f921\"]],\"type\":\"heatmap\"}],\"heatmapgl\":[{\"colorbar\":{\"outlinewidth\":0,\"ticks\":\"\"},\"colorscale\":[[0.0,\"#0d0887\"],[0.1111111111111111,\"#46039f\"],[0.2222222222222222,\"#7201a8\"],[0.3333333333333333,\"#9c179e\"],[0.4444444444444444,\"#bd3786\"],[0.5555555555555556,\"#d8576b\"],[0.6666666666666666,\"#ed7953\"],[0.7777777777777778,\"#fb9f3a\"],[0.8888888888888888,\"#fdca26\"],[1.0,\"#f0f921\"]],\"type\":\"heatmapgl\"}],\"histogram\":[{\"marker\":{\"pattern\":{\"fillmode\":\"overlay\",\"size\":10,\"solidity\":0.2}},\"type\":\"histogram\"}],\"histogram2d\":[{\"colorbar\":{\"outlinewidth\":0,\"ticks\":\"\"},\"colorscale\":[[0.0,\"#0d0887\"],[0.1111111111111111,\"#46039f\"],[0.2222222222222222,\"#7201a8\"],[0.3333333333333333,\"#9c179e\"],[0.4444444444444444,\"#bd3786\"],[0.5555555555555556,\"#d8576b\"],[0.6666666666666666,\"#ed7953\"],[0.7777777777777778,\"#fb9f3a\"],[0.8888888888888888,\"#fdca26\"],[1.0,\"#f0f921\"]],\"type\":\"histogram2d\"}],\"histogram2dcontour\":[{\"colorbar\":{\"outlinewidth\":0,\"ticks\":\"\"},\"colorscale\":[[0.0,\"#0d0887\"],[0.1111111111111111,\"#46039f\"],[0.2222222222222222,\"#7201a8\"],[0.3333333333333333,\"#9c179e\"],[0.4444444444444444,\"#bd3786\"],[0.5555555555555556,\"#d8576b\"],[0.6666666666666666,\"#ed7953\"],[0.7777777777777778,\"#fb9f3a\"],[0.8888888888888888,\"#fdca26\"],[1.0,\"#f0f921\"]],\"type\":\"histogram2dcontour\"}],\"mesh3d\":[{\"colorbar\":{\"outlinewidth\":0,\"ticks\":\"\"},\"type\":\"mesh3d\"}],\"parcoords\":[{\"line\":{\"colorbar\":{\"outlinewidth\":0,\"ticks\":\"\"}},\"type\":\"parcoords\"}],\"pie\":[{\"automargin\":true,\"type\":\"pie\"}],\"scatter\":[{\"marker\":{\"colorbar\":{\"outlinewidth\":0,\"ticks\":\"\"}},\"type\":\"scatter\"}],\"scatter3d\":[{\"line\":{\"colorbar\":{\"outlinewidth\":0,\"ticks\":\"\"}},\"marker\":{\"colorbar\":{\"outlinewidth\":0,\"ticks\":\"\"}},\"type\":\"scatter3d\"}],\"scattercarpet\":[{\"marker\":{\"colorbar\":{\"outlinewidth\":0,\"ticks\":\"\"}},\"type\":\"scattercarpet\"}],\"scattergeo\":[{\"marker\":{\"colorbar\":{\"outlinewidth\":0,\"ticks\":\"\"}},\"type\":\"scattergeo\"}],\"scattergl\":[{\"marker\":{\"colorbar\":{\"outlinewidth\":0,\"ticks\":\"\"}},\"type\":\"scattergl\"}],\"scattermapbox\":[{\"marker\":{\"colorbar\":{\"outlinewidth\":0,\"ticks\":\"\"}},\"type\":\"scattermapbox\"}],\"scatterpolar\":[{\"marker\":{\"colorbar\":{\"outlinewidth\":0,\"ticks\":\"\"}},\"type\":\"scatterpolar\"}],\"scatterpolargl\":[{\"marker\":{\"colorbar\":{\"outlinewidth\":0,\"ticks\":\"\"}},\"type\":\"scatterpolargl\"}],\"scatterternary\":[{\"marker\":{\"colorbar\":{\"outlinewidth\":0,\"ticks\":\"\"}},\"type\":\"scatterternary\"}],\"surface\":[{\"colorbar\":{\"outlinewidth\":0,\"ticks\":\"\"},\"colorscale\":[[0.0,\"#0d0887\"],[0.1111111111111111,\"#46039f\"],[0.2222222222222222,\"#7201a8\"],[0.3333333333333333,\"#9c179e\"],[0.4444444444444444,\"#bd3786\"],[0.5555555555555556,\"#d8576b\"],[0.6666666666666666,\"#ed7953\"],[0.7777777777777778,\"#fb9f3a\"],[0.8888888888888888,\"#fdca26\"],[1.0,\"#f0f921\"]],\"type\":\"surface\"}],\"table\":[{\"cells\":{\"fill\":{\"color\":\"#EBF0F8\"},\"line\":{\"color\":\"white\"}},\"header\":{\"fill\":{\"color\":\"#C8D4E3\"},\"line\":{\"color\":\"white\"}},\"type\":\"table\"}]},\"layout\":{\"annotationdefaults\":{\"arrowcolor\":\"#2a3f5f\",\"arrowhead\":0,\"arrowwidth\":1},\"autotypenumbers\":\"strict\",\"coloraxis\":{\"colorbar\":{\"outlinewidth\":0,\"ticks\":\"\"}},\"colorscale\":{\"diverging\":[[0,\"#8e0152\"],[0.1,\"#c51b7d\"],[0.2,\"#de77ae\"],[0.3,\"#f1b6da\"],[0.4,\"#fde0ef\"],[0.5,\"#f7f7f7\"],[0.6,\"#e6f5d0\"],[0.7,\"#b8e186\"],[0.8,\"#7fbc41\"],[0.9,\"#4d9221\"],[1,\"#276419\"]],\"sequential\":[[0.0,\"#0d0887\"],[0.1111111111111111,\"#46039f\"],[0.2222222222222222,\"#7201a8\"],[0.3333333333333333,\"#9c179e\"],[0.4444444444444444,\"#bd3786\"],[0.5555555555555556,\"#d8576b\"],[0.6666666666666666,\"#ed7953\"],[0.7777777777777778,\"#fb9f3a\"],[0.8888888888888888,\"#fdca26\"],[1.0,\"#f0f921\"]],\"sequentialminus\":[[0.0,\"#0d0887\"],[0.1111111111111111,\"#46039f\"],[0.2222222222222222,\"#7201a8\"],[0.3333333333333333,\"#9c179e\"],[0.4444444444444444,\"#bd3786\"],[0.5555555555555556,\"#d8576b\"],[0.6666666666666666,\"#ed7953\"],[0.7777777777777778,\"#fb9f3a\"],[0.8888888888888888,\"#fdca26\"],[1.0,\"#f0f921\"]]},\"colorway\":[\"#636efa\",\"#EF553B\",\"#00cc96\",\"#ab63fa\",\"#FFA15A\",\"#19d3f3\",\"#FF6692\",\"#B6E880\",\"#FF97FF\",\"#FECB52\"],\"font\":{\"color\":\"#2a3f5f\"},\"geo\":{\"bgcolor\":\"white\",\"lakecolor\":\"white\",\"landcolor\":\"#E5ECF6\",\"showlakes\":true,\"showland\":true,\"subunitcolor\":\"white\"},\"hoverlabel\":{\"align\":\"left\"},\"hovermode\":\"closest\",\"mapbox\":{\"style\":\"light\"},\"paper_bgcolor\":\"white\",\"plot_bgcolor\":\"#E5ECF6\",\"polar\":{\"angularaxis\":{\"gridcolor\":\"white\",\"linecolor\":\"white\",\"ticks\":\"\"},\"bgcolor\":\"#E5ECF6\",\"radialaxis\":{\"gridcolor\":\"white\",\"linecolor\":\"white\",\"ticks\":\"\"}},\"scene\":{\"xaxis\":{\"backgroundcolor\":\"#E5ECF6\",\"gridcolor\":\"white\",\"gridwidth\":2,\"linecolor\":\"white\",\"showbackground\":true,\"ticks\":\"\",\"zerolinecolor\":\"white\"},\"yaxis\":{\"backgroundcolor\":\"#E5ECF6\",\"gridcolor\":\"white\",\"gridwidth\":2,\"linecolor\":\"white\",\"showbackground\":true,\"ticks\":\"\",\"zerolinecolor\":\"white\"},\"zaxis\":{\"backgroundcolor\":\"#E5ECF6\",\"gridcolor\":\"white\",\"gridwidth\":2,\"linecolor\":\"white\",\"showbackground\":true,\"ticks\":\"\",\"zerolinecolor\":\"white\"}},\"shapedefaults\":{\"line\":{\"color\":\"#2a3f5f\"}},\"ternary\":{\"aaxis\":{\"gridcolor\":\"white\",\"linecolor\":\"white\",\"ticks\":\"\"},\"baxis\":{\"gridcolor\":\"white\",\"linecolor\":\"white\",\"ticks\":\"\"},\"bgcolor\":\"#E5ECF6\",\"caxis\":{\"gridcolor\":\"white\",\"linecolor\":\"white\",\"ticks\":\"\"}},\"title\":{\"x\":0.05},\"xaxis\":{\"automargin\":true,\"gridcolor\":\"white\",\"linecolor\":\"white\",\"ticks\":\"\",\"title\":{\"standoff\":15},\"zerolinecolor\":\"white\",\"zerolinewidth\":2},\"yaxis\":{\"automargin\":true,\"gridcolor\":\"white\",\"linecolor\":\"white\",\"ticks\":\"\",\"title\":{\"standoff\":15},\"zerolinecolor\":\"white\",\"zerolinewidth\":2}}},\"scene\":{\"domain\":{\"x\":[0.0,1.0],\"y\":[0.0,1.0]},\"xaxis\":{\"title\":{\"text\":\"power\"}},\"yaxis\":{\"title\":{\"text\":\"economic\"}},\"zaxis\":{\"title\":{\"text\":\"environmental\"}}},\"legend\":{\"tracegroupgap\":0},\"margin\":{\"t\":60}},                        {\"responsive\": true}                    ).then(function(){\n",
              "                            \n",
              "var gd = document.getElementById('8027a575-e259-4111-9ad2-1cd8015b8804');\n",
              "var x = new MutationObserver(function (mutations, observer) {{\n",
              "        var display = window.getComputedStyle(gd).display;\n",
              "        if (!display || display === 'none') {{\n",
              "            console.log([gd, 'removed!']);\n",
              "            Plotly.purge(gd);\n",
              "            observer.disconnect();\n",
              "        }}\n",
              "}});\n",
              "\n",
              "// Listen for the removal of the full notebook cells\n",
              "var notebookContainer = gd.closest('#notebook-container');\n",
              "if (notebookContainer) {{\n",
              "    x.observe(notebookContainer, {childList: true});\n",
              "}}\n",
              "\n",
              "// Listen for the clearing of the current output cell\n",
              "var outputEl = gd.closest('.output');\n",
              "if (outputEl) {{\n",
              "    x.observe(outputEl, {childList: true});\n",
              "}}\n",
              "\n",
              "                        })                };                            </script>        </div>\n",
              "</body>\n",
              "</html>"
            ]
          },
          "metadata": {}
        }
      ],
      "source": [
        "import pandas as pd\n",
        "df = res.F\n",
        "dict = {'power':df[:,0],\n",
        "        'economic':df[:,1],\n",
        "        'environmental':df[:,2]\n",
        "       }\n",
        "dataf = pd.DataFrame(dict)\n",
        "  \n",
        "display(dataf)\n",
        "fig = px.scatter_3d(dataf,'power', y='economic', z='environmental')\n",
        "\n",
        "fig.show()"
      ]
    },
    {
      "cell_type": "code",
      "source": [
        "print(dataf)"
      ],
      "metadata": {
        "id": "EtpMJh4BdbDn"
      },
      "execution_count": null,
      "outputs": []
    },
    {
      "cell_type": "code",
      "source": [
        "from pymoo.visualization.scatter import Scatter\n",
        "from pymoo.algorithms.moo.nsga2 import RankAndCrowdingSurvival\n",
        "from pymoo.core.mixed import MixedVariableGA\n",
        "from pymoo.optimize import minimize\n",
        "\n",
        "problem = MultiObjectiveMixedVariableProblem()\n",
        "\n",
        "algorithm = MixedVariableGA(pop_size=100, survival=RankAndCrowdingSurvival())\n",
        "\n",
        "res = minimize(problem,\n",
        "               algorithm,\n",
        "               ('n_gen', 500),\n",
        "               seed=1,\n",
        "               verbose=False)\n",
        "\n",
        "import pandas as pd\n",
        "df = res.F\n",
        "dict = {'power':df[:,0],\n",
        "        'economic':df[:,1],\n",
        "        'environmental':df[:,2]\n",
        "       }\n",
        "dataf = pd.DataFrame(dict)\n",
        "  \n",
        "display(dataf)\n",
        "fig = px.scatter_3d(dataf, x='power', y='economic', z='environmental')\n",
        "fig.show()"
      ],
      "metadata": {
        "id": "2As50WdpNv_w"
      },
      "execution_count": null,
      "outputs": []
    },
    {
      "cell_type": "code",
      "source": [
        "import numpy as np\n",
        "weights = np.array([0.1, 0.6, 0.3])\n",
        "from pymoo.decomposition.asf import ASF\n",
        "import plotly.graph_objects as go\n",
        "import numpy as np\n",
        "decomp = ASF()\n",
        "i = decomp.do(df, 1/weights).argmin()\n",
        "print(\"Best regarding ASF: Point \\ni = %s\\nF = %s\" % (i, df[i]))\n",
        "\n",
        "#fig.show()\n",
        "\n"
      ],
      "metadata": {
        "id": "cOUzyc2E1XZa"
      },
      "execution_count": null,
      "outputs": []
    },
    {
      "cell_type": "code",
      "source": [
        "print(res.X[i])"
      ],
      "metadata": {
        "colab": {
          "base_uri": "https://localhost:8080/"
        },
        "id": "fX-zcHfLc6R2",
        "outputId": "b58a1d4e-b995-403f-db60-3fd4c5882019"
      },
      "execution_count": null,
      "outputs": [
        {
          "output_type": "stream",
          "name": "stdout",
          "text": [
            "{'nnu': 694, 'nhydro': 792, 'nng': 0, 'npe': 0, 'nco': 0, 'nw': 974, 'nso': 862}\n",
            "time: 811 µs (started: 2022-12-01 09:57:53 +00:00)\n"
          ]
        }
      ]
    }
  ],
  "metadata": {
    "colab": {
      "provenance": []
    },
    "kernelspec": {
      "display_name": "Python 3",
      "name": "python3"
    },
    "language_info": {
      "name": "python"
    }
  },
  "nbformat": 4,
  "nbformat_minor": 0
}